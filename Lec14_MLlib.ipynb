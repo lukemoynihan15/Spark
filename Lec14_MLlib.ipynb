{
 "cells": [
  {
   "cell_type": "code",
   "execution_count": 1,
   "metadata": {},
   "outputs": [],
   "source": [
    "import findspark\n",
    "\n",
    "findspark.init('/opt/spark')"
   ]
  },
  {
   "cell_type": "code",
   "execution_count": 2,
   "metadata": {},
   "outputs": [],
   "source": [
    "from pyspark.sql import SparkSession\n",
    "\n",
    "from pyspark import SparkFiles"
   ]
  },
  {
   "cell_type": "code",
   "execution_count": 3,
   "metadata": {},
   "outputs": [],
   "source": [
    "spark = SparkSession.builder.appName('lec14_MLlib_moynihanl').getOrCreate()"
   ]
  },
  {
   "cell_type": "code",
   "execution_count": 4,
   "metadata": {},
   "outputs": [],
   "source": [
    "url = 'https://raw.githubusercontent.com/BlueJayADAL/DS420/master/datasets/mllib/sample_linear_regression_data.txt'"
   ]
  },
  {
   "cell_type": "code",
   "execution_count": 5,
   "metadata": {},
   "outputs": [],
   "source": [
    "spark.sparkContext.addFile(url)"
   ]
  },
  {
   "cell_type": "code",
   "execution_count": 6,
   "metadata": {},
   "outputs": [
    {
     "data": {
      "text/plain": [
       "'/tmp/spark-b0c8ac60-920b-454c-891a-08c6500b9635/userFiles-e23735be-7047-4d21-be62-17c4f8ce45e8/sample_linear_regression_data.txt'"
      ]
     },
     "execution_count": 6,
     "metadata": {},
     "output_type": "execute_result"
    }
   ],
   "source": [
    "fileloc = SparkFiles.get('sample_linear_regression_data.txt')\n",
    "fileloc"
   ]
  },
  {
   "cell_type": "code",
   "execution_count": 7,
   "metadata": {},
   "outputs": [
    {
     "name": "stdout",
     "output_type": "stream",
     "text": [
      "+-------------------+--------------------+\n",
      "|              label|            features|\n",
      "+-------------------+--------------------+\n",
      "| -9.490009878824548|(10,[0,1,2,3,4,5,...|\n",
      "| 0.2577820163584905|(10,[0,1,2,3,4,5,...|\n",
      "| -4.438869807456516|(10,[0,1,2,3,4,5,...|\n",
      "|-19.782762789614537|(10,[0,1,2,3,4,5,...|\n",
      "| -7.966593841555266|(10,[0,1,2,3,4,5,...|\n",
      "| -7.896274316726144|(10,[0,1,2,3,4,5,...|\n",
      "| -8.464803554195287|(10,[0,1,2,3,4,5,...|\n",
      "| 2.1214592666251364|(10,[0,1,2,3,4,5,...|\n",
      "| 1.0720117616524107|(10,[0,1,2,3,4,5,...|\n",
      "|-13.772441561702871|(10,[0,1,2,3,4,5,...|\n",
      "| -5.082010756207233|(10,[0,1,2,3,4,5,...|\n",
      "|  7.887786536531237|(10,[0,1,2,3,4,5,...|\n",
      "| 14.323146365332388|(10,[0,1,2,3,4,5,...|\n",
      "|-20.057482615789212|(10,[0,1,2,3,4,5,...|\n",
      "|-0.8995693247765151|(10,[0,1,2,3,4,5,...|\n",
      "| -19.16829262296376|(10,[0,1,2,3,4,5,...|\n",
      "|  5.601801561245534|(10,[0,1,2,3,4,5,...|\n",
      "|-3.2256352187273354|(10,[0,1,2,3,4,5,...|\n",
      "| 1.5299675726687754|(10,[0,1,2,3,4,5,...|\n",
      "| -0.250102447941961|(10,[0,1,2,3,4,5,...|\n",
      "+-------------------+--------------------+\n",
      "only showing top 20 rows\n",
      "\n"
     ]
    }
   ],
   "source": [
    "data = spark.read.format('libsvm').load('file://'+fileloc)\n",
    "data.show()"
   ]
  },
  {
   "cell_type": "code",
   "execution_count": 8,
   "metadata": {},
   "outputs": [],
   "source": [
    "from pyspark.ml.regression import LinearRegression"
   ]
  },
  {
   "cell_type": "code",
   "execution_count": 9,
   "metadata": {},
   "outputs": [],
   "source": [
    "lr = LinearRegression()"
   ]
  },
  {
   "cell_type": "code",
   "execution_count": 10,
   "metadata": {},
   "outputs": [],
   "source": [
    "##training"
   ]
  },
  {
   "cell_type": "code",
   "execution_count": 11,
   "metadata": {},
   "outputs": [],
   "source": [
    "lrModel = lr.fit(data)#not splitting into 80/20 "
   ]
  },
  {
   "cell_type": "code",
   "execution_count": 12,
   "metadata": {},
   "outputs": [
    {
     "data": {
      "text/plain": [
       "DenseVector([0.0073, 0.8314, -0.8095, 2.4412, 0.5192, 1.1535, -0.2989, -0.5129, -0.6197, 0.6956])"
      ]
     },
     "execution_count": 12,
     "metadata": {},
     "output_type": "execute_result"
    }
   ],
   "source": [
    "lrModel.coefficients"
   ]
  },
  {
   "cell_type": "code",
   "execution_count": 13,
   "metadata": {},
   "outputs": [
    {
     "data": {
      "text/plain": [
       "0.14228558260358093"
      ]
     },
     "execution_count": 13,
     "metadata": {},
     "output_type": "execute_result"
    }
   ],
   "source": [
    "lrModel.intercept"
   ]
  },
  {
   "cell_type": "code",
   "execution_count": 17,
   "metadata": {},
   "outputs": [
    {
     "name": "stdout",
     "output_type": "stream",
     "text": [
      "+-------------------+\n",
      "|          residuals|\n",
      "+-------------------+\n",
      "|-11.011130022096554|\n",
      "| 0.9236590911176538|\n",
      "|-4.5957401897776675|\n",
      "|  -20.4201774575836|\n",
      "|-10.339160314788181|\n",
      "|-5.9552091439610555|\n",
      "|-10.726906349283922|\n",
      "|  2.122807193191233|\n",
      "|  4.077122222293811|\n",
      "|-17.316168071241652|\n",
      "| -4.593044343959059|\n",
      "|  6.380476690746936|\n",
      "| 11.320566035059846|\n",
      "|-20.721971774534094|\n",
      "| -2.736692773777401|\n",
      "| -16.66886934252847|\n",
      "|  8.242186378876315|\n",
      "|-1.3723486332690233|\n",
      "|-0.7060332131264666|\n",
      "|-1.1591135969994064|\n",
      "+-------------------+\n",
      "only showing top 20 rows\n",
      "\n"
     ]
    }
   ],
   "source": [
    "trainingSummary = lrModel.summary\n",
    "trainingSummary.residuals.show()"
   ]
  },
  {
   "cell_type": "code",
   "execution_count": 18,
   "metadata": {},
   "outputs": [
    {
     "data": {
      "text/plain": [
       "10.16309157133015"
      ]
     },
     "execution_count": 18,
     "metadata": {},
     "output_type": "execute_result"
    }
   ],
   "source": [
    "trainingSummary.rootMeanSquaredError"
   ]
  },
  {
   "cell_type": "code",
   "execution_count": 19,
   "metadata": {},
   "outputs": [
    {
     "data": {
      "text/plain": [
       "0.027839179518600154"
      ]
     },
     "execution_count": 19,
     "metadata": {},
     "output_type": "execute_result"
    }
   ],
   "source": [
    "trainingSummary.r2"
   ]
  },
  {
   "cell_type": "code",
   "execution_count": 20,
   "metadata": {},
   "outputs": [],
   "source": [
    "## did bad bc u didnt standardize your data or split ur data into training and testing"
   ]
  },
  {
   "cell_type": "code",
   "execution_count": 21,
   "metadata": {},
   "outputs": [
    {
     "name": "stdout",
     "output_type": "stream",
     "text": [
      "+-------------------+--------------------+\n",
      "|              label|            features|\n",
      "+-------------------+--------------------+\n",
      "| -9.490009878824548|(10,[0,1,2,3,4,5,...|\n",
      "| 0.2577820163584905|(10,[0,1,2,3,4,5,...|\n",
      "| -4.438869807456516|(10,[0,1,2,3,4,5,...|\n",
      "|-19.782762789614537|(10,[0,1,2,3,4,5,...|\n",
      "| -7.966593841555266|(10,[0,1,2,3,4,5,...|\n",
      "| -7.896274316726144|(10,[0,1,2,3,4,5,...|\n",
      "| -8.464803554195287|(10,[0,1,2,3,4,5,...|\n",
      "| 2.1214592666251364|(10,[0,1,2,3,4,5,...|\n",
      "| 1.0720117616524107|(10,[0,1,2,3,4,5,...|\n",
      "|-13.772441561702871|(10,[0,1,2,3,4,5,...|\n",
      "| -5.082010756207233|(10,[0,1,2,3,4,5,...|\n",
      "|  7.887786536531237|(10,[0,1,2,3,4,5,...|\n",
      "| 14.323146365332388|(10,[0,1,2,3,4,5,...|\n",
      "|-20.057482615789212|(10,[0,1,2,3,4,5,...|\n",
      "|-0.8995693247765151|(10,[0,1,2,3,4,5,...|\n",
      "| -19.16829262296376|(10,[0,1,2,3,4,5,...|\n",
      "|  5.601801561245534|(10,[0,1,2,3,4,5,...|\n",
      "|-3.2256352187273354|(10,[0,1,2,3,4,5,...|\n",
      "| 1.5299675726687754|(10,[0,1,2,3,4,5,...|\n",
      "| -0.250102447941961|(10,[0,1,2,3,4,5,...|\n",
      "+-------------------+--------------------+\n",
      "only showing top 20 rows\n",
      "\n"
     ]
    }
   ],
   "source": [
    "data.show()"
   ]
  },
  {
   "cell_type": "code",
   "execution_count": 22,
   "metadata": {},
   "outputs": [],
   "source": [
    "train_data, test_data = data.randomSplit([0.7, 0.3], seed = 101) \n",
    "#you can do the 2 assignments bc the oiutput is a tuple of 2 so u assign it to 2 things"
   ]
  },
  {
   "cell_type": "code",
   "execution_count": 23,
   "metadata": {},
   "outputs": [],
   "source": [
    "unlabeled_test_data = test_data.select('features')  #only want 1st column"
   ]
  },
  {
   "cell_type": "code",
   "execution_count": 24,
   "metadata": {},
   "outputs": [
    {
     "name": "stdout",
     "output_type": "stream",
     "text": [
      "+--------------------+\n",
      "|            features|\n",
      "+--------------------+\n",
      "|(10,[0,1,2,3,4,5,...|\n",
      "|(10,[0,1,2,3,4,5,...|\n",
      "|(10,[0,1,2,3,4,5,...|\n",
      "|(10,[0,1,2,3,4,5,...|\n",
      "|(10,[0,1,2,3,4,5,...|\n",
      "|(10,[0,1,2,3,4,5,...|\n",
      "|(10,[0,1,2,3,4,5,...|\n",
      "|(10,[0,1,2,3,4,5,...|\n",
      "|(10,[0,1,2,3,4,5,...|\n",
      "|(10,[0,1,2,3,4,5,...|\n",
      "|(10,[0,1,2,3,4,5,...|\n",
      "|(10,[0,1,2,3,4,5,...|\n",
      "|(10,[0,1,2,3,4,5,...|\n",
      "|(10,[0,1,2,3,4,5,...|\n",
      "|(10,[0,1,2,3,4,5,...|\n",
      "|(10,[0,1,2,3,4,5,...|\n",
      "|(10,[0,1,2,3,4,5,...|\n",
      "|(10,[0,1,2,3,4,5,...|\n",
      "|(10,[0,1,2,3,4,5,...|\n",
      "|(10,[0,1,2,3,4,5,...|\n",
      "+--------------------+\n",
      "only showing top 20 rows\n",
      "\n"
     ]
    }
   ],
   "source": [
    "unlabeled_test_data.show()"
   ]
  },
  {
   "cell_type": "code",
   "execution_count": 25,
   "metadata": {},
   "outputs": [],
   "source": [
    "correct_model = lr.fit(train_data)"
   ]
  },
  {
   "cell_type": "code",
   "execution_count": 26,
   "metadata": {},
   "outputs": [],
   "source": [
    "test_results = correct_model.evaluate(test_data)"
   ]
  },
  {
   "cell_type": "code",
   "execution_count": 30,
   "metadata": {},
   "outputs": [
    {
     "name": "stdout",
     "output_type": "stream",
     "text": [
      "+-------------------+\n",
      "|          residuals|\n",
      "+-------------------+\n",
      "| -22.92688086325099|\n",
      "|-23.581726958109005|\n",
      "|-19.888094458605085|\n",
      "| -20.14417113986947|\n",
      "|-20.942188950435686|\n",
      "|-15.938668486002854|\n",
      "|-17.063135529884928|\n",
      "| -19.38416616300747|\n",
      "|-17.706594193268558|\n",
      "|-13.639777076011216|\n",
      "| -15.84962602737426|\n",
      "|-14.498724639701159|\n",
      "|-17.168032911839525|\n",
      "|-12.961765968226855|\n",
      "|-16.550011028747658|\n",
      "|  -16.5081906270365|\n",
      "|-15.599391059745287|\n",
      "|-11.269507521089366|\n",
      "| -9.980463212814138|\n",
      "|-12.659828957417815|\n",
      "+-------------------+\n",
      "only showing top 20 rows\n",
      "\n"
     ]
    }
   ],
   "source": [
    "test_results.residuals.show()"
   ]
  },
  {
   "cell_type": "code",
   "execution_count": 31,
   "metadata": {},
   "outputs": [
    {
     "data": {
      "text/plain": [
       "10.606655113517846"
      ]
     },
     "execution_count": 31,
     "metadata": {},
     "output_type": "execute_result"
    }
   ],
   "source": [
    "test_results.rootMeanSquaredError"
   ]
  },
  {
   "cell_type": "code",
   "execution_count": 33,
   "metadata": {},
   "outputs": [],
   "source": [
    "predictions = correct_model.transform(unlabeled_test_data)  \n",
    "#use model to make prediction on that feature vector"
   ]
  },
  {
   "cell_type": "code",
   "execution_count": 34,
   "metadata": {},
   "outputs": [
    {
     "name": "stdout",
     "output_type": "stream",
     "text": [
      "+--------------------+-------------------+\n",
      "|            features|         prediction|\n",
      "+--------------------+-------------------+\n",
      "|(10,[0,1,2,3,4,5,...|-0.5840032270719822|\n",
      "|(10,[0,1,2,3,4,5,...|0.09428683717249428|\n",
      "|(10,[0,1,2,3,4,5,...|0.22077584323336627|\n",
      "|(10,[0,1,2,3,4,5,...| 0.7418351096549165|\n",
      "|(10,[0,1,2,3,4,5,...| 2.6669753844310544|\n",
      "|(10,[0,1,2,3,4,5,...|-1.5555318708804888|\n",
      "|(10,[0,1,2,3,4,5,...|-0.2635852027910207|\n",
      "|(10,[0,1,2,3,4,5,...| 2.3187665371314563|\n",
      "|(10,[0,1,2,3,4,5,...| 1.9745059210293108|\n",
      "|(10,[0,1,2,3,4,5,...|-1.7976077174200025|\n",
      "|(10,[0,1,2,3,4,5,...| 0.4737683040619627|\n",
      "|(10,[0,1,2,3,4,5,...|-0.3234282700500294|\n",
      "|(10,[0,1,2,3,4,5,...| 3.3955913501366535|\n",
      "|(10,[0,1,2,3,4,5,...|-0.0781620958777596|\n",
      "|(10,[0,1,2,3,4,5,...|  3.572162303355556|\n",
      "|(10,[0,1,2,3,4,5,...| 3.5859675236660817|\n",
      "|(10,[0,1,2,3,4,5,...|  3.107948982198874|\n",
      "|(10,[0,1,2,3,4,5,...|-1.1981488599434948|\n",
      "|(10,[0,1,2,3,4,5,...|-2.1498899994737903|\n",
      "|(10,[0,1,2,3,4,5,...| 0.7548420547427008|\n",
      "+--------------------+-------------------+\n",
      "only showing top 20 rows\n",
      "\n"
     ]
    }
   ],
   "source": [
    "predictions.show()"
   ]
  },
  {
   "cell_type": "code",
   "execution_count": 37,
   "metadata": {},
   "outputs": [],
   "source": [
    "url = 'https://raw.githubusercontent.com/BlueJayADAL/DS420/master/datasets/mllib/customers.csv'"
   ]
  },
  {
   "cell_type": "code",
   "execution_count": 40,
   "metadata": {},
   "outputs": [],
   "source": [
    "spark.sparkContext.addFile(url)\n",
    "\n",
    "fileloc = SparkFiles.get('customers.csv')"
   ]
  },
  {
   "cell_type": "code",
   "execution_count": 43,
   "metadata": {},
   "outputs": [],
   "source": [
    "df = spark.read.csv('file://'+fileloc, inferSchema = True, header=True)"
   ]
  },
  {
   "cell_type": "code",
   "execution_count": 44,
   "metadata": {},
   "outputs": [
    {
     "name": "stdout",
     "output_type": "stream",
     "text": [
      "+-------+----------+-----+----+-------+\n",
      "|   Name|     Phone|Group|Hour|Clicked|\n",
      "+-------+----------+-----+----+-------+\n",
      "|   John|4085552424|    A|  12|      N|\n",
      "|   Mike|3105552738|    B|  35|      Y|\n",
      "| Cassie|4085552424|    B|  89|      Y|\n",
      "|  Laura|3105552438|    B|  25|      N|\n",
      "|  Sarah|4085551234|    A|  18|      N|\n",
      "|  David|3105557463|    C|  33|      Y|\n",
      "|   Zach|4085553987|    C|  41|      Y|\n",
      "|  Kiera|3105552938|    A|  32|      N|\n",
      "|  Alexa|4085559467|    C|  71|      Y|\n",
      "|Karissa|3105553475|    A|   3|      N|\n",
      "+-------+----------+-----+----+-------+\n",
      "\n"
     ]
    }
   ],
   "source": [
    "df.show()"
   ]
  },
  {
   "cell_type": "code",
   "execution_count": 46,
   "metadata": {},
   "outputs": [],
   "source": [
    "from pyspark.ml.feature import StringIndexer  #like label encoding\n"
   ]
  },
  {
   "cell_type": "code",
   "execution_count": 47,
   "metadata": {},
   "outputs": [
    {
     "name": "stdout",
     "output_type": "stream",
     "text": [
      "+-------+----------+-----+----+-------+------------+\n",
      "|   Name|     Phone|Group|Hour|Clicked|GroupIndexer|\n",
      "+-------+----------+-----+----+-------+------------+\n",
      "|   John|4085552424|    A|  12|      N|         0.0|\n",
      "|   Mike|3105552738|    B|  35|      Y|         1.0|\n",
      "| Cassie|4085552424|    B|  89|      Y|         1.0|\n",
      "|  Laura|3105552438|    B|  25|      N|         1.0|\n",
      "|  Sarah|4085551234|    A|  18|      N|         0.0|\n",
      "|  David|3105557463|    C|  33|      Y|         2.0|\n",
      "|   Zach|4085553987|    C|  41|      Y|         2.0|\n",
      "|  Kiera|3105552938|    A|  32|      N|         0.0|\n",
      "|  Alexa|4085559467|    C|  71|      Y|         2.0|\n",
      "|Karissa|3105553475|    A|   3|      N|         0.0|\n",
      "+-------+----------+-----+----+-------+------------+\n",
      "\n"
     ]
    }
   ],
   "source": [
    "indexer = StringIndexer(inputCol = 'Group', outputCol = 'GroupIndexer')\n",
    "indexed_df = indexer.fit(df).transform(df)\n",
    "indexed_df.show()"
   ]
  },
  {
   "cell_type": "code",
   "execution_count": 48,
   "metadata": {},
   "outputs": [
    {
     "name": "stdout",
     "output_type": "stream",
     "text": [
      "+-------+----------+-----+----+-------+------------+--------------+\n",
      "|   Name|     Phone|Group|Hour|Clicked|GroupIndexer|ClickedIndexer|\n",
      "+-------+----------+-----+----+-------+------------+--------------+\n",
      "|   John|4085552424|    A|  12|      N|         0.0|           0.0|\n",
      "|   Mike|3105552738|    B|  35|      Y|         1.0|           1.0|\n",
      "| Cassie|4085552424|    B|  89|      Y|         1.0|           1.0|\n",
      "|  Laura|3105552438|    B|  25|      N|         1.0|           0.0|\n",
      "|  Sarah|4085551234|    A|  18|      N|         0.0|           0.0|\n",
      "|  David|3105557463|    C|  33|      Y|         2.0|           1.0|\n",
      "|   Zach|4085553987|    C|  41|      Y|         2.0|           1.0|\n",
      "|  Kiera|3105552938|    A|  32|      N|         0.0|           0.0|\n",
      "|  Alexa|4085559467|    C|  71|      Y|         2.0|           1.0|\n",
      "|Karissa|3105553475|    A|   3|      N|         0.0|           0.0|\n",
      "+-------+----------+-----+----+-------+------------+--------------+\n",
      "\n"
     ]
    }
   ],
   "source": [
    "indexer = StringIndexer(inputCol = 'Clicked', outputCol = 'ClickedIndexer')\n",
    "indexed_df = indexer.fit(indexed_df).transform(indexed_df)\n",
    "indexed_df.show()"
   ]
  },
  {
   "cell_type": "code",
   "execution_count": 49,
   "metadata": {},
   "outputs": [],
   "source": [
    "from pyspark.ml.feature import VectorAssembler"
   ]
  },
  {
   "cell_type": "code",
   "execution_count": 53,
   "metadata": {},
   "outputs": [],
   "source": [
    "assembler = VectorAssembler(\n",
    "    inputCols=['Hour','GroupIndexer'], \n",
    "    outputCol='features'\n",
    ")   #dont included clickedIndexer bc that is your y label"
   ]
  },
  {
   "cell_type": "code",
   "execution_count": 54,
   "metadata": {},
   "outputs": [
    {
     "name": "stdout",
     "output_type": "stream",
     "text": [
      "+-------+----------+-----+----+-------+------------+--------------+----------+\n",
      "|   Name|     Phone|Group|Hour|Clicked|GroupIndexer|ClickedIndexer|  features|\n",
      "+-------+----------+-----+----+-------+------------+--------------+----------+\n",
      "|   John|4085552424|    A|  12|      N|         0.0|           0.0|[12.0,0.0]|\n",
      "|   Mike|3105552738|    B|  35|      Y|         1.0|           1.0|[35.0,1.0]|\n",
      "| Cassie|4085552424|    B|  89|      Y|         1.0|           1.0|[89.0,1.0]|\n",
      "|  Laura|3105552438|    B|  25|      N|         1.0|           0.0|[25.0,1.0]|\n",
      "|  Sarah|4085551234|    A|  18|      N|         0.0|           0.0|[18.0,0.0]|\n",
      "|  David|3105557463|    C|  33|      Y|         2.0|           1.0|[33.0,2.0]|\n",
      "|   Zach|4085553987|    C|  41|      Y|         2.0|           1.0|[41.0,2.0]|\n",
      "|  Kiera|3105552938|    A|  32|      N|         0.0|           0.0|[32.0,0.0]|\n",
      "|  Alexa|4085559467|    C|  71|      Y|         2.0|           1.0|[71.0,2.0]|\n",
      "|Karissa|3105553475|    A|   3|      N|         0.0|           0.0| [3.0,0.0]|\n",
      "+-------+----------+-----+----+-------+------------+--------------+----------+\n",
      "\n"
     ]
    }
   ],
   "source": [
    "output = assembler.transform(indexed_df)\n",
    "output.show()"
   ]
  },
  {
   "cell_type": "code",
   "execution_count": 64,
   "metadata": {},
   "outputs": [],
   "source": [
    "data_final = output.select(['features','ClickedIndexer'])"
   ]
  },
  {
   "cell_type": "code",
   "execution_count": 65,
   "metadata": {},
   "outputs": [
    {
     "name": "stdout",
     "output_type": "stream",
     "text": [
      "+----------+--------------+\n",
      "|  features|ClickedIndexer|\n",
      "+----------+--------------+\n",
      "|[12.0,0.0]|           0.0|\n",
      "|[35.0,1.0]|           1.0|\n",
      "|[89.0,1.0]|           1.0|\n",
      "|[25.0,1.0]|           0.0|\n",
      "|[18.0,0.0]|           0.0|\n",
      "|[33.0,2.0]|           1.0|\n",
      "|[41.0,2.0]|           1.0|\n",
      "|[32.0,0.0]|           0.0|\n",
      "|[71.0,2.0]|           1.0|\n",
      "| [3.0,0.0]|           0.0|\n",
      "+----------+--------------+\n",
      "\n"
     ]
    }
   ],
   "source": [
    "data_final.show()"
   ]
  },
  {
   "cell_type": "code",
   "execution_count": 66,
   "metadata": {},
   "outputs": [],
   "source": [
    "train_data, test_data = data_final.randomSplit([0.8, 0.2], seed = 101) \n"
   ]
  },
  {
   "cell_type": "code",
   "execution_count": 67,
   "metadata": {},
   "outputs": [
    {
     "name": "stdout",
     "output_type": "stream",
     "text": [
      "+----------+--------------+\n",
      "|  features|ClickedIndexer|\n",
      "+----------+--------------+\n",
      "|[32.0,0.0]|           0.0|\n",
      "+----------+--------------+\n",
      "\n"
     ]
    }
   ],
   "source": [
    "test_data.show()"
   ]
  },
  {
   "cell_type": "code",
   "execution_count": null,
   "metadata": {},
   "outputs": [],
   "source": [
    "#then do the steps you been doing"
   ]
  }
 ],
 "metadata": {
  "kernelspec": {
   "display_name": "Python 3 (ipykernel)",
   "language": "python",
   "name": "python3"
  },
  "language_info": {
   "codemirror_mode": {
    "name": "ipython",
    "version": 3
   },
   "file_extension": ".py",
   "mimetype": "text/x-python",
   "name": "python",
   "nbconvert_exporter": "python",
   "pygments_lexer": "ipython3",
   "version": "3.7.13"
  }
 },
 "nbformat": 4,
 "nbformat_minor": 4
}
