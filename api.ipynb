{
 "cells": [
  {
   "cell_type": "code",
   "execution_count": 6,
   "metadata": {},
   "outputs": [],
   "source": [
    "\n",
    "import requests\n",
    "import matplotlib.pyplot as plt\n",
    "import numpy as np\n",
    "import seaborn as sns"
   ]
  },
  {
   "cell_type": "code",
   "execution_count": 14,
   "metadata": {},
   "outputs": [],
   "source": [
    "url = requests.get(\"https://developer.nrel.gov/api/alt-fuel-stations/v1.json?fuel_type=E85,ELEC&state=CA&limit=2&api_key=bmeskkhha8m7VELRfDOK9b3Tfm4X4S2i028wmhUu\")"
   ]
  },
  {
   "cell_type": "code",
   "execution_count": 15,
   "metadata": {},
   "outputs": [
    {
     "data": {
      "text/plain": [
       "200"
      ]
     },
     "execution_count": 15,
     "metadata": {},
     "output_type": "execute_result"
    }
   ],
   "source": [
    "url.status_code"
   ]
  },
  {
   "cell_type": "code",
   "execution_count": 12,
   "metadata": {},
   "outputs": [
    {
     "data": {
      "text/plain": [
       "'{\"station_locator_url\":\"https://afdc.energy.gov/stations/\",\"total_results\":14598,\"station_counts\":{\"total\":41528,\"fuels\":{\"BD\":{\"total\":0},\"E85\":{\"total\":286},\"ELEC\":{\"total\":41242,\"stations\":{\"total\":14312}},\"HY\":{\"total\":0},\"LNG\":{\"total\":0},\"CNG\":{\"total\":0},\"LPG\":{\"total\":0}}},\"fuel_stations\":[{\"access_code\":\"private\",\"access_days_time\":\"Fleet use only\",\"access_detail_code\":null,\"cards_accepted\":null,\"date_last_confirmed\":\"2021-07-14\",\"expected_date\":null,\"fuel_type_code\":\"ELEC\",\"groups_with_access_code\":\"Private\",\"id\":1517,\"open_date\":\"1999-10-15\",\"owner_type_code\":\"LG\",\"status_code\":\"E\",\"station_name\":\"LADWP - Truesdale Center\",\"station_phone\":null,\"updated_at\":\"2022-02-10T19:42:29Z\",\"facility_type\":\"UTILITY\",\"geocode_status\":\"GPS\",\"latitude\":34.2483191527193,\"longitude\":-118.3879713743439,\"city\":\"Sun Valley\",\"intersection_directions\":null,\"plus4\":null,\"state\":\"CA\",\"street_address\":\"11797 Truesdale St\",\"zip\":\"91352\",\"country\":\"US\",\"bd_blends\":null,\"cng_dispenser_num\":null,\"cng_fill_type_code\":null,\"cng_psi\":null,\"cng_renewable_source\":null,\"cng_total_compression\":null,\"cng_total_storage\":null,\"cng_vehicle_class\":null,\"e85_blender_pump\":null,\"e85_other_ethanol_blends\":null,\"ev_connector_types\":[\"CHADEMO\",\"J1772\",\"J1772COMBO\"],\"ev_dc_fast_num\":3,\"ev_level1_evse_num\":null,\"ev_level2_evse_num\":39,\"ev_network\":\"Non-Networked\",\"ev_network_web\":null,\"ev_other_evse\":null,\"ev_pricing\":null,\"ev_renewable_source\":null,\"hy_is_retail\":null,\"hy_pressures\":null,\"hy_standards\":null,\"hy_status_link\":null,\"lng_renewable_source\":null,\"lng_vehicle_class\":null,\"lpg_primary\":null,\"lpg_nozzle_types\":null,\"ng_fill_type_code\":null,\"ng_psi\":null,\"ng_vehicle_class\":null,\"access_days_time_fr\":null,\"intersection_directions_fr\":null,\"bd_blends_fr\":null,\"groups_with_access_code_fr\":\"Privé\",\"ev_pricing_fr\":null},{\"access_code\":\"private\",\"access_days_time\":null,\"access_detail_code\":null,\"cards_accepted\":null,\"date_last_confirmed\":\"2021-07-14\",\"expected_date\":null,\"fuel_type_code\":\"ELEC\",\"groups_with_access_code\":\"Private\",\"id\":1519,\"open_date\":\"2020-02-28\",\"owner_type_code\":\"LG\",\"status_code\":\"E\",\"station_name\":\"LADWP - West LA District Office\",\"station_phone\":null,\"updated_at\":\"2022-02-10T19:42:29Z\",\"facility_type\":\"UTILITY\",\"geocode_status\":\"200-8\",\"latitude\":34.052542,\"longitude\":-118.448504,\"city\":\"Los Angeles\",\"intersection_directions\":null,\"plus4\":null,\"state\":\"CA\",\"street_address\":\"1394 S Sepulveda Blvd\",\"zip\":\"90024\",\"country\":\"US\",\"bd_blends\":null,\"cng_dispenser_num\":null,\"cng_fill_type_code\":null,\"cng_psi\":null,\"cng_renewable_source\":null,\"cng_total_compression\":null,\"cng_total_storage\":null,\"cng_vehicle_class\":null,\"e85_blender_pump\":null,\"e85_other_ethanol_blends\":null,\"ev_connector_types\":[\"J1772\"],\"ev_dc_fast_num\":null,\"ev_level1_evse_num\":null,\"ev_level2_evse_num\":4,\"ev_network\":\"Non-Networked\",\"ev_network_web\":null,\"ev_other_evse\":null,\"ev_pricing\":\"Free\",\"ev_renewable_source\":null,\"hy_is_retail\":null,\"hy_pressures\":null,\"hy_standards\":null,\"hy_status_link\":null,\"lng_renewable_source\":null,\"lng_vehicle_class\":null,\"lpg_primary\":null,\"lpg_nozzle_types\":null,\"ng_fill_type_code\":null,\"ng_psi\":null,\"ng_vehicle_class\":null,\"access_days_time_fr\":null,\"intersection_directions_fr\":null,\"bd_blends_fr\":null,\"groups_with_access_code_fr\":\"Privé\",\"ev_pricing_fr\":null}]}'"
      ]
     },
     "execution_count": 12,
     "metadata": {},
     "output_type": "execute_result"
    }
   ],
   "source": [
    "url.text"
   ]
  },
  {
   "cell_type": "code",
   "execution_count": 13,
   "metadata": {},
   "outputs": [
    {
     "data": {
      "text/plain": [
       "{'station_locator_url': 'https://afdc.energy.gov/stations/',\n",
       " 'total_results': 14598,\n",
       " 'station_counts': {'total': 41528,\n",
       "  'fuels': {'BD': {'total': 0},\n",
       "   'E85': {'total': 286},\n",
       "   'ELEC': {'total': 41242, 'stations': {'total': 14312}},\n",
       "   'HY': {'total': 0},\n",
       "   'LNG': {'total': 0},\n",
       "   'CNG': {'total': 0},\n",
       "   'LPG': {'total': 0}}},\n",
       " 'fuel_stations': [{'access_code': 'private',\n",
       "   'access_days_time': 'Fleet use only',\n",
       "   'access_detail_code': None,\n",
       "   'cards_accepted': None,\n",
       "   'date_last_confirmed': '2021-07-14',\n",
       "   'expected_date': None,\n",
       "   'fuel_type_code': 'ELEC',\n",
       "   'groups_with_access_code': 'Private',\n",
       "   'id': 1517,\n",
       "   'open_date': '1999-10-15',\n",
       "   'owner_type_code': 'LG',\n",
       "   'status_code': 'E',\n",
       "   'station_name': 'LADWP - Truesdale Center',\n",
       "   'station_phone': None,\n",
       "   'updated_at': '2022-02-10T19:42:29Z',\n",
       "   'facility_type': 'UTILITY',\n",
       "   'geocode_status': 'GPS',\n",
       "   'latitude': 34.2483191527193,\n",
       "   'longitude': -118.3879713743439,\n",
       "   'city': 'Sun Valley',\n",
       "   'intersection_directions': None,\n",
       "   'plus4': None,\n",
       "   'state': 'CA',\n",
       "   'street_address': '11797 Truesdale St',\n",
       "   'zip': '91352',\n",
       "   'country': 'US',\n",
       "   'bd_blends': None,\n",
       "   'cng_dispenser_num': None,\n",
       "   'cng_fill_type_code': None,\n",
       "   'cng_psi': None,\n",
       "   'cng_renewable_source': None,\n",
       "   'cng_total_compression': None,\n",
       "   'cng_total_storage': None,\n",
       "   'cng_vehicle_class': None,\n",
       "   'e85_blender_pump': None,\n",
       "   'e85_other_ethanol_blends': None,\n",
       "   'ev_connector_types': ['CHADEMO', 'J1772', 'J1772COMBO'],\n",
       "   'ev_dc_fast_num': 3,\n",
       "   'ev_level1_evse_num': None,\n",
       "   'ev_level2_evse_num': 39,\n",
       "   'ev_network': 'Non-Networked',\n",
       "   'ev_network_web': None,\n",
       "   'ev_other_evse': None,\n",
       "   'ev_pricing': None,\n",
       "   'ev_renewable_source': None,\n",
       "   'hy_is_retail': None,\n",
       "   'hy_pressures': None,\n",
       "   'hy_standards': None,\n",
       "   'hy_status_link': None,\n",
       "   'lng_renewable_source': None,\n",
       "   'lng_vehicle_class': None,\n",
       "   'lpg_primary': None,\n",
       "   'lpg_nozzle_types': None,\n",
       "   'ng_fill_type_code': None,\n",
       "   'ng_psi': None,\n",
       "   'ng_vehicle_class': None,\n",
       "   'access_days_time_fr': None,\n",
       "   'intersection_directions_fr': None,\n",
       "   'bd_blends_fr': None,\n",
       "   'groups_with_access_code_fr': 'Privé',\n",
       "   'ev_pricing_fr': None},\n",
       "  {'access_code': 'private',\n",
       "   'access_days_time': None,\n",
       "   'access_detail_code': None,\n",
       "   'cards_accepted': None,\n",
       "   'date_last_confirmed': '2021-07-14',\n",
       "   'expected_date': None,\n",
       "   'fuel_type_code': 'ELEC',\n",
       "   'groups_with_access_code': 'Private',\n",
       "   'id': 1519,\n",
       "   'open_date': '2020-02-28',\n",
       "   'owner_type_code': 'LG',\n",
       "   'status_code': 'E',\n",
       "   'station_name': 'LADWP - West LA District Office',\n",
       "   'station_phone': None,\n",
       "   'updated_at': '2022-02-10T19:42:29Z',\n",
       "   'facility_type': 'UTILITY',\n",
       "   'geocode_status': '200-8',\n",
       "   'latitude': 34.052542,\n",
       "   'longitude': -118.448504,\n",
       "   'city': 'Los Angeles',\n",
       "   'intersection_directions': None,\n",
       "   'plus4': None,\n",
       "   'state': 'CA',\n",
       "   'street_address': '1394 S Sepulveda Blvd',\n",
       "   'zip': '90024',\n",
       "   'country': 'US',\n",
       "   'bd_blends': None,\n",
       "   'cng_dispenser_num': None,\n",
       "   'cng_fill_type_code': None,\n",
       "   'cng_psi': None,\n",
       "   'cng_renewable_source': None,\n",
       "   'cng_total_compression': None,\n",
       "   'cng_total_storage': None,\n",
       "   'cng_vehicle_class': None,\n",
       "   'e85_blender_pump': None,\n",
       "   'e85_other_ethanol_blends': None,\n",
       "   'ev_connector_types': ['J1772'],\n",
       "   'ev_dc_fast_num': None,\n",
       "   'ev_level1_evse_num': None,\n",
       "   'ev_level2_evse_num': 4,\n",
       "   'ev_network': 'Non-Networked',\n",
       "   'ev_network_web': None,\n",
       "   'ev_other_evse': None,\n",
       "   'ev_pricing': 'Free',\n",
       "   'ev_renewable_source': None,\n",
       "   'hy_is_retail': None,\n",
       "   'hy_pressures': None,\n",
       "   'hy_standards': None,\n",
       "   'hy_status_link': None,\n",
       "   'lng_renewable_source': None,\n",
       "   'lng_vehicle_class': None,\n",
       "   'lpg_primary': None,\n",
       "   'lpg_nozzle_types': None,\n",
       "   'ng_fill_type_code': None,\n",
       "   'ng_psi': None,\n",
       "   'ng_vehicle_class': None,\n",
       "   'access_days_time_fr': None,\n",
       "   'intersection_directions_fr': None,\n",
       "   'bd_blends_fr': None,\n",
       "   'groups_with_access_code_fr': 'Privé',\n",
       "   'ev_pricing_fr': None}]}"
      ]
     },
     "execution_count": 13,
     "metadata": {},
     "output_type": "execute_result"
    }
   ],
   "source": [
    "url.json()"
   ]
  },
  {
   "cell_type": "code",
   "execution_count": null,
   "metadata": {},
   "outputs": [],
   "source": [
    "bmeskkhha8m7VELRfDOK9b3Tfm4X4S2i028wmhUu"
   ]
  },
  {
   "cell_type": "code",
   "execution_count": 16,
   "metadata": {},
   "outputs": [
    {
     "name": "stdout",
     "output_type": "stream",
     "text": [
      "Not Found.\n"
     ]
    }
   ],
   "source": [
    "import requests\n",
    "\n",
    "url = \"https://developer.nrel.gov/api/wave/hawaii-hindcast-download.json?api_key=bmeskkhha8m7VELRfDOK9b3Tfm4X4S2i028wmhUu\"\n",
    "\n",
    "payload = \"utc=true&leap_day=true&interval=180&email=user@company.com&wkt=POINT(-164 15)&names=2010\"\n",
    "\n",
    "headers = {\n",
    "    'content-type': \"application/x-www-form-urlencoded\",\n",
    "    'cache-control': \"no-cache\"\n",
    "}\n",
    "\n",
    "response = requests.request(\"POST\", url, data=payload, headers=headers)\n",
    "\n",
    "print(response.text)"
   ]
  },
  {
   "cell_type": "code",
   "execution_count": null,
   "metadata": {},
   "outputs": [],
   "source": []
  }
 ],
 "metadata": {
  "kernelspec": {
   "display_name": "Python 3",
   "language": "python",
   "name": "python3"
  },
  "language_info": {
   "codemirror_mode": {
    "name": "ipython",
    "version": 3
   },
   "file_extension": ".py",
   "mimetype": "text/x-python",
   "name": "python",
   "nbconvert_exporter": "python",
   "pygments_lexer": "ipython3",
   "version": "3.7.9"
  }
 },
 "nbformat": 4,
 "nbformat_minor": 4
}
