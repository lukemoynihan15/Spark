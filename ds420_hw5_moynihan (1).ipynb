{
 "cells": [
  {
   "cell_type": "markdown",
   "metadata": {},
   "source": [
    "<h1><center>DS420: Homework 5 Spark Streaming\n"
   ]
  },
  {
   "cell_type": "markdown",
   "metadata": {},
   "source": [
    "## Goal\n",
    "In this homework, your goal to setup an end-to-end data streaming application to collect data from Twitter and analyze the data with Spark Streaming and Spark SQL. \n",
    "\n",
    "Firstly, we need to setup a Developer API acocunt with Twitter and create an application to get credentials. \n",
    "    \n",
    "Once you have that you then need to complete the `hw5_twitterKafkaProducer.py` program in order to setup the twitter stream producer. You can verify whether the producer is up running by starting a kafka-console-consumer on the side to monitor. \n",
    "\n",
    "Lastly, you need to finish this notebook to setup a Spark Streaming consumer, analyze the stream in real-time, and finally visualize some of the tweeter stream activities with Pandas. Keep your producer running while working on this notebook. \n",
    "\n",
    "Let's get started!"
   ]
  },
  {
   "cell_type": "code",
   "execution_count": 1,
   "metadata": {},
   "outputs": [],
   "source": [
    "import findspark\n",
    "findspark.init('/opt/spark')"
   ]
  },
  {
   "cell_type": "markdown",
   "metadata": {},
   "source": [
    "## Q1: Create a Spark session, and named it as `hw5_xxx`, where `xxx` is your last name."
   ]
  },
  {
   "cell_type": "code",
   "execution_count": 2,
   "metadata": {},
   "outputs": [],
   "source": [
    "from pyspark.sql import SparkSession\n"
   ]
  },
  {
   "cell_type": "code",
   "execution_count": 3,
   "metadata": {},
   "outputs": [],
   "source": [
    "# Just change the appName but don't modify the configurations!\n",
    "\n",
    "spark = SparkSession.builder.appName('hw5_moynihan')          \\\n",
    "                    .config('spark.jars.packages','org.apache.spark:spark-sql-kafka-0-10_2.12:3.0.1')\\\n",
    "                    .config('spark.jars.packages','org.apache.kafka:kafka-clients:2.4.1')\\\n",
    "                    .getOrCreate()\n"
   ]
  },
  {
   "cell_type": "code",
   "execution_count": 4,
   "metadata": {},
   "outputs": [],
   "source": [
    "# Read data from kafka into a streaming DataFrame\n",
    "# Ensure to supply the bootstrap server and the channel;\n",
    "# and include the timestamp as you read it. \n",
    "\n",
    "streaming = spark.readStream \\\n",
    "  .format(\"kafka\") \\\n",
    "  .option(\"kafka.bootstrap.servers\", \"localhost:9092\") \\\n",
    "  .option(\"subscribe\", \"ds420-moynihan\") \\\n",
    "  .option('includeTimestamp','True')\\\n",
    "  .load()\n"
   ]
  },
  {
   "cell_type": "code",
   "execution_count": 5,
   "metadata": {},
   "outputs": [],
   "source": [
    "# Select only timestamp and value columns. Cast value column into String type.\n",
    "streaming = streaming.selectExpr( \"CAST(value AS STRING)\", 'timestamp')\n",
    "\n"
   ]
  },
  {
   "cell_type": "code",
   "execution_count": 6,
   "metadata": {},
   "outputs": [
    {
     "name": "stdout",
     "output_type": "stream",
     "text": [
      "root\n",
      " |-- value: string (nullable = true)\n",
      " |-- timestamp: timestamp (nullable = true)\n",
      "\n"
     ]
    }
   ],
   "source": [
    "streaming.printSchema()"
   ]
  },
  {
   "cell_type": "markdown",
   "metadata": {},
   "source": [
    "## Q2: Run a simple query to show the raw data of the `value` column."
   ]
  },
  {
   "cell_type": "code",
   "execution_count": 7,
   "metadata": {},
   "outputs": [],
   "source": [
    "# Grab the `value` column only from the streaming DataFrame into rawValue\n",
    "rawValue = streaming.select('value')\n",
    "\n"
   ]
  },
  {
   "cell_type": "code",
   "execution_count": 8,
   "metadata": {},
   "outputs": [],
   "source": [
    "# Start a streaming query with rawValue\n",
    "\n",
    "valueQuery = (rawValue.writeStream\n",
    "             .format('memory')\n",
    "             .queryName('valueQuery')\n",
    "             .start())\n",
    "\n",
    "\n"
   ]
  },
  {
   "cell_type": "code",
   "execution_count": 9,
   "metadata": {},
   "outputs": [
    {
     "name": "stdout",
     "output_type": "stream",
     "text": [
      "+-----+\n",
      "|value|\n",
      "+-----+\n",
      "+-----+\n",
      "\n",
      "+--------------------+\n",
      "|               value|\n",
      "+--------------------+\n",
      "|{\"id\": \"132566892...|\n",
      "|{\"id\": \"132566892...|\n",
      "|{\"id\": \"132566893...|\n",
      "|{\"id\": \"132566893...|\n",
      "+--------------------+\n",
      "\n",
      "+--------------------+\n",
      "|               value|\n",
      "+--------------------+\n",
      "|{\"id\": \"132566892...|\n",
      "|{\"id\": \"132566892...|\n",
      "|{\"id\": \"132566893...|\n",
      "|{\"id\": \"132566893...|\n",
      "|{\"id\": \"132566893...|\n",
      "|{\"id\": \"132566893...|\n",
      "|{\"id\": \"132566893...|\n",
      "|{\"id\": \"132566893...|\n",
      "|{\"id\": \"132566893...|\n",
      "|{\"id\": \"132566894...|\n",
      "+--------------------+\n",
      "\n",
      "+--------------------+\n",
      "|               value|\n",
      "+--------------------+\n",
      "|{\"id\": \"132566892...|\n",
      "|{\"id\": \"132566892...|\n",
      "|{\"id\": \"132566893...|\n",
      "|{\"id\": \"132566893...|\n",
      "|{\"id\": \"132566893...|\n",
      "|{\"id\": \"132566893...|\n",
      "|{\"id\": \"132566893...|\n",
      "|{\"id\": \"132566893...|\n",
      "|{\"id\": \"132566893...|\n",
      "|{\"id\": \"132566894...|\n",
      "+--------------------+\n",
      "only showing top 10 rows\n",
      "\n",
      "+--------------------+\n",
      "|               value|\n",
      "+--------------------+\n",
      "|{\"id\": \"132566892...|\n",
      "|{\"id\": \"132566892...|\n",
      "|{\"id\": \"132566893...|\n",
      "|{\"id\": \"132566893...|\n",
      "|{\"id\": \"132566893...|\n",
      "|{\"id\": \"132566893...|\n",
      "|{\"id\": \"132566893...|\n",
      "|{\"id\": \"132566893...|\n",
      "|{\"id\": \"132566893...|\n",
      "|{\"id\": \"132566894...|\n",
      "+--------------------+\n",
      "only showing top 10 rows\n",
      "\n"
     ]
    }
   ],
   "source": [
    "# Poll the results every 5 seconds and show the first ten records\n",
    "# Run this for 5 iterations. \n",
    "\n",
    "import time\n",
    "\n",
    "\n",
    "\n",
    "for x in range(10):\n",
    "    df = spark.sql('SELECT * FROM valueQuery')\n",
    "    df.show(10)\n",
    "    time.sleep(1)\n",
    "\n"
   ]
  },
  {
   "cell_type": "code",
   "execution_count": 10,
   "metadata": {},
   "outputs": [],
   "source": [
    "# Stop the query once it's done. \n",
    "\n",
    "valueQuery.stop()"
   ]
  },
  {
   "cell_type": "markdown",
   "metadata": {},
   "source": [
    "## Q3: Create schema for the raw data with the hint from the printed results. "
   ]
  },
  {
   "cell_type": "code",
   "execution_count": 11,
   "metadata": {},
   "outputs": [],
   "source": [
    "from pyspark.sql.types import *\n",
    "\n",
    "# Create the dataSchema with StructType()\n",
    "\n",
    "dataSchema = dataSchema = StructType([ \\\n",
    "    StructField(\"id\",StringType(),True), \\\n",
    "    StructField(\"user\",StringType(),True), \\\n",
    "    StructField(\"follower\",IntegerType(),True), \\\n",
    "    StructField(\"friends\", IntegerType(), True), \\\n",
    "    StructField(\"tweet\", StringType(), True), \\\n",
    "    StructField(\"hashtag\", IntegerType(), True), \\\n",
    "    StructField(\"ts\", TimestampType(),True), \\\n",
    "    StructField(\"retweet\",IntegerType(),True), \\\n",
    "    StructField(\"favorite\",IntegerType(),True) \\\n",
    " \n",
    "  ])\n",
    "\n"
   ]
  },
  {
   "cell_type": "code",
   "execution_count": 12,
   "metadata": {},
   "outputs": [
    {
     "name": "stdout",
     "output_type": "stream",
     "text": [
      "StructType(List(StructField(id,StringType,true),StructField(user,StringType,true),StructField(follower,IntegerType,true),StructField(friends,IntegerType,true),StructField(tweet,StringType,true),StructField(hashtag,StringType,true),StructField(ts,TimestampType,true),StructField(retweet,IntegerType,true),StructField(favorite,IntegerType,true)))\n"
     ]
    }
   ],
   "source": [
    "# Show the schema, use this as the hint to finish the question above\n",
    "\n",
    "print(dataSchema)"
   ]
  },
  {
   "cell_type": "markdown",
   "metadata": {},
   "source": [
    "#### Create a new column for the `streaming` DataFrame named as `json`. Use `from_json` function to parse the string in `value` column into `json` column. Save the resulting DataFrame into `df`.\n",
    "`from_json` docs: [link](https://spark.apache.org/docs/latest/api/python/pyspark.sql.html#pyspark.sql.functions.from_json)"
   ]
  },
  {
   "cell_type": "code",
   "execution_count": 13,
   "metadata": {},
   "outputs": [],
   "source": [
    "from pyspark.sql.functions import *\n",
    "\n",
    "df = streaming.withColumn('json', from_json('value', dataSchema))\n",
    "\n"
   ]
  },
  {
   "cell_type": "code",
   "execution_count": 14,
   "metadata": {},
   "outputs": [
    {
     "name": "stdout",
     "output_type": "stream",
     "text": [
      "root\n",
      " |-- value: string (nullable = true)\n",
      " |-- timestamp: timestamp (nullable = true)\n",
      " |-- json: struct (nullable = true)\n",
      " |    |-- id: string (nullable = true)\n",
      " |    |-- user: string (nullable = true)\n",
      " |    |-- follower: integer (nullable = true)\n",
      " |    |-- friends: integer (nullable = true)\n",
      " |    |-- tweet: string (nullable = true)\n",
      " |    |-- hashtag: string (nullable = true)\n",
      " |    |-- ts: timestamp (nullable = true)\n",
      " |    |-- retweet: integer (nullable = true)\n",
      " |    |-- favorite: integer (nullable = true)\n",
      "\n"
     ]
    }
   ],
   "source": [
    "# Checkout the schema of df. \n",
    "df.printSchema()"
   ]
  },
  {
   "cell_type": "markdown",
   "metadata": {},
   "source": [
    "## Q4: Generate new columns with the sub-fields from the `json` column."
   ]
  },
  {
   "cell_type": "markdown",
   "metadata": {},
   "source": [
    "#### Hint1: once the dataSchema is contructed, we can use the `.name` and `.dataType` properties to find its field name and field data type, respectively. Run the code example below."
   ]
  },
  {
   "cell_type": "code",
   "execution_count": 15,
   "metadata": {},
   "outputs": [
    {
     "name": "stdout",
     "output_type": "stream",
     "text": [
      "0 id StringType\n",
      "1 user StringType\n",
      "2 follower IntegerType\n",
      "3 friends IntegerType\n",
      "4 tweet StringType\n",
      "5 hashtag StringType\n",
      "6 ts TimestampType\n",
      "7 retweet IntegerType\n",
      "8 favorite IntegerType\n"
     ]
    }
   ],
   "source": [
    "for idx, field in enumerate(dataSchema): \n",
    "    print(idx, field.name, field.dataType)"
   ]
  },
  {
   "cell_type": "markdown",
   "metadata": {},
   "source": [
    "#### Hint2: notice you can use dot operator to index into the nested structure. Run the code below:"
   ]
  },
  {
   "cell_type": "code",
   "execution_count": 16,
   "metadata": {},
   "outputs": [
    {
     "data": {
      "text/plain": [
       "DataFrame[follower: int]"
      ]
     },
     "execution_count": 16,
     "metadata": {},
     "output_type": "execute_result"
    }
   ],
   "source": [
    "df.select('json.follower')"
   ]
  },
  {
   "cell_type": "markdown",
   "metadata": {},
   "source": [
    "#### Also works with bracket notation."
   ]
  },
  {
   "cell_type": "code",
   "execution_count": 17,
   "metadata": {},
   "outputs": [
    {
     "data": {
      "text/plain": [
       "Column<b'json.follower AS `follower`'>"
      ]
     },
     "execution_count": 17,
     "metadata": {},
     "output_type": "execute_result"
    }
   ],
   "source": [
    "df['json.follower']"
   ]
  },
  {
   "cell_type": "markdown",
   "metadata": {},
   "source": [
    "#### Now, create new columns with all the sub-fields from the `json` column by using a for loop. "
   ]
  },
  {
   "cell_type": "code",
   "execution_count": 18,
   "metadata": {},
   "outputs": [],
   "source": [
    "for idx, field in enumerate(dataSchema): \n",
    "    a = df.withColumn(field.name, df['json.' + field.name])\n",
    "    df=a"
   ]
  },
  {
   "cell_type": "code",
   "execution_count": 19,
   "metadata": {},
   "outputs": [
    {
     "name": "stdout",
     "output_type": "stream",
     "text": [
      "root\n",
      " |-- value: string (nullable = true)\n",
      " |-- timestamp: timestamp (nullable = true)\n",
      " |-- json: struct (nullable = true)\n",
      " |    |-- id: string (nullable = true)\n",
      " |    |-- user: string (nullable = true)\n",
      " |    |-- follower: integer (nullable = true)\n",
      " |    |-- friends: integer (nullable = true)\n",
      " |    |-- tweet: string (nullable = true)\n",
      " |    |-- hashtag: string (nullable = true)\n",
      " |    |-- ts: timestamp (nullable = true)\n",
      " |    |-- retweet: integer (nullable = true)\n",
      " |    |-- favorite: integer (nullable = true)\n",
      " |-- id: string (nullable = true)\n",
      " |-- user: string (nullable = true)\n",
      " |-- follower: integer (nullable = true)\n",
      " |-- friends: integer (nullable = true)\n",
      " |-- tweet: string (nullable = true)\n",
      " |-- hashtag: string (nullable = true)\n",
      " |-- ts: timestamp (nullable = true)\n",
      " |-- retweet: integer (nullable = true)\n",
      " |-- favorite: integer (nullable = true)\n",
      "\n"
     ]
    }
   ],
   "source": [
    "# Checkout the schema after the update\n",
    "df.printSchema()"
   ]
  },
  {
   "cell_type": "markdown",
   "metadata": {},
   "source": [
    "#### Finally, clean the `df` DataFrame so that it only contains the sub-fileds from `json` column, and the `timestamp` column"
   ]
  },
  {
   "cell_type": "code",
   "execution_count": 20,
   "metadata": {},
   "outputs": [],
   "source": [
    "df = df.select(['user','id', 'follower','tweet', 'hashtag', 'ts', 'retweet', 'favorite','timestamp', 'friends'])\n"
   ]
  },
  {
   "cell_type": "code",
   "execution_count": 21,
   "metadata": {},
   "outputs": [
    {
     "name": "stdout",
     "output_type": "stream",
     "text": [
      "root\n",
      " |-- timestamp: timestamp (nullable = true)\n",
      " |-- id: string (nullable = true)\n",
      " |-- user: string (nullable = true)\n",
      " |-- follower: integer (nullable = true)\n",
      " |-- friends: integer (nullable = true)\n",
      " |-- tweet: string (nullable = true)\n",
      " |-- hashtag: string (nullable = true)\n",
      " |-- ts: timestamp (nullable = true)\n",
      " |-- retweet: integer (nullable = true)\n",
      " |-- favorite: integer (nullable = true)\n",
      "\n"
     ]
    }
   ],
   "source": [
    "df.printSchema()"
   ]
  },
  {
   "cell_type": "markdown",
   "metadata": {},
   "source": [
    "## Q5: Run a query to find the occurences of each number of 'retweet'. "
   ]
  },
  {
   "cell_type": "code",
   "execution_count": 22,
   "metadata": {},
   "outputs": [],
   "source": [
    "retweetCount =df.groupBy('retweet').count()\n",
    "\n"
   ]
  },
  {
   "cell_type": "code",
   "execution_count": 23,
   "metadata": {},
   "outputs": [],
   "source": [
    "retweetQuery = retweetCount.writeStream \\\n",
    "                  .outputMode('complete') \\\n",
    "                  .format('memory') \\\n",
    "                  .option('truncate', 'false') \\\n",
    "                  .queryName('retweetQuery') \\\n",
    "                  .start()"
   ]
  },
  {
   "cell_type": "code",
   "execution_count": 24,
   "metadata": {},
   "outputs": [
    {
     "name": "stdout",
     "output_type": "stream",
     "text": [
      "+-------+-----+\n",
      "|retweet|count|\n",
      "+-------+-----+\n",
      "+-------+-----+\n",
      "\n",
      "+-------+-----+\n",
      "|retweet|count|\n",
      "+-------+-----+\n",
      "|      0|   10|\n",
      "+-------+-----+\n",
      "\n",
      "+-------+-----+\n",
      "|retweet|count|\n",
      "+-------+-----+\n",
      "|      0|   16|\n",
      "+-------+-----+\n",
      "\n",
      "+-------+-----+\n",
      "|retweet|count|\n",
      "+-------+-----+\n",
      "|      0|   25|\n",
      "+-------+-----+\n",
      "\n",
      "+-------+-----+\n",
      "|retweet|count|\n",
      "+-------+-----+\n",
      "|      0|   34|\n",
      "+-------+-----+\n",
      "\n",
      "+-------+-----+\n",
      "|retweet|count|\n",
      "+-------+-----+\n",
      "|      0|   41|\n",
      "+-------+-----+\n",
      "\n",
      "+-------+-----+\n",
      "|retweet|count|\n",
      "+-------+-----+\n",
      "|      0|   53|\n",
      "+-------+-----+\n",
      "\n",
      "+-------+-----+\n",
      "|retweet|count|\n",
      "+-------+-----+\n",
      "|      0|   59|\n",
      "+-------+-----+\n",
      "\n",
      "+-------+-----+\n",
      "|retweet|count|\n",
      "+-------+-----+\n",
      "|      0|   68|\n",
      "+-------+-----+\n",
      "\n",
      "+-------+-----+\n",
      "|retweet|count|\n",
      "+-------+-----+\n",
      "|      0|   78|\n",
      "+-------+-----+\n",
      "\n"
     ]
    }
   ],
   "source": [
    "for i in range(10):\n",
    "    df_ = spark.sql('SELECT * FROM retweetQuery')\n",
    "    df_.show(10)\n",
    "    time.sleep(2)"
   ]
  },
  {
   "cell_type": "markdown",
   "metadata": {},
   "source": [
    "## Q6: Run a windowed query to find the number of occurences for each number of 'follower'. Use window size as 20 seconds, and sliding frequency as 10 seconds."
   ]
  },
  {
   "cell_type": "code",
   "execution_count": null,
   "metadata": {},
   "outputs": [],
   "source": [
    "from pyspark.sql.functions import window\n"
   ]
  },
  {
   "cell_type": "code",
   "execution_count": 25,
   "metadata": {},
   "outputs": [],
   "source": [
    "followerCount = df.groupBy(\n",
    "    window(df['timestamp'],'1 minutes','30 seconds'),\n",
    "    df['follower']\n",
    ").count().orderBy('window')\n",
    "\n",
    "\n"
   ]
  },
  {
   "cell_type": "code",
   "execution_count": 26,
   "metadata": {},
   "outputs": [],
   "source": [
    "followerQuery = (followerCount.writeStream\n",
    "                  .outputMode('complete')\n",
    "                  .format('memory')\n",
    "                  .queryName('followerQuery')\n",
    "                  .start()\n",
    ")\n"
   ]
  },
  {
   "cell_type": "code",
   "execution_count": 27,
   "metadata": {},
   "outputs": [
    {
     "name": "stdout",
     "output_type": "stream",
     "text": [
      "+------+--------+-----+\n",
      "|window|follower|count|\n",
      "+------+--------+-----+\n",
      "+------+--------+-----+\n",
      "\n",
      "+------------------------------------------+--------+-----+\n",
      "|window                                    |follower|count|\n",
      "+------------------------------------------+--------+-----+\n",
      "|[2020-11-09 00:20:00, 2020-11-09 00:20:20]|33      |1    |\n",
      "|[2020-11-09 00:20:00, 2020-11-09 00:20:20]|550     |1    |\n",
      "|[2020-11-09 00:20:10, 2020-11-09 00:20:30]|2220    |1    |\n",
      "|[2020-11-09 00:20:00, 2020-11-09 00:20:20]|1233    |1    |\n",
      "|[2020-11-09 00:20:00, 2020-11-09 00:20:20]|2220    |1    |\n",
      "|[2020-11-09 00:20:00, 2020-11-09 00:20:20]|299     |1    |\n",
      "|[2020-11-09 00:20:10, 2020-11-09 00:20:30]|550     |1    |\n",
      "|[2020-11-09 00:20:10, 2020-11-09 00:20:30]|1233    |1    |\n",
      "|[2020-11-09 00:20:00, 2020-11-09 00:20:20]|137     |2    |\n",
      "|[2020-11-09 00:20:10, 2020-11-09 00:20:30]|14472   |1    |\n",
      "+------------------------------------------+--------+-----+\n",
      "only showing top 10 rows\n",
      "\n",
      "+------------------------------------------+--------+-----+\n",
      "|window                                    |follower|count|\n",
      "+------------------------------------------+--------+-----+\n",
      "|[2020-11-09 00:20:00, 2020-11-09 00:20:20]|33      |1    |\n",
      "|[2020-11-09 00:20:00, 2020-11-09 00:20:20]|550     |1    |\n",
      "|[2020-11-09 00:20:10, 2020-11-09 00:20:30]|2220    |1    |\n",
      "|[2020-11-09 00:20:10, 2020-11-09 00:20:30]|814     |1    |\n",
      "|[2020-11-09 00:20:10, 2020-11-09 00:20:30]|139371  |1    |\n",
      "|[2020-11-09 00:20:00, 2020-11-09 00:20:20]|1233    |1    |\n",
      "|[2020-11-09 00:20:10, 2020-11-09 00:20:30]|0       |1    |\n",
      "|[2020-11-09 00:20:00, 2020-11-09 00:20:20]|2220    |1    |\n",
      "|[2020-11-09 00:20:10, 2020-11-09 00:20:30]|28942   |1    |\n",
      "|[2020-11-09 00:20:10, 2020-11-09 00:20:30]|255     |1    |\n",
      "+------------------------------------------+--------+-----+\n",
      "only showing top 10 rows\n",
      "\n",
      "+------------------------------------------+--------+-----+\n",
      "|window                                    |follower|count|\n",
      "+------------------------------------------+--------+-----+\n",
      "|[2020-11-09 00:20:10, 2020-11-09 00:20:30]|2453    |1    |\n",
      "|[2020-11-09 00:20:00, 2020-11-09 00:20:20]|33      |1    |\n",
      "|[2020-11-09 00:20:00, 2020-11-09 00:20:20]|550     |1    |\n",
      "|[2020-11-09 00:20:10, 2020-11-09 00:20:30]|2220    |1    |\n",
      "|[2020-11-09 00:20:10, 2020-11-09 00:20:30]|814     |1    |\n",
      "|[2020-11-09 00:20:10, 2020-11-09 00:20:30]|7050    |1    |\n",
      "|[2020-11-09 00:20:20, 2020-11-09 00:20:40]|193     |1    |\n",
      "|[2020-11-09 00:20:20, 2020-11-09 00:20:40]|2717    |1    |\n",
      "|[2020-11-09 00:20:10, 2020-11-09 00:20:30]|139371  |1    |\n",
      "|[2020-11-09 00:20:00, 2020-11-09 00:20:20]|1233    |1    |\n",
      "+------------------------------------------+--------+-----+\n",
      "only showing top 10 rows\n",
      "\n",
      "+------------------------------------------+--------+-----+\n",
      "|window                                    |follower|count|\n",
      "+------------------------------------------+--------+-----+\n",
      "|[2020-11-09 00:20:10, 2020-11-09 00:20:30]|2453    |1    |\n",
      "|[2020-11-09 00:20:20, 2020-11-09 00:20:40]|2185    |1    |\n",
      "|[2020-11-09 00:20:00, 2020-11-09 00:20:20]|33      |1    |\n",
      "|[2020-11-09 00:20:00, 2020-11-09 00:20:20]|550     |1    |\n",
      "|[2020-11-09 00:20:10, 2020-11-09 00:20:30]|2220    |1    |\n",
      "|[2020-11-09 00:20:20, 2020-11-09 00:20:40]|857     |1    |\n",
      "|[2020-11-09 00:20:10, 2020-11-09 00:20:30]|814     |1    |\n",
      "|[2020-11-09 00:20:10, 2020-11-09 00:20:30]|7050    |1    |\n",
      "|[2020-11-09 00:20:20, 2020-11-09 00:20:40]|13      |1    |\n",
      "|[2020-11-09 00:20:20, 2020-11-09 00:20:40]|193     |1    |\n",
      "+------------------------------------------+--------+-----+\n",
      "only showing top 10 rows\n",
      "\n",
      "+------------------------------------------+--------+-----+\n",
      "|window                                    |follower|count|\n",
      "+------------------------------------------+--------+-----+\n",
      "|[2020-11-09 00:20:10, 2020-11-09 00:20:30]|2453    |1    |\n",
      "|[2020-11-09 00:20:20, 2020-11-09 00:20:40]|2185    |1    |\n",
      "|[2020-11-09 00:20:30, 2020-11-09 00:20:50]|452     |1    |\n",
      "|[2020-11-09 00:20:30, 2020-11-09 00:20:50]|269     |1    |\n",
      "|[2020-11-09 00:20:00, 2020-11-09 00:20:20]|33      |1    |\n",
      "|[2020-11-09 00:20:00, 2020-11-09 00:20:20]|550     |1    |\n",
      "|[2020-11-09 00:20:10, 2020-11-09 00:20:30]|2220    |1    |\n",
      "|[2020-11-09 00:20:20, 2020-11-09 00:20:40]|857     |1    |\n",
      "|[2020-11-09 00:20:10, 2020-11-09 00:20:30]|814     |1    |\n",
      "|[2020-11-09 00:20:30, 2020-11-09 00:20:50]|12380   |1    |\n",
      "+------------------------------------------+--------+-----+\n",
      "only showing top 10 rows\n",
      "\n",
      "+------------------------------------------+--------+-----+\n",
      "|window                                    |follower|count|\n",
      "+------------------------------------------+--------+-----+\n",
      "|[2020-11-09 00:20:40, 2020-11-09 00:21:00]|389     |1    |\n",
      "|[2020-11-09 00:20:30, 2020-11-09 00:20:50]|2836    |1    |\n",
      "|[2020-11-09 00:20:40, 2020-11-09 00:21:00]|255     |1    |\n",
      "|[2020-11-09 00:20:30, 2020-11-09 00:20:50]|14215   |1    |\n",
      "|[2020-11-09 00:20:10, 2020-11-09 00:20:30]|2453    |1    |\n",
      "|[2020-11-09 00:20:20, 2020-11-09 00:20:40]|2185    |1    |\n",
      "|[2020-11-09 00:20:30, 2020-11-09 00:20:50]|452     |1    |\n",
      "|[2020-11-09 00:20:30, 2020-11-09 00:20:50]|269     |1    |\n",
      "|[2020-11-09 00:20:00, 2020-11-09 00:20:20]|33      |1    |\n",
      "|[2020-11-09 00:20:30, 2020-11-09 00:20:50]|389     |1    |\n",
      "+------------------------------------------+--------+-----+\n",
      "only showing top 10 rows\n",
      "\n",
      "+------------------------------------------+--------+-----+\n",
      "|window                                    |follower|count|\n",
      "+------------------------------------------+--------+-----+\n",
      "|[2020-11-09 00:20:40, 2020-11-09 00:21:00]|389     |1    |\n",
      "|[2020-11-09 00:20:30, 2020-11-09 00:20:50]|2836    |1    |\n",
      "|[2020-11-09 00:20:40, 2020-11-09 00:21:00]|255     |1    |\n",
      "|[2020-11-09 00:20:30, 2020-11-09 00:20:50]|14215   |1    |\n",
      "|[2020-11-09 00:20:10, 2020-11-09 00:20:30]|2453    |1    |\n",
      "|[2020-11-09 00:20:20, 2020-11-09 00:20:40]|2185    |1    |\n",
      "|[2020-11-09 00:20:30, 2020-11-09 00:20:50]|452     |1    |\n",
      "|[2020-11-09 00:20:30, 2020-11-09 00:20:50]|269     |1    |\n",
      "|[2020-11-09 00:20:00, 2020-11-09 00:20:20]|33      |1    |\n",
      "|[2020-11-09 00:20:30, 2020-11-09 00:20:50]|389     |1    |\n",
      "+------------------------------------------+--------+-----+\n",
      "only showing top 10 rows\n",
      "\n",
      "+------------------------------------------+--------+-----+\n",
      "|window                                    |follower|count|\n",
      "+------------------------------------------+--------+-----+\n",
      "|[2020-11-09 00:20:40, 2020-11-09 00:21:00]|389     |1    |\n",
      "|[2020-11-09 00:20:40, 2020-11-09 00:21:00]|18      |1    |\n",
      "|[2020-11-09 00:20:30, 2020-11-09 00:20:50]|2836    |1    |\n",
      "|[2020-11-09 00:20:40, 2020-11-09 00:21:00]|255     |1    |\n",
      "|[2020-11-09 00:20:30, 2020-11-09 00:20:50]|14215   |1    |\n",
      "|[2020-11-09 00:20:10, 2020-11-09 00:20:30]|2453    |1    |\n",
      "|[2020-11-09 00:20:20, 2020-11-09 00:20:40]|2185    |1    |\n",
      "|[2020-11-09 00:20:30, 2020-11-09 00:20:50]|452     |1    |\n",
      "|[2020-11-09 00:20:30, 2020-11-09 00:20:50]|269     |1    |\n",
      "|[2020-11-09 00:20:40, 2020-11-09 00:21:00]|1316    |1    |\n",
      "+------------------------------------------+--------+-----+\n",
      "only showing top 10 rows\n",
      "\n",
      "+------------------------------------------+--------+-----+\n",
      "|window                                    |follower|count|\n",
      "+------------------------------------------+--------+-----+\n",
      "|[2020-11-09 00:20:40, 2020-11-09 00:21:00]|389     |1    |\n",
      "|[2020-11-09 00:20:40, 2020-11-09 00:21:00]|18      |1    |\n",
      "|[2020-11-09 00:20:30, 2020-11-09 00:20:50]|2836    |1    |\n",
      "|[2020-11-09 00:20:40, 2020-11-09 00:21:00]|255     |1    |\n",
      "|[2020-11-09 00:20:30, 2020-11-09 00:20:50]|14215   |1    |\n",
      "|[2020-11-09 00:20:10, 2020-11-09 00:20:30]|2453    |1    |\n",
      "|[2020-11-09 00:20:20, 2020-11-09 00:20:40]|2185    |1    |\n",
      "|[2020-11-09 00:20:30, 2020-11-09 00:20:50]|452     |1    |\n",
      "|[2020-11-09 00:20:30, 2020-11-09 00:20:50]|269     |1    |\n",
      "|[2020-11-09 00:20:40, 2020-11-09 00:21:00]|1316    |1    |\n",
      "+------------------------------------------+--------+-----+\n",
      "only showing top 10 rows\n",
      "\n"
     ]
    }
   ],
   "source": [
    "for i in range(10):\n",
    "    df_ = spark.sql('SELECT * FROM retweetQuery')\n",
    "    df_.show(10)\n",
    "    time.sleep(1)\n"
   ]
  },
  {
   "cell_type": "markdown",
   "metadata": {},
   "source": [
    "## Q7: Analyze the sentiment of the tweets by using the TextBlob function.\n",
    "\n",
    "TextBlob help doc: [link](https://textblob.readthedocs.io/en/dev/)"
   ]
  },
  {
   "cell_type": "markdown",
   "metadata": {},
   "source": [
    "#### First, write a function that takes in a text input, and returns a sentiment of the input from the following array: ['negative', 'neutral', 'positive']"
   ]
  },
  {
   "cell_type": "code",
   "execution_count": 28,
   "metadata": {},
   "outputs": [],
   "source": [
    "from textblob import TextBlob\n",
    "\n",
    "def get_sentiment(text):\n",
    "    textblob = TextBlob(text).sentiment.polarity\n",
    "    if textblob < 0:\n",
    "        return 'negative'\n",
    "    elif textblob == 0:\n",
    "        return 'neutral'\n",
    "    elif textblob > 0:\n",
    "        return 'positive'"
   ]
  },
  {
   "cell_type": "markdown",
   "metadata": {},
   "source": [
    "#### Second, use a UDF function to generate a new column for the streaming DataFrame `df`."
   ]
  },
  {
   "cell_type": "code",
   "execution_count": 29,
   "metadata": {},
   "outputs": [],
   "source": [
    "from pyspark.sql.functions import udf\n",
    "\n",
    "sentiment_udf = udf(get_sentiment, StringType())\n",
    "\n",
    "\n",
    "df = df.withColumn('sentiment', sentiment_udf(df.tweet))\n"
   ]
  },
  {
   "cell_type": "code",
   "execution_count": 30,
   "metadata": {},
   "outputs": [
    {
     "name": "stdout",
     "output_type": "stream",
     "text": [
      "root\n",
      " |-- timestamp: timestamp (nullable = true)\n",
      " |-- id: string (nullable = true)\n",
      " |-- user: string (nullable = true)\n",
      " |-- follower: integer (nullable = true)\n",
      " |-- friends: integer (nullable = true)\n",
      " |-- tweet: string (nullable = true)\n",
      " |-- hashtag: string (nullable = true)\n",
      " |-- ts: timestamp (nullable = true)\n",
      " |-- retweet: integer (nullable = true)\n",
      " |-- favorite: integer (nullable = true)\n",
      " |-- sentiment: string (nullable = true)\n",
      "\n"
     ]
    }
   ],
   "source": [
    "df.printSchema()"
   ]
  },
  {
   "cell_type": "markdown",
   "metadata": {},
   "source": [
    "#### Lastly, run a query to find the count for each kind of sentiment. "
   ]
  },
  {
   "cell_type": "code",
   "execution_count": 31,
   "metadata": {},
   "outputs": [],
   "source": [
    "sentimentCount = df.groupBy('sentiment').count()\n",
    "\n"
   ]
  },
  {
   "cell_type": "code",
   "execution_count": 32,
   "metadata": {},
   "outputs": [],
   "source": [
    "sentimentQuery = sentimentCount.writeStream \\\n",
    "                  .outputMode('complete') \\\n",
    "                  .format('memory') \\\n",
    "                  .queryName('sentimentQuery') \\\n",
    "                  .start()\n",
    "\n",
    "\n"
   ]
  },
  {
   "cell_type": "code",
   "execution_count": 33,
   "metadata": {},
   "outputs": [
    {
     "name": "stdout",
     "output_type": "stream",
     "text": [
      "+---------+-----+\n",
      "|sentiment|count|\n",
      "+---------+-----+\n",
      "+---------+-----+\n",
      "\n",
      "+---------+-----+\n",
      "|sentiment|count|\n",
      "+---------+-----+\n",
      "|positive |1    |\n",
      "|neutral  |3    |\n",
      "|negative |1    |\n",
      "+---------+-----+\n",
      "\n",
      "+---------+-----+\n",
      "|sentiment|count|\n",
      "+---------+-----+\n",
      "|positive |1    |\n",
      "|neutral  |7    |\n",
      "|negative |2    |\n",
      "+---------+-----+\n",
      "\n",
      "+---------+-----+\n",
      "|sentiment|count|\n",
      "+---------+-----+\n",
      "|positive |6    |\n",
      "|neutral  |13   |\n",
      "|negative |4    |\n",
      "+---------+-----+\n",
      "\n",
      "+---------+-----+\n",
      "|sentiment|count|\n",
      "+---------+-----+\n",
      "|positive |7    |\n",
      "|neutral  |17   |\n",
      "|negative |6    |\n",
      "+---------+-----+\n",
      "\n",
      "+---------+-----+\n",
      "|sentiment|count|\n",
      "+---------+-----+\n",
      "|positive |10   |\n",
      "|neutral  |20   |\n",
      "|negative |8    |\n",
      "+---------+-----+\n",
      "\n",
      "+---------+-----+\n",
      "|sentiment|count|\n",
      "+---------+-----+\n",
      "|positive |13   |\n",
      "|neutral  |20   |\n",
      "|negative |9    |\n",
      "+---------+-----+\n",
      "\n",
      "+---------+-----+\n",
      "|sentiment|count|\n",
      "+---------+-----+\n",
      "|positive |19   |\n",
      "|neutral  |26   |\n",
      "|negative |10   |\n",
      "+---------+-----+\n",
      "\n",
      "+---------+-----+\n",
      "|sentiment|count|\n",
      "+---------+-----+\n",
      "|positive |25   |\n",
      "|neutral  |33   |\n",
      "|negative |11   |\n",
      "+---------+-----+\n",
      "\n",
      "+---------+-----+\n",
      "|sentiment|count|\n",
      "+---------+-----+\n",
      "|positive |31   |\n",
      "|neutral  |34   |\n",
      "|negative |13   |\n",
      "+---------+-----+\n",
      "\n"
     ]
    }
   ],
   "source": [
    "# Can also use an infinitely loop instead to poll the results\n",
    "\n",
    "for i in range(10):\n",
    "    df = spark.sql('SELECT * FROM sentimentQuery')\n",
    "    df.show(10)\n",
    "    time.sleep(2)"
   ]
  },
  {
   "cell_type": "markdown",
   "metadata": {},
   "source": [
    "## Q8: Show the sentiment analysis on a barplot dashboard."
   ]
  },
  {
   "cell_type": "code",
   "execution_count": 34,
   "metadata": {},
   "outputs": [],
   "source": [
    "from IPython import display\n",
    "import matplotlib.pyplot as plt\n",
    "import seaborn as sns\n",
    "# Only works for Jupyter Notebooks!\n",
    "%matplotlib inline "
   ]
  },
  {
   "cell_type": "code",
   "execution_count": 35,
   "metadata": {},
   "outputs": [
    {
     "data": {
      "image/png": "[encoded data removed]",
      "text/plain": [
       "<Figure size 720x576 with 1 Axes>"
      ]
     },
     "metadata": {
      "needs_background": "light"
     },
     "output_type": "display_data"
    }
   ],
   "source": [
    "for i in range(10):\n",
    "    df = spark.sql('SELECT * FROM sentimentQuery')\n",
    "    df_pd = df.toPandas()\n",
    "    display.clear_output(wait=True)\n",
    "    plt.figure(figsize = (10,8))\n",
    "    sns.barplot(data = df_pd, y='sentiment', x='count')\n",
    "    plt.show()\n",
    "    time.sleep(1)"
   ]
  },
  {
   "cell_type": "code",
   "execution_count": 36,
   "metadata": {},
   "outputs": [],
   "source": [
    "# Stop all queries\n",
    "retweetQuery.stop()\n",
    "followerQuery.stop()\n",
    "sentimentQuery.stop()"
   ]
  },
  {
   "cell_type": "markdown",
   "metadata": {},
   "source": [
    "## Great Job!"
   ]
  }
 ],
 "metadata": {
  "anaconda-cloud": {},
  "kernelspec": {
   "display_name": "Python 3 (ipykernel)",
   "language": "python",
   "name": "python3"
  },
  "language_info": {
   "codemirror_mode": {
    "name": "ipython",
    "version": 3
   },
   "file_extension": ".py",
   "mimetype": "text/x-python",
   "name": "python",
   "nbconvert_exporter": "python",
   "pygments_lexer": "ipython3",
   "version": "3.7.13"
  },
  "toc": {
   "base_numbering": 1,
   "nav_menu": {},
   "number_sections": true,
   "sideBar": true,
   "skip_h1_title": false,
   "title_cell": "Table of Contents",
   "title_sidebar": "Contents",
   "toc_cell": false,
   "toc_position": {},
   "toc_section_display": true,
   "toc_window_display": false
  },
  "varInspector": {
   "cols": {
    "lenName": 16,
    "lenType": 16,
    "lenVar": 40
   },
   "kernels_config": {
    "python": {
     "delete_cmd_postfix": "",
     "delete_cmd_prefix": "del ",
     "library": "var_list.py",
     "varRefreshCmd": "print(var_dic_list())"
    },
    "r": {
     "delete_cmd_postfix": ") ",
     "delete_cmd_prefix": "rm(",
     "library": "var_list.r",
     "varRefreshCmd": "cat(var_dic_list()) "
    }
   },
   "types_to_exclude": [
    "module",
    "function",
    "builtin_function_or_method",
    "instance",
    "_Feature"
   ],
   "window_display": false
  }
 },
 "nbformat": 4,
 "nbformat_minor": 1
}
