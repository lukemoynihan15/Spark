{
 "cells": [
  {
   "cell_type": "markdown",
   "metadata": {},
   "source": [
    "<h1><center> DS420 - Lab 3: Spark DataFrames"
   ]
  },
  {
   "cell_type": "markdown",
   "metadata": {},
   "source": [
    "## Goal:\n",
    "\n",
    "In this lab, you will be working with your new Spark DataFrame skills. You are given ten days of merchandise transactions from a local supermarket in July 2020. Follow along the questoins and complete the tasks below.\n",
    "\n",
    "__Since our goal in this lab is to practice Spark DataFrame APIs, therefore using SQL queries is not recommended. 5 points will be deducted from your grade for each occurence of using SQL queries.__"
   ]
  },
  {
   "cell_type": "markdown",
   "metadata": {},
   "source": [
    "## Datasets:\n",
    "\n",
    "The dataset we going to use consists of three tables coming from the database of a supermarket here in Elizabethtown. The three tables are about products, sales and sellers respectively. The three tables are stored in Parquet file format. You can find the data from a shared directory in HDFS on the ADAL.etown.edu server as described below:\n",
    "\n",
    "+ `products_parquet: /ds420_shared/products_parquet`\n",
    "+ `sales_parquet: /ds420_shared/sales_parquet`\n",
    "+ `sellers_parquet: /ds420_shared/sellers_parquet`"
   ]
  },
  {
   "cell_type": "markdown",
   "metadata": {},
   "source": [
    "## Q1 (10 points): Start a Spark Session, with the application named as \"lab3_xxx\", where \"xxx\" is your last name in lower cases."
   ]
  },
  {
   "cell_type": "markdown",
   "metadata": {},
   "source": [
    "#### Import SparkSession module and the SparkSQL functions module with an alias as `F`. "
   ]
  },
  {
   "cell_type": "code",
   "execution_count": 1,
   "metadata": {},
   "outputs": [],
   "source": [
    "import findspark\n",
    "\n",
    "findspark.init('/opt/spark')\n",
    "\n",
    "\n"
   ]
  },
  {
   "cell_type": "markdown",
   "metadata": {},
   "source": [
    "#### Create a spark session with name `lab3_xxx`, where xxx is your unique id. "
   ]
  },
  {
   "cell_type": "code",
   "execution_count": 2,
   "metadata": {},
   "outputs": [],
   "source": [
    "#   Initialize the Spark session\n",
    "from pyspark.sql import SparkSession\n",
    "\n",
    "spark = SparkSession.builder.appName('lab3_moynihan').getOrCreate()\n",
    "\n",
    "import pyspark.sql.functions as F\n",
    "\n"
   ]
  },
  {
   "cell_type": "markdown",
   "metadata": {},
   "source": [
    "## Q2 (15 points): Read in all three tables from hdfs into three separate DataFrames. The DataFrame names are already provided."
   ]
  },
  {
   "cell_type": "markdown",
   "metadata": {},
   "source": [
    "####  Read in Parquet formated data from the given directories on HDFS. \n",
    "\n",
    "Remember since the HDFS is on the same node of the Spark master, you can use `localhost` as the IP address, and use port number `9000` for the HDFS service."
   ]
  },
  {
   "cell_type": "code",
   "execution_count": 3,
   "metadata": {},
   "outputs": [],
   "source": [
    "products = spark.read.parquet('hdfs://localhost:9000/ds420_shared/products_parquet')\n",
    "\n",
    "sales = spark.read.parquet('hdfs://localhost:9000/ds420_shared/sales_parquet')\n",
    "\n",
    "sellers = spark.read.parquet('hdfs://localhost:9000/ds420_shared/sellers_parquet')\n"
   ]
  },
  {
   "cell_type": "markdown",
   "metadata": {},
   "source": [
    "#### Print the first 5 rows of each DataFrame"
   ]
  },
  {
   "cell_type": "code",
   "execution_count": 4,
   "metadata": {},
   "outputs": [
    {
     "name": "stdout",
     "output_type": "stream",
     "text": [
      "+----------+------------+-----+\n",
      "|product_id|product_name|price|\n",
      "+----------+------------+-----+\n",
      "|         0|   product_0|   22|\n",
      "|         1|   product_1|   30|\n",
      "|         2|   product_2|   91|\n",
      "|         3|   product_3|   37|\n",
      "|         4|   product_4|  145|\n",
      "+----------+------------+-----+\n",
      "only showing top 5 rows\n",
      "\n",
      "+--------+----------+---------+----------+---------------+--------------------+\n",
      "|order_id|product_id|seller_id|      date|num_pieces_sold|       bill_raw_text|\n",
      "+--------+----------+---------+----------+---------------+--------------------+\n",
      "|       1|         0|        0|2020-07-09|             16|kazugewymyzppnepe...|\n",
      "|       2|         0|        0|2020-07-10|             86|norxukdtrctjxxtpp...|\n",
      "|       3|         0|        0|2020-07-01|             48|renkbwhtkyshdcjrh...|\n",
      "|       4|         0|        0|2020-07-02|             86|whjrxfkmopcgqrdpd...|\n",
      "|       5|         0|        0|2020-07-02|             22|nyqfeqgdPwmktxzph...|\n",
      "+--------+----------+---------+----------+---------------+--------------------+\n",
      "only showing top 5 rows\n",
      "\n",
      "+---------+-----------+------------+\n",
      "|seller_id|seller_name|daily_target|\n",
      "+---------+-----------+------------+\n",
      "|        0|   seller_0|      250000|\n",
      "|        1|   seller_1|       47616|\n",
      "|        2|   seller_2|      193347|\n",
      "|        3|   seller_3|      123615|\n",
      "|        4|   seller_4|       72796|\n",
      "+---------+-----------+------------+\n",
      "only showing top 5 rows\n",
      "\n"
     ]
    }
   ],
   "source": [
    "products.show(5)\n",
    "sales.show(5)\n",
    "sellers.show(5)"
   ]
  },
  {
   "cell_type": "markdown",
   "metadata": {},
   "source": [
    "#### Print the schema of each DataFrame"
   ]
  },
  {
   "cell_type": "code",
   "execution_count": 5,
   "metadata": {},
   "outputs": [
    {
     "name": "stdout",
     "output_type": "stream",
     "text": [
      "root\n",
      " |-- product_id: string (nullable = true)\n",
      " |-- product_name: string (nullable = true)\n",
      " |-- price: string (nullable = true)\n",
      "\n",
      "root\n",
      " |-- order_id: string (nullable = true)\n",
      " |-- product_id: string (nullable = true)\n",
      " |-- seller_id: string (nullable = true)\n",
      " |-- date: string (nullable = true)\n",
      " |-- num_pieces_sold: string (nullable = true)\n",
      " |-- bill_raw_text: string (nullable = true)\n",
      "\n",
      "root\n",
      " |-- seller_id: string (nullable = true)\n",
      " |-- seller_name: string (nullable = true)\n",
      " |-- daily_target: string (nullable = true)\n",
      "\n"
     ]
    }
   ],
   "source": [
    "products.printSchema()\n",
    "sales.printSchema()\n",
    "sellers.printSchema()"
   ]
  },
  {
   "cell_type": "markdown",
   "metadata": {},
   "source": [
    "#### Note that the `daily_target` column indicate the \"total amount of products sold\" daily target for each seller. "
   ]
  },
  {
   "cell_type": "markdown",
   "metadata": {},
   "source": [
    "## Q3 (15 points): Basic statistics. Anwer the following questions."
   ]
  },
  {
   "cell_type": "markdown",
   "metadata": {},
   "source": [
    "#### Print the total number of rows in each DataFrame"
   ]
  },
  {
   "cell_type": "code",
   "execution_count": 6,
   "metadata": {},
   "outputs": [
    {
     "name": "stdout",
     "output_type": "stream",
     "text": [
      "Number of products: 7500000\n",
      "Number of orders: 2000040\n",
      "Number of sellers: 10\n"
     ]
    }
   ],
   "source": [
    "#   Print the number of products\n",
    "print('Number of products:',   products.count()              )\n",
    "\n",
    "#   Print the number of orders\n",
    "print('Number of orders:',        sales.count()           )\n",
    "\n",
    "#   Print the number of sellers\n",
    "print('Number of sellers:',        sellers.count()          )\n"
   ]
  },
  {
   "cell_type": "markdown",
   "metadata": {},
   "source": [
    "#### Find how many *unique* products do we have? Rename the resulting column as indicated below."
   ]
  },
  {
   "cell_type": "code",
   "execution_count": 7,
   "metadata": {},
   "outputs": [
    {
     "name": "stdout",
     "output_type": "stream",
     "text": [
      "+--------------------+\n",
      "|Unique # of Products|\n",
      "+--------------------+\n",
      "|               99323|\n",
      "+--------------------+\n",
      "\n"
     ]
    }
   ],
   "source": [
    "# Output how many products have been actually sold at least once\n",
    "\n",
    "sales.select(F.countDistinct('product_id').alias('Unique # of Products')).show()\n",
    "\n"
   ]
  },
  {
   "cell_type": "markdown",
   "metadata": {},
   "source": [
    "## Q4 (15 points): Answer the following questions.\n",
    "\n",
    "#### Find which product has been sold the most from all orders."
   ]
  },
  {
   "cell_type": "code",
   "execution_count": 8,
   "metadata": {},
   "outputs": [
    {
     "name": "stdout",
     "output_type": "stream",
     "text": [
      "+----------+-------+\n",
      "|product_id|  count|\n",
      "+----------+-------+\n",
      "|         0|1900000|\n",
      "+----------+-------+\n",
      "only showing top 1 row\n",
      "\n"
     ]
    }
   ],
   "source": [
    "sale = sales.groupBy('product_id').count()\n",
    "saless = sale.orderBy(F.desc('count')).show(1)"
   ]
  },
  {
   "cell_type": "markdown",
   "metadata": {},
   "source": [
    "#### Which day has the largest amount of products sold?"
   ]
  },
  {
   "cell_type": "code",
   "execution_count": 9,
   "metadata": {},
   "outputs": [
    {
     "name": "stdout",
     "output_type": "stream",
     "text": [
      "+----------+-----------------+\n",
      "|      date|count(product_id)|\n",
      "+----------+-----------------+\n",
      "|2020-07-06|           201292|\n",
      "+----------+-----------------+\n",
      "only showing top 1 row\n",
      "\n"
     ]
    }
   ],
   "source": [
    "\n",
    "sales.groupBy('date').agg({'product_id':'count'}).orderBy(F.desc('count(product_id)')).show(1)\n",
    "\n"
   ]
  },
  {
   "cell_type": "markdown",
   "metadata": {},
   "source": [
    "## Q5 (15 points): If we define the revenue of each product type as \"product unit price times number of product sold\", calculate the average revenue per order.\n",
    "\n",
    "#### Step1: join two products and sales tables together using the join() method ([link](https://spark.apache.org/docs/3.2.1/api/python/reference/api/pyspark.sql.DataFrame.join.html))."
   ]
  },
  {
   "cell_type": "code",
   "execution_count": 12,
   "metadata": {},
   "outputs": [],
   "source": [
    "# Do the join \n",
    "product_sales = products.join(sales, products.product_id == sales.product_id, 'inner')    \n",
    "\n",
    "\n"
   ]
  },
  {
   "cell_type": "code",
   "execution_count": 13,
   "metadata": {},
   "outputs": [
    {
     "name": "stdout",
     "output_type": "stream",
     "text": [
      "+----------+---------------+-----+--------+----------+---------+----------+---------------+--------------------+\n",
      "|product_id|   product_name|price|order_id|product_id|seller_id|      date|num_pieces_sold|       bill_raw_text|\n",
      "+----------+---------------+-----+--------+----------+---------+----------+---------------+--------------------+\n",
      "|   1034710|product_1034710|  139| 1299770|   1034710|        4|2020-07-07|             98|dvrksgqyuijwuztno...|\n",
      "|   1036666|product_1036666|  103| 1098542|   1036666|        2|2020-07-09|             90|hzcikhnpnxkkbvflq...|\n",
      "|   1037840|product_1037840|   48|   99555|   1037840|        3|2020-07-02|             68|ftcvewitmlrcfcgtk...|\n",
      "|   1043113|product_1043113|   87|   49363|   1043113|        1|2020-07-03|             84|ybaufhttgbmfnitto...|\n",
      "|   1060548|product_1060548|   35| 1498971|   1060548|        6|2020-07-05|             96|iatuvbdccotrjnboz...|\n",
      "+----------+---------------+-----+--------+----------+---------+----------+---------------+--------------------+\n",
      "only showing top 5 rows\n",
      "\n"
     ]
    }
   ],
   "source": [
    "product_sales.show(5)"
   ]
  },
  {
   "cell_type": "markdown",
   "metadata": {},
   "source": [
    "#### Step 2: create a new column named as 'order_revenue' to the DataFrame `product_sales`  from step 1."
   ]
  },
  {
   "cell_type": "code",
   "execution_count": 22,
   "metadata": {
    "scrolled": true
   },
   "outputs": [],
   "source": [
    "product_sales = product_sales.withColumn('order_revenue', product_sales['num_pieces_sold' ]*product_sales['price'])"
   ]
  },
  {
   "cell_type": "code",
   "execution_count": 23,
   "metadata": {},
   "outputs": [
    {
     "name": "stdout",
     "output_type": "stream",
     "text": [
      "+----------+---------------+-----+--------+----------+---------+----------+---------------+--------------------+-------------+\n",
      "|product_id|   product_name|price|order_id|product_id|seller_id|      date|num_pieces_sold|       bill_raw_text|order_revenue|\n",
      "+----------+---------------+-----+--------+----------+---------+----------+---------------+--------------------+-------------+\n",
      "|   1034710|product_1034710|  139| 1299770|   1034710|        4|2020-07-07|             98|dvrksgqyuijwuztno...|      13622.0|\n",
      "|   1036666|product_1036666|  103| 1098542|   1036666|        2|2020-07-09|             90|hzcikhnpnxkkbvflq...|       9270.0|\n",
      "|   1037840|product_1037840|   48|   99555|   1037840|        3|2020-07-02|             68|ftcvewitmlrcfcgtk...|       3264.0|\n",
      "|   1043113|product_1043113|   87|   49363|   1043113|        1|2020-07-03|             84|ybaufhttgbmfnitto...|       7308.0|\n",
      "|   1060548|product_1060548|   35| 1498971|   1060548|        6|2020-07-05|             96|iatuvbdccotrjnboz...|       3360.0|\n",
      "+----------+---------------+-----+--------+----------+---------+----------+---------------+--------------------+-------------+\n",
      "only showing top 5 rows\n",
      "\n"
     ]
    }
   ],
   "source": [
    "product_sales.show(5)"
   ]
  },
  {
   "cell_type": "markdown",
   "metadata": {},
   "source": [
    "#### Step 3: Calculate the average revenue per order. Note the resulting column name has to match the one indicated below. "
   ]
  },
  {
   "cell_type": "code",
   "execution_count": 24,
   "metadata": {},
   "outputs": [
    {
     "name": "stdout",
     "output_type": "stream",
     "text": [
      "+---------------------+\n",
      "|Average order revenue|\n",
      "+---------------------+\n",
      "|    1246.602943941121|\n",
      "+---------------------+\n",
      "\n"
     ]
    }
   ],
   "source": [
    "product_sales.select(F.avg('order_revenue').alias('Average order revenue')).show()\n",
    "\n"
   ]
  },
  {
   "cell_type": "markdown",
   "metadata": {},
   "source": [
    "## Q6 (15 points): Answer the following table query questions"
   ]
  },
  {
   "cell_type": "markdown",
   "metadata": {},
   "source": [
    "#### Find all the products that are in the price range of 50 to 60, inclusive."
   ]
  },
  {
   "cell_type": "code",
   "execution_count": 26,
   "metadata": {},
   "outputs": [
    {
     "name": "stdout",
     "output_type": "stream",
     "text": [
      "+----------+------------+-----+\n",
      "|product_id|product_name|price|\n",
      "+----------+------------+-----+\n",
      "|         8|   product_8|   51|\n",
      "|        10|  product_10|   53|\n",
      "|        58|  product_58|   54|\n",
      "|        60|  product_60|   55|\n",
      "|        62|  product_62|   54|\n",
      "|        72|  product_72|   60|\n",
      "|        86|  product_86|   54|\n",
      "|       102| product_102|   52|\n",
      "|       103| product_103|   54|\n",
      "|       147| product_147|   56|\n",
      "|       168| product_168|   54|\n",
      "|       177| product_177|   56|\n",
      "|       178| product_178|   58|\n",
      "|       205| product_205|   52|\n",
      "|       207| product_207|   55|\n",
      "|       211| product_211|   50|\n",
      "|       229| product_229|   51|\n",
      "|       258| product_258|   50|\n",
      "|       264| product_264|   60|\n",
      "|       276| product_276|   52|\n",
      "+----------+------------+-----+\n",
      "only showing top 20 rows\n",
      "\n"
     ]
    }
   ],
   "source": [
    "products.filter((products['price']>=50 ) & (products['price']<=60)).show()\n",
    "\n"
   ]
  },
  {
   "cell_type": "markdown",
   "metadata": {},
   "source": [
    "#### Find the average revenue on July 06, 2020. Note the resulting column name has to match the one indicated below. "
   ]
  },
  {
   "cell_type": "code",
   "execution_count": 27,
   "metadata": {},
   "outputs": [
    {
     "name": "stdout",
     "output_type": "stream",
     "text": [
      "+--------------------+\n",
      "|Avg Revenue on 07/06|\n",
      "+--------------------+\n",
      "|  1245.1128311110228|\n",
      "+--------------------+\n",
      "\n"
     ]
    }
   ],
   "source": [
    "avgRev = product_sales.filter(product_sales['date'] == '2020-07-06')\n",
    "avgRev.select(F.mean('order_revenue').alias('Avg Revenue on 07/06')).show()\n"
   ]
  },
  {
   "cell_type": "markdown",
   "metadata": {},
   "source": [
    "## Q7 (15 points): For each seller, what is his/her average per order contribution out of this seller’ `daily_target` in percentage (%)?\n",
    "Hint: you need to join tables similar to Q5. Creating an additional `per order contribution` column would help on the later step. Feel free to break down to multiple steps. "
   ]
  },
  {
   "cell_type": "code",
   "execution_count": 28,
   "metadata": {},
   "outputs": [],
   "source": [
    "# Join the tables\n",
    "\n",
    "seller_sales = sellers.join(sales, 'seller_id', 'inner')\n"
   ]
  },
  {
   "cell_type": "code",
   "execution_count": 29,
   "metadata": {},
   "outputs": [
    {
     "name": "stdout",
     "output_type": "stream",
     "text": [
      "+---------+-----------+------------+--------+----------+----------+---------------+--------------------+\n",
      "|seller_id|seller_name|daily_target|order_id|product_id|      date|num_pieces_sold|       bill_raw_text|\n",
      "+---------+-----------+------------+--------+----------+----------+---------------+--------------------+\n",
      "|        0|   seller_0|      250000|       1|         0|2020-07-09|             16|kazugewymyzppnepe...|\n",
      "|        0|   seller_0|      250000|       2|         0|2020-07-10|             86|norxukdtrctjxxtpp...|\n",
      "|        0|   seller_0|      250000|       3|         0|2020-07-01|             48|renkbwhtkyshdcjrh...|\n",
      "|        0|   seller_0|      250000|       4|         0|2020-07-02|             86|whjrxfkmopcgqrdpd...|\n",
      "|        0|   seller_0|      250000|       5|         0|2020-07-02|             22|nyqfeqgdPwmktxzph...|\n",
      "+---------+-----------+------------+--------+----------+----------+---------------+--------------------+\n",
      "only showing top 5 rows\n",
      "\n"
     ]
    }
   ],
   "source": [
    "seller_sales.show(5)"
   ]
  },
  {
   "cell_type": "code",
   "execution_count": 30,
   "metadata": {},
   "outputs": [
    {
     "name": "stdout",
     "output_type": "stream",
     "text": [
      "+---------+-----------+------------+--------+----------+----------+---------------+--------------------+------------+\n",
      "|seller_id|seller_name|daily_target|order_id|product_id|      date|num_pieces_sold|       bill_raw_text|contribution|\n",
      "+---------+-----------+------------+--------+----------+----------+---------------+--------------------+------------+\n",
      "|        0|   seller_0|      250000|       1|         0|2020-07-09|             16|kazugewymyzppnepe...|      6.4E-5|\n",
      "|        0|   seller_0|      250000|       2|         0|2020-07-10|             86|norxukdtrctjxxtpp...|     3.44E-4|\n",
      "|        0|   seller_0|      250000|       3|         0|2020-07-01|             48|renkbwhtkyshdcjrh...|     1.92E-4|\n",
      "|        0|   seller_0|      250000|       4|         0|2020-07-02|             86|whjrxfkmopcgqrdpd...|     3.44E-4|\n",
      "|        0|   seller_0|      250000|       5|         0|2020-07-02|             22|nyqfeqgdPwmktxzph...|      8.8E-5|\n",
      "+---------+-----------+------------+--------+----------+----------+---------------+--------------------+------------+\n",
      "only showing top 5 rows\n",
      "\n"
     ]
    }
   ],
   "source": [
    "# Create a new column `contribution`\n",
    "\n",
    "seller_sales = seller_sales.withColumn('contribution', seller_sales['num_pieces_sold']/seller_sales['daily_target'])\n",
    "\n",
    "\n",
    "seller_sales.show(5)"
   ]
  },
  {
   "cell_type": "code",
   "execution_count": 31,
   "metadata": {},
   "outputs": [
    {
     "name": "stdout",
     "output_type": "stream",
     "text": [
      "+-----------+--------------------+\n",
      "|seller_name|   avg(contribution)|\n",
      "+-----------+--------------------+\n",
      "|   seller_1|0.001052995783689955|\n",
      "|   seller_3|4.044207069691405...|\n",
      "|   seller_4|6.944752113745378E-4|\n",
      "|   seller_2|2.617788771371686E-4|\n",
      "|   seller_7|6.493865185061187E-4|\n",
      "|   seller_0|2.020522484211978...|\n",
      "|   seller_5|0.001537585488074...|\n",
      "|   seller_8|0.001467451290254...|\n",
      "|   seller_6|4.142882032943009...|\n",
      "|   seller_9|0.003522315225081...|\n",
      "+-----------+--------------------+\n",
      "\n"
     ]
    }
   ],
   "source": [
    "# Find the final answer\n",
    "\n",
    "seller_sales.groupBy('seller_name').mean().show()\n"
   ]
  }
 ],
 "metadata": {
  "kernelspec": {
   "display_name": "Python 3 (ipykernel)",
   "language": "python",
   "name": "python3"
  },
  "language_info": {
   "codemirror_mode": {
    "name": "ipython",
    "version": 3
   },
   "file_extension": ".py",
   "mimetype": "text/x-python",
   "name": "python",
   "nbconvert_exporter": "python",
   "pygments_lexer": "ipython3",
   "version": "3.7.13"
  }
 },
 "nbformat": 4,
 "nbformat_minor": 4
}
