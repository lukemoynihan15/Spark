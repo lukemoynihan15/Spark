{
 "cells": [
  {
   "cell_type": "markdown",
   "metadata": {},
   "source": [
    "<h1><center> DS420 - Homework 4: Classifications\n"
   ]
  },
  {
   "cell_type": "markdown",
   "metadata": {},
   "source": [
    "## Goal:\n",
    "Given by a home loan agency, the dataset is used to predict how reliable each applicant is of repaying a loan. Each row in the dataset represents one loan in our data sample.\n",
    "\n",
    "Among 122 columns in the dataset, the 'TARGET' column is our label column, with '0' meaning the applicant will NOT default the repayment, and '1' being the applicant will default. "
   ]
  },
  {
   "cell_type": "markdown",
   "metadata": {},
   "source": [
    "## Setup Spark Environment for Jupyter Notebook"
   ]
  },
  {
   "cell_type": "code",
   "execution_count": 123,
   "metadata": {},
   "outputs": [],
   "source": [
    "# We use the findspark library to locate the Spark package on our local machine (v. 3.0.1)\n",
    "\n",
    "\n",
    "\n",
    "import findspark\n",
    "\n",
    "findspark.init('/opt/spark')\n",
    "from pyspark.sql import SparkSession\n"
   ]
  },
  {
   "cell_type": "markdown",
   "metadata": {},
   "source": [
    "## Q1: Import necessary libraries, create a Spark session \"hw4_xxx\", and read in the given dataset into a DataFrame named \"df\"."
   ]
  },
  {
   "cell_type": "code",
   "execution_count": 402,
   "metadata": {
    "scrolled": true
   },
   "outputs": [],
   "source": [
    "spark = SparkSession.builder.appName('hw4_moynihan').getOrCreate()\n",
    "\n",
    "\n",
    "# Load and parse the data file, converting it to a DataFrame.\n",
    "from pyspark import SparkFiles\n",
    "\n",
    "url = 'https://raw.githubusercontent.com/BlueJayADAL/DS420/master/datasets/hw4/hw4.csv'\n",
    "\n",
    "\n",
    "\n"
   ]
  },
  {
   "cell_type": "code",
   "execution_count": 403,
   "metadata": {},
   "outputs": [
    {
     "name": "stderr",
     "output_type": "stream",
     "text": [
      "22/04/04 23:21:10 WARN SparkContext: The path https://raw.githubusercontent.com/BlueJayADAL/DS420/master/datasets/hw4/hw4.csv has been added already. Overwriting of added paths is not supported in the current version.\n"
     ]
    }
   ],
   "source": [
    "spark.sparkContext.addFile(url)\n",
    "fileloc = SparkFiles.get('hw4.csv')\n",
    "df = spark.read.csv('file://'+fileloc, inferSchema=True, header=True)\n"
   ]
  },
  {
   "cell_type": "markdown",
   "metadata": {},
   "source": [
    "#### Print the schema of the DataFrame"
   ]
  },
  {
   "cell_type": "code",
   "execution_count": 404,
   "metadata": {},
   "outputs": [
    {
     "name": "stdout",
     "output_type": "stream",
     "text": [
      "root\n",
      " |-- _c0: integer (nullable = true)\n",
      " |-- SK_ID_CURR: integer (nullable = true)\n",
      " |-- TARGET: integer (nullable = true)\n",
      " |-- NAME_CONTRACT_TYPE: string (nullable = true)\n",
      " |-- CODE_GENDER: string (nullable = true)\n",
      " |-- FLAG_OWN_CAR: string (nullable = true)\n",
      " |-- FLAG_OWN_REALTY: string (nullable = true)\n",
      " |-- CNT_CHILDREN: integer (nullable = true)\n",
      " |-- AMT_INCOME_TOTAL: double (nullable = true)\n",
      " |-- AMT_CREDIT: double (nullable = true)\n",
      " |-- AMT_ANNUITY: double (nullable = true)\n",
      " |-- AMT_GOODS_PRICE: double (nullable = true)\n",
      " |-- NAME_TYPE_SUITE: string (nullable = true)\n",
      " |-- NAME_INCOME_TYPE: string (nullable = true)\n",
      " |-- NAME_EDUCATION_TYPE: string (nullable = true)\n",
      " |-- NAME_FAMILY_STATUS: string (nullable = true)\n",
      " |-- NAME_HOUSING_TYPE: string (nullable = true)\n",
      " |-- REGION_POPULATION_RELATIVE: double (nullable = true)\n",
      " |-- DAYS_BIRTH: integer (nullable = true)\n",
      " |-- DAYS_EMPLOYED: integer (nullable = true)\n",
      " |-- DAYS_REGISTRATION: double (nullable = true)\n",
      " |-- DAYS_ID_PUBLISH: integer (nullable = true)\n",
      " |-- OWN_CAR_AGE: double (nullable = true)\n",
      " |-- FLAG_MOBIL: integer (nullable = true)\n",
      " |-- FLAG_EMP_PHONE: integer (nullable = true)\n",
      " |-- FLAG_WORK_PHONE: integer (nullable = true)\n",
      " |-- FLAG_CONT_MOBILE: integer (nullable = true)\n",
      " |-- FLAG_PHONE: integer (nullable = true)\n",
      " |-- FLAG_EMAIL: integer (nullable = true)\n",
      " |-- OCCUPATION_TYPE: string (nullable = true)\n",
      " |-- CNT_FAM_MEMBERS: double (nullable = true)\n",
      " |-- REGION_RATING_CLIENT: integer (nullable = true)\n",
      " |-- REGION_RATING_CLIENT_W_CITY: integer (nullable = true)\n",
      " |-- WEEKDAY_APPR_PROCESS_START: string (nullable = true)\n",
      " |-- HOUR_APPR_PROCESS_START: integer (nullable = true)\n",
      " |-- REG_REGION_NOT_LIVE_REGION: integer (nullable = true)\n",
      " |-- REG_REGION_NOT_WORK_REGION: integer (nullable = true)\n",
      " |-- LIVE_REGION_NOT_WORK_REGION: integer (nullable = true)\n",
      " |-- REG_CITY_NOT_LIVE_CITY: integer (nullable = true)\n",
      " |-- REG_CITY_NOT_WORK_CITY: integer (nullable = true)\n",
      " |-- LIVE_CITY_NOT_WORK_CITY: integer (nullable = true)\n",
      " |-- ORGANIZATION_TYPE: string (nullable = true)\n",
      " |-- EXT_SOURCE_1: double (nullable = true)\n",
      " |-- EXT_SOURCE_2: double (nullable = true)\n",
      " |-- EXT_SOURCE_3: double (nullable = true)\n",
      " |-- APARTMENTS_AVG: double (nullable = true)\n",
      " |-- BASEMENTAREA_AVG: double (nullable = true)\n",
      " |-- YEARS_BEGINEXPLUATATION_AVG: double (nullable = true)\n",
      " |-- YEARS_BUILD_AVG: double (nullable = true)\n",
      " |-- COMMONAREA_AVG: double (nullable = true)\n",
      " |-- ELEVATORS_AVG: double (nullable = true)\n",
      " |-- ENTRANCES_AVG: double (nullable = true)\n",
      " |-- FLOORSMAX_AVG: double (nullable = true)\n",
      " |-- FLOORSMIN_AVG: double (nullable = true)\n",
      " |-- LANDAREA_AVG: double (nullable = true)\n",
      " |-- LIVINGAPARTMENTS_AVG: double (nullable = true)\n",
      " |-- LIVINGAREA_AVG: double (nullable = true)\n",
      " |-- NONLIVINGAPARTMENTS_AVG: double (nullable = true)\n",
      " |-- NONLIVINGAREA_AVG: double (nullable = true)\n",
      " |-- APARTMENTS_MODE: double (nullable = true)\n",
      " |-- BASEMENTAREA_MODE: double (nullable = true)\n",
      " |-- YEARS_BEGINEXPLUATATION_MODE: double (nullable = true)\n",
      " |-- YEARS_BUILD_MODE: double (nullable = true)\n",
      " |-- COMMONAREA_MODE: double (nullable = true)\n",
      " |-- ELEVATORS_MODE: double (nullable = true)\n",
      " |-- ENTRANCES_MODE: double (nullable = true)\n",
      " |-- FLOORSMAX_MODE: double (nullable = true)\n",
      " |-- FLOORSMIN_MODE: double (nullable = true)\n",
      " |-- LANDAREA_MODE: double (nullable = true)\n",
      " |-- LIVINGAPARTMENTS_MODE: double (nullable = true)\n",
      " |-- LIVINGAREA_MODE: double (nullable = true)\n",
      " |-- NONLIVINGAPARTMENTS_MODE: double (nullable = true)\n",
      " |-- NONLIVINGAREA_MODE: double (nullable = true)\n",
      " |-- APARTMENTS_MEDI: double (nullable = true)\n",
      " |-- BASEMENTAREA_MEDI: double (nullable = true)\n",
      " |-- YEARS_BEGINEXPLUATATION_MEDI: double (nullable = true)\n",
      " |-- YEARS_BUILD_MEDI: double (nullable = true)\n",
      " |-- COMMONAREA_MEDI: double (nullable = true)\n",
      " |-- ELEVATORS_MEDI: double (nullable = true)\n",
      " |-- ENTRANCES_MEDI: double (nullable = true)\n",
      " |-- FLOORSMAX_MEDI: double (nullable = true)\n",
      " |-- FLOORSMIN_MEDI: double (nullable = true)\n",
      " |-- LANDAREA_MEDI: double (nullable = true)\n",
      " |-- LIVINGAPARTMENTS_MEDI: double (nullable = true)\n",
      " |-- LIVINGAREA_MEDI: double (nullable = true)\n",
      " |-- NONLIVINGAPARTMENTS_MEDI: double (nullable = true)\n",
      " |-- NONLIVINGAREA_MEDI: double (nullable = true)\n",
      " |-- FONDKAPREMONT_MODE: string (nullable = true)\n",
      " |-- HOUSETYPE_MODE: string (nullable = true)\n",
      " |-- TOTALAREA_MODE: double (nullable = true)\n",
      " |-- WALLSMATERIAL_MODE: string (nullable = true)\n",
      " |-- EMERGENCYSTATE_MODE: string (nullable = true)\n",
      " |-- OBS_30_CNT_SOCIAL_CIRCLE: double (nullable = true)\n",
      " |-- DEF_30_CNT_SOCIAL_CIRCLE: double (nullable = true)\n",
      " |-- OBS_60_CNT_SOCIAL_CIRCLE: double (nullable = true)\n",
      " |-- DEF_60_CNT_SOCIAL_CIRCLE: double (nullable = true)\n",
      " |-- DAYS_LAST_PHONE_CHANGE: double (nullable = true)\n",
      " |-- FLAG_DOCUMENT_2: integer (nullable = true)\n",
      " |-- FLAG_DOCUMENT_3: integer (nullable = true)\n",
      " |-- FLAG_DOCUMENT_4: integer (nullable = true)\n",
      " |-- FLAG_DOCUMENT_5: integer (nullable = true)\n",
      " |-- FLAG_DOCUMENT_6: integer (nullable = true)\n",
      " |-- FLAG_DOCUMENT_7: integer (nullable = true)\n",
      " |-- FLAG_DOCUMENT_8: integer (nullable = true)\n",
      " |-- FLAG_DOCUMENT_9: integer (nullable = true)\n",
      " |-- FLAG_DOCUMENT_10: integer (nullable = true)\n",
      " |-- FLAG_DOCUMENT_11: integer (nullable = true)\n",
      " |-- FLAG_DOCUMENT_12: integer (nullable = true)\n",
      " |-- FLAG_DOCUMENT_13: integer (nullable = true)\n",
      " |-- FLAG_DOCUMENT_14: integer (nullable = true)\n",
      " |-- FLAG_DOCUMENT_15: integer (nullable = true)\n",
      " |-- FLAG_DOCUMENT_16: integer (nullable = true)\n",
      " |-- FLAG_DOCUMENT_17: integer (nullable = true)\n",
      " |-- FLAG_DOCUMENT_18: integer (nullable = true)\n",
      " |-- FLAG_DOCUMENT_19: integer (nullable = true)\n",
      " |-- FLAG_DOCUMENT_20: integer (nullable = true)\n",
      " |-- FLAG_DOCUMENT_21: integer (nullable = true)\n",
      " |-- AMT_REQ_CREDIT_BUREAU_HOUR: double (nullable = true)\n",
      " |-- AMT_REQ_CREDIT_BUREAU_DAY: double (nullable = true)\n",
      " |-- AMT_REQ_CREDIT_BUREAU_WEEK: double (nullable = true)\n",
      " |-- AMT_REQ_CREDIT_BUREAU_MON: double (nullable = true)\n",
      " |-- AMT_REQ_CREDIT_BUREAU_QRT: double (nullable = true)\n",
      " |-- AMT_REQ_CREDIT_BUREAU_YEAR: double (nullable = true)\n",
      "\n"
     ]
    }
   ],
   "source": [
    "\n",
    "df.printSchema()\n"
   ]
  },
  {
   "cell_type": "markdown",
   "metadata": {},
   "source": [
    "#### Show the top 20 rows of columns: `TARGET`, `NAME_CONTRACT_TYPE`, `CODE_GENDER`, `FLAG_OWN_CAR`, `FLAG_OWN_REALTY`, `COMMONAREA_AVG`, and `NONLIVINGAPARTMENTS_AVG`."
   ]
  },
  {
   "cell_type": "code",
   "execution_count": 405,
   "metadata": {},
   "outputs": [],
   "source": [
    "cols_to_be_shown = ['TARGET', 'NAME_CONTRACT_TYPE', 'CODE_GENDER', 'FLAG_OWN_CAR', \n",
    "           'FLAG_OWN_REALTY', 'COMMONAREA_AVG', 'NONLIVINGAPARTMENTS_AVG']"
   ]
  },
  {
   "cell_type": "code",
   "execution_count": 406,
   "metadata": {},
   "outputs": [
    {
     "name": "stdout",
     "output_type": "stream",
     "text": [
      "+------+------------------+-----------+------------+---------------+--------------+-----------------------+\n",
      "|TARGET|NAME_CONTRACT_TYPE|CODE_GENDER|FLAG_OWN_CAR|FLAG_OWN_REALTY|COMMONAREA_AVG|NONLIVINGAPARTMENTS_AVG|\n",
      "+------+------------------+-----------+------------+---------------+--------------+-----------------------+\n",
      "|     1|        Cash loans|          M|           N|              Y|        0.0143|                    0.0|\n",
      "|     0|        Cash loans|          F|           N|              N|        0.0605|                 0.0039|\n",
      "|     0|   Revolving loans|          M|           Y|              Y|          null|                   null|\n",
      "|     0|        Cash loans|          F|           N|              Y|          null|                   null|\n",
      "|     0|        Cash loans|          M|           N|              Y|          null|                   null|\n",
      "|     0|        Cash loans|          M|           N|              Y|          null|                   null|\n",
      "|     0|        Cash loans|          F|           Y|              Y|          null|                   null|\n",
      "|     0|        Cash loans|          M|           Y|              Y|          null|                   null|\n",
      "|     0|        Cash loans|          F|           N|              Y|          null|                   null|\n",
      "|     0|   Revolving loans|          M|           N|              Y|          null|                   null|\n",
      "|     0|        Cash loans|          F|           N|              Y|          null|                   null|\n",
      "|     0|        Cash loans|          F|           N|              Y|          null|                   null|\n",
      "|     0|        Cash loans|          F|           N|              Y|          null|                   null|\n",
      "|     0|        Cash loans|          M|           Y|              N|        0.0582|                    0.0|\n",
      "|     0|        Cash loans|          F|           N|              Y|        0.1143|                 0.0193|\n",
      "|     0|        Cash loans|          M|           Y|              Y|          null|                   null|\n",
      "|     0|        Cash loans|          M|           N|              N|          null|                   null|\n",
      "|     0|   Revolving loans|          F|           N|              Y|          null|                   null|\n",
      "|     0|   Revolving loans|          F|           N|              Y|        0.0018|                    0.0|\n",
      "|     0|        Cash loans|          F|           N|              Y|          null|                   null|\n",
      "+------+------------------+-----------+------------+---------------+--------------+-----------------------+\n",
      "only showing top 20 rows\n",
      "\n"
     ]
    }
   ],
   "source": [
    "df[cols_to_be_shown].show()\n"
   ]
  },
  {
   "cell_type": "markdown",
   "metadata": {},
   "source": [
    "## Q2: Data Cleaning\n",
    "\n",
    "#### Both `_c0` and `Sk_ID_Curr` are the ID columns which are not needed. Let's delete them from our DataFrame."
   ]
  },
  {
   "cell_type": "code",
   "execution_count": 407,
   "metadata": {},
   "outputs": [],
   "source": [
    "# Sk_ID_Curr is the id column which we dont need it in the process so we get rid of it. \n",
    "cols_to_be_dropped = ['_c0', 'SK_ID_CURR']\n"
   ]
  },
  {
   "cell_type": "code",
   "execution_count": 408,
   "metadata": {},
   "outputs": [],
   "source": [
    "# Drop the two columns mentioned above\n",
    "df = df.drop(*cols_to_be_dropped)\n",
    "\n",
    "\n"
   ]
  },
  {
   "cell_type": "markdown",
   "metadata": {},
   "source": [
    "Check if these two columns are gone."
   ]
  },
  {
   "cell_type": "code",
   "execution_count": 409,
   "metadata": {},
   "outputs": [
    {
     "data": {
      "text/plain": [
       "['TARGET',\n",
       " 'NAME_CONTRACT_TYPE',\n",
       " 'CODE_GENDER',\n",
       " 'FLAG_OWN_CAR',\n",
       " 'FLAG_OWN_REALTY',\n",
       " 'CNT_CHILDREN',\n",
       " 'AMT_INCOME_TOTAL',\n",
       " 'AMT_CREDIT',\n",
       " 'AMT_ANNUITY',\n",
       " 'AMT_GOODS_PRICE',\n",
       " 'NAME_TYPE_SUITE',\n",
       " 'NAME_INCOME_TYPE',\n",
       " 'NAME_EDUCATION_TYPE',\n",
       " 'NAME_FAMILY_STATUS',\n",
       " 'NAME_HOUSING_TYPE',\n",
       " 'REGION_POPULATION_RELATIVE',\n",
       " 'DAYS_BIRTH',\n",
       " 'DAYS_EMPLOYED',\n",
       " 'DAYS_REGISTRATION',\n",
       " 'DAYS_ID_PUBLISH',\n",
       " 'OWN_CAR_AGE',\n",
       " 'FLAG_MOBIL',\n",
       " 'FLAG_EMP_PHONE',\n",
       " 'FLAG_WORK_PHONE',\n",
       " 'FLAG_CONT_MOBILE',\n",
       " 'FLAG_PHONE',\n",
       " 'FLAG_EMAIL',\n",
       " 'OCCUPATION_TYPE',\n",
       " 'CNT_FAM_MEMBERS',\n",
       " 'REGION_RATING_CLIENT',\n",
       " 'REGION_RATING_CLIENT_W_CITY',\n",
       " 'WEEKDAY_APPR_PROCESS_START',\n",
       " 'HOUR_APPR_PROCESS_START',\n",
       " 'REG_REGION_NOT_LIVE_REGION',\n",
       " 'REG_REGION_NOT_WORK_REGION',\n",
       " 'LIVE_REGION_NOT_WORK_REGION',\n",
       " 'REG_CITY_NOT_LIVE_CITY',\n",
       " 'REG_CITY_NOT_WORK_CITY',\n",
       " 'LIVE_CITY_NOT_WORK_CITY',\n",
       " 'ORGANIZATION_TYPE',\n",
       " 'EXT_SOURCE_1',\n",
       " 'EXT_SOURCE_2',\n",
       " 'EXT_SOURCE_3',\n",
       " 'APARTMENTS_AVG',\n",
       " 'BASEMENTAREA_AVG',\n",
       " 'YEARS_BEGINEXPLUATATION_AVG',\n",
       " 'YEARS_BUILD_AVG',\n",
       " 'COMMONAREA_AVG',\n",
       " 'ELEVATORS_AVG',\n",
       " 'ENTRANCES_AVG',\n",
       " 'FLOORSMAX_AVG',\n",
       " 'FLOORSMIN_AVG',\n",
       " 'LANDAREA_AVG',\n",
       " 'LIVINGAPARTMENTS_AVG',\n",
       " 'LIVINGAREA_AVG',\n",
       " 'NONLIVINGAPARTMENTS_AVG',\n",
       " 'NONLIVINGAREA_AVG',\n",
       " 'APARTMENTS_MODE',\n",
       " 'BASEMENTAREA_MODE',\n",
       " 'YEARS_BEGINEXPLUATATION_MODE',\n",
       " 'YEARS_BUILD_MODE',\n",
       " 'COMMONAREA_MODE',\n",
       " 'ELEVATORS_MODE',\n",
       " 'ENTRANCES_MODE',\n",
       " 'FLOORSMAX_MODE',\n",
       " 'FLOORSMIN_MODE',\n",
       " 'LANDAREA_MODE',\n",
       " 'LIVINGAPARTMENTS_MODE',\n",
       " 'LIVINGAREA_MODE',\n",
       " 'NONLIVINGAPARTMENTS_MODE',\n",
       " 'NONLIVINGAREA_MODE',\n",
       " 'APARTMENTS_MEDI',\n",
       " 'BASEMENTAREA_MEDI',\n",
       " 'YEARS_BEGINEXPLUATATION_MEDI',\n",
       " 'YEARS_BUILD_MEDI',\n",
       " 'COMMONAREA_MEDI',\n",
       " 'ELEVATORS_MEDI',\n",
       " 'ENTRANCES_MEDI',\n",
       " 'FLOORSMAX_MEDI',\n",
       " 'FLOORSMIN_MEDI',\n",
       " 'LANDAREA_MEDI',\n",
       " 'LIVINGAPARTMENTS_MEDI',\n",
       " 'LIVINGAREA_MEDI',\n",
       " 'NONLIVINGAPARTMENTS_MEDI',\n",
       " 'NONLIVINGAREA_MEDI',\n",
       " 'FONDKAPREMONT_MODE',\n",
       " 'HOUSETYPE_MODE',\n",
       " 'TOTALAREA_MODE',\n",
       " 'WALLSMATERIAL_MODE',\n",
       " 'EMERGENCYSTATE_MODE',\n",
       " 'OBS_30_CNT_SOCIAL_CIRCLE',\n",
       " 'DEF_30_CNT_SOCIAL_CIRCLE',\n",
       " 'OBS_60_CNT_SOCIAL_CIRCLE',\n",
       " 'DEF_60_CNT_SOCIAL_CIRCLE',\n",
       " 'DAYS_LAST_PHONE_CHANGE',\n",
       " 'FLAG_DOCUMENT_2',\n",
       " 'FLAG_DOCUMENT_3',\n",
       " 'FLAG_DOCUMENT_4',\n",
       " 'FLAG_DOCUMENT_5',\n",
       " 'FLAG_DOCUMENT_6',\n",
       " 'FLAG_DOCUMENT_7',\n",
       " 'FLAG_DOCUMENT_8',\n",
       " 'FLAG_DOCUMENT_9',\n",
       " 'FLAG_DOCUMENT_10',\n",
       " 'FLAG_DOCUMENT_11',\n",
       " 'FLAG_DOCUMENT_12',\n",
       " 'FLAG_DOCUMENT_13',\n",
       " 'FLAG_DOCUMENT_14',\n",
       " 'FLAG_DOCUMENT_15',\n",
       " 'FLAG_DOCUMENT_16',\n",
       " 'FLAG_DOCUMENT_17',\n",
       " 'FLAG_DOCUMENT_18',\n",
       " 'FLAG_DOCUMENT_19',\n",
       " 'FLAG_DOCUMENT_20',\n",
       " 'FLAG_DOCUMENT_21',\n",
       " 'AMT_REQ_CREDIT_BUREAU_HOUR',\n",
       " 'AMT_REQ_CREDIT_BUREAU_DAY',\n",
       " 'AMT_REQ_CREDIT_BUREAU_WEEK',\n",
       " 'AMT_REQ_CREDIT_BUREAU_MON',\n",
       " 'AMT_REQ_CREDIT_BUREAU_QRT',\n",
       " 'AMT_REQ_CREDIT_BUREAU_YEAR']"
      ]
     },
     "execution_count": 409,
     "metadata": {},
     "output_type": "execute_result"
    }
   ],
   "source": [
    "df.columns"
   ]
  },
  {
   "cell_type": "markdown",
   "metadata": {},
   "source": [
    "#### Rename the `Target` column to `label`"
   ]
  },
  {
   "cell_type": "code",
   "execution_count": 410,
   "metadata": {},
   "outputs": [],
   "source": [
    "df = df.withColumnRenamed('Target', 'label')\n",
    "\n"
   ]
  },
  {
   "cell_type": "markdown",
   "metadata": {},
   "source": [
    "#### Find the number of occurences of each label type."
   ]
  },
  {
   "cell_type": "code",
   "execution_count": 411,
   "metadata": {},
   "outputs": [
    {
     "name": "stdout",
     "output_type": "stream",
     "text": [
      "+-----+-----+\n",
      "|label|count|\n",
      "+-----+-----+\n",
      "|    1| 8093|\n",
      "|    0|91907|\n",
      "+-----+-----+\n",
      "\n"
     ]
    }
   ],
   "source": [
    "df.groupby('label').count().show()"
   ]
  },
  {
   "cell_type": "markdown",
   "metadata": {},
   "source": [
    "As we can see, we are dealing with an imbalanced ratio of (0.92 and 0.08)"
   ]
  },
  {
   "cell_type": "markdown",
   "metadata": {},
   "source": [
    "#### Use Seaborn to plot a bar chart of the label distribution."
   ]
  },
  {
   "cell_type": "code",
   "execution_count": 412,
   "metadata": {},
   "outputs": [
    {
     "name": "stderr",
     "output_type": "stream",
     "text": [
      "/home/lip/anaconda3/lib/python3.7/site-packages/seaborn/_decorators.py:43: FutureWarning: Pass the following variable as a keyword arg: x. From version 0.12, the only valid positional argument will be `data`, and passing other arguments without an explicit keyword will result in an error or misinterpretation.\n",
      "  FutureWarning\n"
     ]
    },
    {
     "data": {
      "text/plain": [
       "<AxesSubplot:xlabel='label', ylabel='count'>"
      ]
     },
     "execution_count": 412,
     "metadata": {},
     "output_type": "execute_result"
    },
    {
     "data": {
      "image/png": "[encoded data removed]",
      "text/plain": [
       "<Figure size 432x432 with 1 Axes>"
      ]
     },
     "metadata": {
      "needs_background": "light"
     },
     "output_type": "display_data"
    }
   ],
   "source": [
    "# let's have a look at the distribution of our target variable:\n",
    "# to make it look better, we first convert our spark df to a Pandas df\n",
    "\n",
    "import matplotlib.pyplot as plt\n",
    "import seaborn as sns\n",
    "\n",
    "plt.figure(figsize=(6,6))\n",
    "\n",
    "df_pd = df.toPandas()\n",
    "\n",
    "sns.countplot(df_pd['label'])\n"
   ]
  },
  {
   "cell_type": "markdown",
   "metadata": {},
   "source": [
    "## Q3: Find missing data."
   ]
  },
  {
   "cell_type": "markdown",
   "metadata": {},
   "source": [
    "#### First, let's see how many categorical ('string' type) and numerical ('int' or 'double' type) features we have."
   ]
  },
  {
   "cell_type": "markdown",
   "metadata": {},
   "source": [
    "Hint: the `dtypes` attributed in Spark DataFrame returns a list of two-tuples in the format of `(Column_Name, Column_Type)` as below:"
   ]
  },
  {
   "cell_type": "code",
   "execution_count": 413,
   "metadata": {},
   "outputs": [
    {
     "data": {
      "text/plain": [
       "[('label', 'int'),\n",
       " ('NAME_CONTRACT_TYPE', 'string'),\n",
       " ('CODE_GENDER', 'string'),\n",
       " ('FLAG_OWN_CAR', 'string'),\n",
       " ('FLAG_OWN_REALTY', 'string'),\n",
       " ('CNT_CHILDREN', 'int'),\n",
       " ('AMT_INCOME_TOTAL', 'double'),\n",
       " ('AMT_CREDIT', 'double'),\n",
       " ('AMT_ANNUITY', 'double'),\n",
       " ('AMT_GOODS_PRICE', 'double'),\n",
       " ('NAME_TYPE_SUITE', 'string'),\n",
       " ('NAME_INCOME_TYPE', 'string'),\n",
       " ('NAME_EDUCATION_TYPE', 'string'),\n",
       " ('NAME_FAMILY_STATUS', 'string'),\n",
       " ('NAME_HOUSING_TYPE', 'string'),\n",
       " ('REGION_POPULATION_RELATIVE', 'double'),\n",
       " ('DAYS_BIRTH', 'int'),\n",
       " ('DAYS_EMPLOYED', 'int'),\n",
       " ('DAYS_REGISTRATION', 'double'),\n",
       " ('DAYS_ID_PUBLISH', 'int'),\n",
       " ('OWN_CAR_AGE', 'double'),\n",
       " ('FLAG_MOBIL', 'int'),\n",
       " ('FLAG_EMP_PHONE', 'int'),\n",
       " ('FLAG_WORK_PHONE', 'int'),\n",
       " ('FLAG_CONT_MOBILE', 'int'),\n",
       " ('FLAG_PHONE', 'int'),\n",
       " ('FLAG_EMAIL', 'int'),\n",
       " ('OCCUPATION_TYPE', 'string'),\n",
       " ('CNT_FAM_MEMBERS', 'double'),\n",
       " ('REGION_RATING_CLIENT', 'int'),\n",
       " ('REGION_RATING_CLIENT_W_CITY', 'int'),\n",
       " ('WEEKDAY_APPR_PROCESS_START', 'string'),\n",
       " ('HOUR_APPR_PROCESS_START', 'int'),\n",
       " ('REG_REGION_NOT_LIVE_REGION', 'int'),\n",
       " ('REG_REGION_NOT_WORK_REGION', 'int'),\n",
       " ('LIVE_REGION_NOT_WORK_REGION', 'int'),\n",
       " ('REG_CITY_NOT_LIVE_CITY', 'int'),\n",
       " ('REG_CITY_NOT_WORK_CITY', 'int'),\n",
       " ('LIVE_CITY_NOT_WORK_CITY', 'int'),\n",
       " ('ORGANIZATION_TYPE', 'string'),\n",
       " ('EXT_SOURCE_1', 'double'),\n",
       " ('EXT_SOURCE_2', 'double'),\n",
       " ('EXT_SOURCE_3', 'double'),\n",
       " ('APARTMENTS_AVG', 'double'),\n",
       " ('BASEMENTAREA_AVG', 'double'),\n",
       " ('YEARS_BEGINEXPLUATATION_AVG', 'double'),\n",
       " ('YEARS_BUILD_AVG', 'double'),\n",
       " ('COMMONAREA_AVG', 'double'),\n",
       " ('ELEVATORS_AVG', 'double'),\n",
       " ('ENTRANCES_AVG', 'double'),\n",
       " ('FLOORSMAX_AVG', 'double'),\n",
       " ('FLOORSMIN_AVG', 'double'),\n",
       " ('LANDAREA_AVG', 'double'),\n",
       " ('LIVINGAPARTMENTS_AVG', 'double'),\n",
       " ('LIVINGAREA_AVG', 'double'),\n",
       " ('NONLIVINGAPARTMENTS_AVG', 'double'),\n",
       " ('NONLIVINGAREA_AVG', 'double'),\n",
       " ('APARTMENTS_MODE', 'double'),\n",
       " ('BASEMENTAREA_MODE', 'double'),\n",
       " ('YEARS_BEGINEXPLUATATION_MODE', 'double'),\n",
       " ('YEARS_BUILD_MODE', 'double'),\n",
       " ('COMMONAREA_MODE', 'double'),\n",
       " ('ELEVATORS_MODE', 'double'),\n",
       " ('ENTRANCES_MODE', 'double'),\n",
       " ('FLOORSMAX_MODE', 'double'),\n",
       " ('FLOORSMIN_MODE', 'double'),\n",
       " ('LANDAREA_MODE', 'double'),\n",
       " ('LIVINGAPARTMENTS_MODE', 'double'),\n",
       " ('LIVINGAREA_MODE', 'double'),\n",
       " ('NONLIVINGAPARTMENTS_MODE', 'double'),\n",
       " ('NONLIVINGAREA_MODE', 'double'),\n",
       " ('APARTMENTS_MEDI', 'double'),\n",
       " ('BASEMENTAREA_MEDI', 'double'),\n",
       " ('YEARS_BEGINEXPLUATATION_MEDI', 'double'),\n",
       " ('YEARS_BUILD_MEDI', 'double'),\n",
       " ('COMMONAREA_MEDI', 'double'),\n",
       " ('ELEVATORS_MEDI', 'double'),\n",
       " ('ENTRANCES_MEDI', 'double'),\n",
       " ('FLOORSMAX_MEDI', 'double'),\n",
       " ('FLOORSMIN_MEDI', 'double'),\n",
       " ('LANDAREA_MEDI', 'double'),\n",
       " ('LIVINGAPARTMENTS_MEDI', 'double'),\n",
       " ('LIVINGAREA_MEDI', 'double'),\n",
       " ('NONLIVINGAPARTMENTS_MEDI', 'double'),\n",
       " ('NONLIVINGAREA_MEDI', 'double'),\n",
       " ('FONDKAPREMONT_MODE', 'string'),\n",
       " ('HOUSETYPE_MODE', 'string'),\n",
       " ('TOTALAREA_MODE', 'double'),\n",
       " ('WALLSMATERIAL_MODE', 'string'),\n",
       " ('EMERGENCYSTATE_MODE', 'string'),\n",
       " ('OBS_30_CNT_SOCIAL_CIRCLE', 'double'),\n",
       " ('DEF_30_CNT_SOCIAL_CIRCLE', 'double'),\n",
       " ('OBS_60_CNT_SOCIAL_CIRCLE', 'double'),\n",
       " ('DEF_60_CNT_SOCIAL_CIRCLE', 'double'),\n",
       " ('DAYS_LAST_PHONE_CHANGE', 'double'),\n",
       " ('FLAG_DOCUMENT_2', 'int'),\n",
       " ('FLAG_DOCUMENT_3', 'int'),\n",
       " ('FLAG_DOCUMENT_4', 'int'),\n",
       " ('FLAG_DOCUMENT_5', 'int'),\n",
       " ('FLAG_DOCUMENT_6', 'int'),\n",
       " ('FLAG_DOCUMENT_7', 'int'),\n",
       " ('FLAG_DOCUMENT_8', 'int'),\n",
       " ('FLAG_DOCUMENT_9', 'int'),\n",
       " ('FLAG_DOCUMENT_10', 'int'),\n",
       " ('FLAG_DOCUMENT_11', 'int'),\n",
       " ('FLAG_DOCUMENT_12', 'int'),\n",
       " ('FLAG_DOCUMENT_13', 'int'),\n",
       " ('FLAG_DOCUMENT_14', 'int'),\n",
       " ('FLAG_DOCUMENT_15', 'int'),\n",
       " ('FLAG_DOCUMENT_16', 'int'),\n",
       " ('FLAG_DOCUMENT_17', 'int'),\n",
       " ('FLAG_DOCUMENT_18', 'int'),\n",
       " ('FLAG_DOCUMENT_19', 'int'),\n",
       " ('FLAG_DOCUMENT_20', 'int'),\n",
       " ('FLAG_DOCUMENT_21', 'int'),\n",
       " ('AMT_REQ_CREDIT_BUREAU_HOUR', 'double'),\n",
       " ('AMT_REQ_CREDIT_BUREAU_DAY', 'double'),\n",
       " ('AMT_REQ_CREDIT_BUREAU_WEEK', 'double'),\n",
       " ('AMT_REQ_CREDIT_BUREAU_MON', 'double'),\n",
       " ('AMT_REQ_CREDIT_BUREAU_QRT', 'double'),\n",
       " ('AMT_REQ_CREDIT_BUREAU_YEAR', 'double')]"
      ]
     },
     "execution_count": 413,
     "metadata": {},
     "output_type": "execute_result"
    }
   ],
   "source": [
    "df.dtypes"
   ]
  },
  {
   "cell_type": "code",
   "execution_count": 414,
   "metadata": {},
   "outputs": [
    {
     "name": "stdout",
     "output_type": "stream",
     "text": [
      "Categorical features: 16\n",
      "Numerical features: 104\n"
     ]
    }
   ],
   "source": [
    "cat_cols = [item[0] for item in df.dtypes if item[1] == 'string'] \n",
    "print('Categorical features:', str(len(cat_cols)))\n",
    "\n",
    "# Add [1:] in the end will exclude the 'label' column\n",
    "num_cols = [item[0] for item in df.dtypes if (item[1]=='int') or (item[1] =='double')][1:]\n",
    "print('Numerical features:', str(len(num_cols)))"
   ]
  },
  {
   "cell_type": "markdown",
   "metadata": {},
   "source": [
    "#### Define a function to find the total number of missing values and missing percentage of each column within a Spark DataFrame.\n",
    "Hint: `isNull()` method ([reference](https://spark.apache.org/docs/latest/api/python/reference/api/pyspark.sql.Column.isNull.html)) given by Spark functions will be useful in boolean selection."
   ]
  },
  {
   "cell_type": "code",
   "execution_count": 415,
   "metadata": {},
   "outputs": [],
   "source": [
    "def null_count_percent(spark_df):\n",
    "    \"\"\"\n",
    "    @name: null_count_percent\n",
    "    @purpurse: given a spark dataframe, return the count and percentage of missing values for each column\n",
    "    @arg: spark_df - the spark DataFrame to be checked\n",
    "    @return: a list of three-tuples, in the format of: (column_name, null_count, null_percent)\n",
    "    \"\"\"\n",
    "    results = []  # The list of three-tuples we need to return eventually\n",
    "    for col_name, col_type in spark_df.dtypes:   # Loop into each column tuple\n",
    "        \n",
    "        # TODO: Check count of nulls in the current column column\n",
    "        null_count = spark_df.filter(spark_df[col_name].isNull()).count()\n",
    "        \n",
    "        \n",
    "        # TODO: Calculate the missing percentage\n",
    "        null_percent = (null_count / spark_df.select(col_name).count())\n",
    "        \n",
    "        \n",
    "        # TODO: Add a three-tuple to the returned list if there is any\n",
    "        # missing data in the current column\n",
    "        if null_count>0:\n",
    "            results.append((col_name, null_count, null_percent))\n",
    "        \n",
    "        \n",
    "        \n",
    "            \n",
    "    # Lastly, Return the results\n",
    "    return results\n"
   ]
  },
  {
   "cell_type": "code",
   "execution_count": 416,
   "metadata": {},
   "outputs": [
    {
     "data": {
      "text/plain": [
       "[('AMT_ANNUITY', 7, 7e-05),\n",
       " ('AMT_GOODS_PRICE', 81, 0.00081),\n",
       " ('NAME_TYPE_SUITE', 405, 0.00405),\n",
       " ('OWN_CAR_AGE', 66019, 0.66019),\n",
       " ('OCCUPATION_TYPE', 31224, 0.31224),\n",
       " ('CNT_FAM_MEMBERS', 1, 1e-05),\n",
       " ('EXT_SOURCE_1', 56283, 0.56283),\n",
       " ('EXT_SOURCE_2', 215, 0.00215),\n",
       " ('EXT_SOURCE_3', 19827, 0.19827),\n",
       " ('APARTMENTS_AVG', 50682, 0.50682),\n",
       " ('BASEMENTAREA_AVG', 58360, 0.5836),\n",
       " ('YEARS_BEGINEXPLUATATION_AVG', 48701, 0.48701),\n",
       " ('YEARS_BUILD_AVG', 66346, 0.66346),\n",
       " ('COMMONAREA_AVG', 69732, 0.69732),\n",
       " ('ELEVATORS_AVG', 53300, 0.533),\n",
       " ('ENTRANCES_AVG', 50281, 0.50281),\n",
       " ('FLOORSMAX_AVG', 49688, 0.49688),\n",
       " ('FLOORSMIN_AVG', 67702, 0.67702),\n",
       " ('LANDAREA_AVG', 59250, 0.5925),\n",
       " ('LIVINGAPARTMENTS_AVG', 68265, 0.68265),\n",
       " ('LIVINGAREA_AVG', 50151, 0.50151),\n",
       " ('NONLIVINGAPARTMENTS_AVG', 69275, 0.69275),\n",
       " ('NONLIVINGAREA_AVG', 55070, 0.5507),\n",
       " ('APARTMENTS_MODE', 50682, 0.50682),\n",
       " ('BASEMENTAREA_MODE', 58360, 0.5836),\n",
       " ('YEARS_BEGINEXPLUATATION_MODE', 48701, 0.48701),\n",
       " ('YEARS_BUILD_MODE', 66346, 0.66346),\n",
       " ('COMMONAREA_MODE', 69732, 0.69732),\n",
       " ('ELEVATORS_MODE', 53300, 0.533),\n",
       " ('ENTRANCES_MODE', 50281, 0.50281),\n",
       " ('FLOORSMAX_MODE', 49688, 0.49688),\n",
       " ('FLOORSMIN_MODE', 67702, 0.67702),\n",
       " ('LANDAREA_MODE', 59250, 0.5925),\n",
       " ('LIVINGAPARTMENTS_MODE', 68265, 0.68265),\n",
       " ('LIVINGAREA_MODE', 50151, 0.50151),\n",
       " ('NONLIVINGAPARTMENTS_MODE', 69275, 0.69275),\n",
       " ('NONLIVINGAREA_MODE', 55070, 0.5507),\n",
       " ('APARTMENTS_MEDI', 50682, 0.50682),\n",
       " ('BASEMENTAREA_MEDI', 58360, 0.5836),\n",
       " ('YEARS_BEGINEXPLUATATION_MEDI', 48701, 0.48701),\n",
       " ('YEARS_BUILD_MEDI', 66346, 0.66346),\n",
       " ('COMMONAREA_MEDI', 69732, 0.69732),\n",
       " ('ELEVATORS_MEDI', 53300, 0.533),\n",
       " ('ENTRANCES_MEDI', 50281, 0.50281),\n",
       " ('FLOORSMAX_MEDI', 49688, 0.49688),\n",
       " ('FLOORSMIN_MEDI', 67702, 0.67702),\n",
       " ('LANDAREA_MEDI', 59250, 0.5925),\n",
       " ('LIVINGAPARTMENTS_MEDI', 68265, 0.68265),\n",
       " ('LIVINGAREA_MEDI', 50151, 0.50151),\n",
       " ('NONLIVINGAPARTMENTS_MEDI', 69275, 0.69275),\n",
       " ('NONLIVINGAREA_MEDI', 55070, 0.5507),\n",
       " ('FONDKAPREMONT_MODE', 68218, 0.68218),\n",
       " ('HOUSETYPE_MODE', 50105, 0.50105),\n",
       " ('TOTALAREA_MODE', 48223, 0.48223),\n",
       " ('WALLSMATERIAL_MODE', 50765, 0.50765),\n",
       " ('EMERGENCYSTATE_MODE', 47333, 0.47333),\n",
       " ('OBS_30_CNT_SOCIAL_CIRCLE', 327, 0.00327),\n",
       " ('DEF_30_CNT_SOCIAL_CIRCLE', 327, 0.00327),\n",
       " ('OBS_60_CNT_SOCIAL_CIRCLE', 327, 0.00327),\n",
       " ('DEF_60_CNT_SOCIAL_CIRCLE', 327, 0.00327),\n",
       " ('DAYS_LAST_PHONE_CHANGE', 1, 1e-05),\n",
       " ('AMT_REQ_CREDIT_BUREAU_HOUR', 13437, 0.13437),\n",
       " ('AMT_REQ_CREDIT_BUREAU_DAY', 13437, 0.13437),\n",
       " ('AMT_REQ_CREDIT_BUREAU_WEEK', 13437, 0.13437),\n",
       " ('AMT_REQ_CREDIT_BUREAU_MON', 13437, 0.13437),\n",
       " ('AMT_REQ_CREDIT_BUREAU_QRT', 13437, 0.13437),\n",
       " ('AMT_REQ_CREDIT_BUREAU_YEAR', 13437, 0.13437)]"
      ]
     },
     "execution_count": 416,
     "metadata": {},
     "output_type": "execute_result"
    }
   ],
   "source": [
    "# Now check show the results given the entire DataFrame\n",
    "null_cols = null_count_percent(df)\n",
    "\n",
    "null_cols"
   ]
  },
  {
   "cell_type": "markdown",
   "metadata": {},
   "source": [
    "#### Drop all the columns that has more than 40% of the missing data.\n",
    "Hint: use a for loop with the drop() function"
   ]
  },
  {
   "cell_type": "code",
   "execution_count": 417,
   "metadata": {},
   "outputs": [],
   "source": [
    "drops=[]\n",
    "for i in null_cols:\n",
    "    if (i[2])>0.40:\n",
    "        drops.append(i[0]) \n",
    "df=df.drop(*drops)"
   ]
  },
  {
   "cell_type": "code",
   "execution_count": 418,
   "metadata": {},
   "outputs": [
    {
     "data": {
      "text/plain": [
       "[('AMT_ANNUITY', 7, 7e-05),\n",
       " ('AMT_GOODS_PRICE', 81, 0.00081),\n",
       " ('NAME_TYPE_SUITE', 405, 0.00405),\n",
       " ('OCCUPATION_TYPE', 31224, 0.31224),\n",
       " ('CNT_FAM_MEMBERS', 1, 1e-05),\n",
       " ('EXT_SOURCE_2', 215, 0.00215),\n",
       " ('EXT_SOURCE_3', 19827, 0.19827),\n",
       " ('OBS_30_CNT_SOCIAL_CIRCLE', 327, 0.00327),\n",
       " ('DEF_30_CNT_SOCIAL_CIRCLE', 327, 0.00327),\n",
       " ('OBS_60_CNT_SOCIAL_CIRCLE', 327, 0.00327),\n",
       " ('DEF_60_CNT_SOCIAL_CIRCLE', 327, 0.00327),\n",
       " ('DAYS_LAST_PHONE_CHANGE', 1, 1e-05),\n",
       " ('AMT_REQ_CREDIT_BUREAU_HOUR', 13437, 0.13437),\n",
       " ('AMT_REQ_CREDIT_BUREAU_DAY', 13437, 0.13437),\n",
       " ('AMT_REQ_CREDIT_BUREAU_WEEK', 13437, 0.13437),\n",
       " ('AMT_REQ_CREDIT_BUREAU_MON', 13437, 0.13437),\n",
       " ('AMT_REQ_CREDIT_BUREAU_QRT', 13437, 0.13437),\n",
       " ('AMT_REQ_CREDIT_BUREAU_YEAR', 13437, 0.13437)]"
      ]
     },
     "execution_count": 418,
     "metadata": {},
     "output_type": "execute_result"
    }
   ],
   "source": [
    "# Now check again with the null_count_percent function to see if the cols are deleted.\n",
    "null_cols = null_count_percent(df)\n",
    "\n",
    "null_cols"
   ]
  },
  {
   "cell_type": "markdown",
   "metadata": {},
   "source": [
    "## Q4: Fix missing data"
   ]
  },
  {
   "cell_type": "markdown",
   "metadata": {},
   "source": [
    "#### Split the columns that still have missing values into two groups: the categorical group and the numerical group."
   ]
  },
  {
   "cell_type": "code",
   "execution_count": 419,
   "metadata": {},
   "outputs": [
    {
     "data": {
      "text/plain": [
       "['AMT_ANNUITY',\n",
       " 'AMT_GOODS_PRICE',\n",
       " 'NAME_TYPE_SUITE',\n",
       " 'OCCUPATION_TYPE',\n",
       " 'CNT_FAM_MEMBERS',\n",
       " 'EXT_SOURCE_2',\n",
       " 'EXT_SOURCE_3',\n",
       " 'OBS_30_CNT_SOCIAL_CIRCLE',\n",
       " 'DEF_30_CNT_SOCIAL_CIRCLE',\n",
       " 'OBS_60_CNT_SOCIAL_CIRCLE',\n",
       " 'DEF_60_CNT_SOCIAL_CIRCLE',\n",
       " 'DAYS_LAST_PHONE_CHANGE',\n",
       " 'AMT_REQ_CREDIT_BUREAU_HOUR',\n",
       " 'AMT_REQ_CREDIT_BUREAU_DAY',\n",
       " 'AMT_REQ_CREDIT_BUREAU_WEEK',\n",
       " 'AMT_REQ_CREDIT_BUREAU_MON',\n",
       " 'AMT_REQ_CREDIT_BUREAU_QRT',\n",
       " 'AMT_REQ_CREDIT_BUREAU_YEAR']"
      ]
     },
     "execution_count": 419,
     "metadata": {},
     "output_type": "execute_result"
    }
   ],
   "source": [
    "# All the columns that have missing values\n",
    "null_col_names = [x[0] for x in null_cols]\n",
    "null_col_names"
   ]
  },
  {
   "cell_type": "code",
   "execution_count": 420,
   "metadata": {},
   "outputs": [],
   "source": [
    "# Use a for loop to split the null columns into categorical and numerical groups.\n",
    "\n",
    "null_col_names_cat = []  # List of categorical column names\n",
    "null_col_names_num = []  # List of numerical column names\n",
    "\n",
    "for cname, ctype in df.dtypes:   # Loop into each column tuple\n",
    "    \n",
    "    # TODO: If the cname shows up in null_col_names and ctype is 'string'\n",
    "    if cname in null_col_names:\n",
    "        \n",
    "        if ctype == 'string':\n",
    "            null_col_names_cat.append(cname)\n",
    "   \n",
    "\n",
    "    # TODO: If the cname shows up in null_col_names and ctype is either 'int' or 'double'\n",
    "    if cname in null_col_names:\n",
    "        if ctype == 'int':\n",
    "            null_col_names_num.append(cname)\n",
    "        elif ctype== 'double':\n",
    "            null_col_names_num.append(cname)\n",
    "      \n"
   ]
  },
  {
   "cell_type": "code",
   "execution_count": 421,
   "metadata": {},
   "outputs": [
    {
     "data": {
      "text/plain": [
       "['NAME_TYPE_SUITE', 'OCCUPATION_TYPE']"
      ]
     },
     "execution_count": 421,
     "metadata": {},
     "output_type": "execute_result"
    }
   ],
   "source": [
    "null_col_names_cat"
   ]
  },
  {
   "cell_type": "code",
   "execution_count": 422,
   "metadata": {},
   "outputs": [
    {
     "data": {
      "text/plain": [
       "['AMT_ANNUITY',\n",
       " 'AMT_GOODS_PRICE',\n",
       " 'CNT_FAM_MEMBERS',\n",
       " 'EXT_SOURCE_2',\n",
       " 'EXT_SOURCE_3',\n",
       " 'OBS_30_CNT_SOCIAL_CIRCLE',\n",
       " 'DEF_30_CNT_SOCIAL_CIRCLE',\n",
       " 'OBS_60_CNT_SOCIAL_CIRCLE',\n",
       " 'DEF_60_CNT_SOCIAL_CIRCLE',\n",
       " 'DAYS_LAST_PHONE_CHANGE',\n",
       " 'AMT_REQ_CREDIT_BUREAU_HOUR',\n",
       " 'AMT_REQ_CREDIT_BUREAU_DAY',\n",
       " 'AMT_REQ_CREDIT_BUREAU_WEEK',\n",
       " 'AMT_REQ_CREDIT_BUREAU_MON',\n",
       " 'AMT_REQ_CREDIT_BUREAU_QRT',\n",
       " 'AMT_REQ_CREDIT_BUREAU_YEAR']"
      ]
     },
     "execution_count": 422,
     "metadata": {},
     "output_type": "execute_result"
    }
   ],
   "source": [
    "null_col_names_num"
   ]
  },
  {
   "cell_type": "markdown",
   "metadata": {},
   "source": [
    "#### Now, use mode (the most occurrences) in the categorical columns to fill the missing values. Note that you don't want to take NULL values into account. \n",
    "\n",
    "Hint: Spark does not have a mode function, but you can consider using a combination of groupBy and orderBy."
   ]
  },
  {
   "cell_type": "code",
   "execution_count": 423,
   "metadata": {},
   "outputs": [],
   "source": [
    "# Use a duplicated DataFrame that doesn't have nulls to find the mode.\n",
    "\n",
    "df_no_missing = df.na.drop()"
   ]
  },
  {
   "cell_type": "code",
   "execution_count": 424,
   "metadata": {},
   "outputs": [
    {
     "name": "stdout",
     "output_type": "stream",
     "text": [
      "NAME_TYPE_SUITE Unaccompanied\n",
      "OCCUPATION_TYPE Laborers\n"
     ]
    }
   ],
   "source": [
    "# Iterate through the names in null_col_names_cat, and \n",
    "# fix the null values in each column with the mode\n",
    "\n",
    "for col in null_col_names_cat:\n",
    "    \n",
    "    # TODO: Find the mode in the current categorical column \n",
    "    mode = df_no_missing.groupby(col).count().orderBy('count', ascending=False).first()[0]\n",
    "    \n",
    "    \n",
    "    # TODO: Fill in the missing values with col and mode\n",
    "    df = df.na.fill({col:mode})\n",
    "    \n",
    "    \n",
    "    # print the way you did\n",
    "    print(col, mode)"
   ]
  },
  {
   "cell_type": "markdown",
   "metadata": {},
   "source": [
    "#### Now, fix the missing values in the numerical columns with the column mean."
   ]
  },
  {
   "cell_type": "code",
   "execution_count": 425,
   "metadata": {},
   "outputs": [
    {
     "name": "stdout",
     "output_type": "stream",
     "text": [
      "AMT_ANNUITY 27085.325927814945\n",
      "AMT_GOODS_PRICE 538345.1489706662\n",
      "CNT_FAM_MEMBERS 2.1556715567155673\n",
      "EXT_SOURCE_2 0.5142005407675158\n",
      "EXT_SOURCE_3 0.5104134861849431\n",
      "OBS_30_CNT_SOCIAL_CIRCLE 1.4225517442035456\n",
      "DEF_30_CNT_SOCIAL_CIRCLE 0.14184382932188255\n",
      "OBS_60_CNT_SOCIAL_CIRCLE 1.4057969560462713\n",
      "DEF_60_CNT_SOCIAL_CIRCLE 0.09841180660760687\n",
      "DAYS_LAST_PHONE_CHANGE -962.6576965769658\n",
      "AMT_REQ_CREDIT_BUREAU_HOUR 0.006631008629553042\n",
      "AMT_REQ_CREDIT_BUREAU_DAY 0.0073472499797835105\n",
      "AMT_REQ_CREDIT_BUREAU_WEEK 0.03392904589720781\n",
      "AMT_REQ_CREDIT_BUREAU_MON 0.269064149809965\n",
      "AMT_REQ_CREDIT_BUREAU_QRT 0.2660259002114067\n",
      "AMT_REQ_CREDIT_BUREAU_YEAR 1.892032392592678\n"
     ]
    }
   ],
   "source": [
    "# and we fill the missing numerical values with the average of each column\n",
    "\n",
    "for col in null_col_names_num:\n",
    "    # TODO: Find the mean value in the currenct numerical column\n",
    "    mean_val = df.agg({col:\"mean\"}).collect()[0][0]\n",
    "    \n",
    "    \n",
    "    # TODO: Fill in the missing value with col and mean_val\n",
    "    df = df.na.fill({col:mean_val})\n",
    "    \n",
    "    \n",
    "    # print the way you did\n",
    "    print(col, mean_val)"
   ]
  },
  {
   "cell_type": "markdown",
   "metadata": {},
   "source": [
    "#### Check with the null columns one more time to ensure they are all gone."
   ]
  },
  {
   "cell_type": "code",
   "execution_count": 426,
   "metadata": {},
   "outputs": [
    {
     "data": {
      "text/plain": [
       "[]"
      ]
     },
     "execution_count": 426,
     "metadata": {},
     "output_type": "execute_result"
    }
   ],
   "source": [
    "null_cols = null_count_percent(df)\n",
    "\n",
    "null_cols"
   ]
  },
  {
   "cell_type": "markdown",
   "metadata": {},
   "source": [
    "## Q5: Fix imbalanced labels:\n",
    "\n",
    "Imbalance labels will lead to unfair prediction, i.e., the majority class tend to be predicted more. There are many methods to mitigate this problem. One way is to under-sample the majority class or up-sample the minority class to make a more balanced results. This can be achieved with sampling with replacement.\n",
    "\n",
    "Another way is to assign weights for each class to penalize the majority class by assigning less weight and boost the minority class by assigning bigger weight. \n",
    "\n",
    "We are going to create a new column in the dataset named 'weights' and assign the inverse ratio of each class as weights. In this case, the '0' class will receive 0.08 and the '1' class will receive 0.92.\n",
    "\n",
    "We can achieve this by using withColum() function and a user defined function (udf). See example [here](https://gist.github.com/zoltanctoth/2deccd69e3d1cde1dd78).\n",
    "\n",
    "PySpark UDF tutorial: [link](https://sparkbyexamples.com/pyspark/pyspark-udf-user-defined-function/#pyspark-udf-withcolumn)"
   ]
  },
  {
   "cell_type": "markdown",
   "metadata": {},
   "source": [
    "#### Create an UDF."
   ]
  },
  {
   "cell_type": "code",
   "execution_count": 427,
   "metadata": {},
   "outputs": [],
   "source": [
    "from pyspark.sql.types import DoubleType\n",
    "import pyspark.sql.functions as F\n",
    "\n",
    "weight_udf = F.udf(lambda label: 0.08 if label ==0 else 0.92, DoubleType()\n",
    "                  \n",
    "                  \n",
    "                  )"
   ]
  },
  {
   "cell_type": "markdown",
   "metadata": {},
   "source": [
    "#### Adding the new column `weights` with udf. "
   ]
  },
  {
   "cell_type": "code",
   "execution_count": 428,
   "metadata": {},
   "outputs": [],
   "source": [
    "df = df.withColumn('weights', weight_udf(df.label))\n"
   ]
  },
  {
   "cell_type": "code",
   "execution_count": 429,
   "metadata": {},
   "outputs": [
    {
     "name": "stdout",
     "output_type": "stream",
     "text": [
      "+-----+-------+\n",
      "|label|weights|\n",
      "+-----+-------+\n",
      "|    1|   0.92|\n",
      "|    0|   0.08|\n",
      "|    0|   0.08|\n",
      "|    0|   0.08|\n",
      "|    0|   0.08|\n",
      "|    0|   0.08|\n",
      "|    0|   0.08|\n",
      "|    0|   0.08|\n",
      "|    0|   0.08|\n",
      "|    0|   0.08|\n",
      "|    0|   0.08|\n",
      "|    0|   0.08|\n",
      "|    0|   0.08|\n",
      "|    0|   0.08|\n",
      "|    0|   0.08|\n",
      "|    0|   0.08|\n",
      "|    0|   0.08|\n",
      "|    0|   0.08|\n",
      "|    0|   0.08|\n",
      "|    0|   0.08|\n",
      "+-----+-------+\n",
      "only showing top 20 rows\n",
      "\n"
     ]
    }
   ],
   "source": [
    "df.select(['label', 'weights']).show()"
   ]
  },
  {
   "cell_type": "markdown",
   "metadata": {},
   "source": [
    "## Q6: Feature transformation"
   ]
  },
  {
   "cell_type": "code",
   "execution_count": 430,
   "metadata": {},
   "outputs": [
    {
     "name": "stdout",
     "output_type": "stream",
     "text": [
      "['NAME_CONTRACT_TYPE', 'CODE_GENDER', 'FLAG_OWN_CAR', 'FLAG_OWN_REALTY', 'NAME_TYPE_SUITE', 'NAME_INCOME_TYPE', 'NAME_EDUCATION_TYPE', 'NAME_FAMILY_STATUS', 'NAME_HOUSING_TYPE', 'OCCUPATION_TYPE', 'WEEKDAY_APPR_PROCESS_START', 'ORGANIZATION_TYPE']\n",
      "['CNT_CHILDREN', 'AMT_INCOME_TOTAL', 'AMT_CREDIT', 'AMT_ANNUITY', 'AMT_GOODS_PRICE', 'REGION_POPULATION_RELATIVE', 'DAYS_BIRTH', 'DAYS_EMPLOYED', 'DAYS_REGISTRATION', 'DAYS_ID_PUBLISH', 'FLAG_MOBIL', 'FLAG_EMP_PHONE', 'FLAG_WORK_PHONE', 'FLAG_CONT_MOBILE', 'FLAG_PHONE', 'FLAG_EMAIL', 'CNT_FAM_MEMBERS', 'REGION_RATING_CLIENT', 'REGION_RATING_CLIENT_W_CITY', 'HOUR_APPR_PROCESS_START', 'REG_REGION_NOT_LIVE_REGION', 'REG_REGION_NOT_WORK_REGION', 'LIVE_REGION_NOT_WORK_REGION', 'REG_CITY_NOT_LIVE_CITY', 'REG_CITY_NOT_WORK_CITY', 'LIVE_CITY_NOT_WORK_CITY', 'EXT_SOURCE_2', 'EXT_SOURCE_3', 'OBS_30_CNT_SOCIAL_CIRCLE', 'DEF_30_CNT_SOCIAL_CIRCLE', 'OBS_60_CNT_SOCIAL_CIRCLE', 'DEF_60_CNT_SOCIAL_CIRCLE', 'DAYS_LAST_PHONE_CHANGE', 'FLAG_DOCUMENT_2', 'FLAG_DOCUMENT_3', 'FLAG_DOCUMENT_4', 'FLAG_DOCUMENT_5', 'FLAG_DOCUMENT_6', 'FLAG_DOCUMENT_7', 'FLAG_DOCUMENT_8', 'FLAG_DOCUMENT_9', 'FLAG_DOCUMENT_10', 'FLAG_DOCUMENT_11', 'FLAG_DOCUMENT_12', 'FLAG_DOCUMENT_13', 'FLAG_DOCUMENT_14', 'FLAG_DOCUMENT_15', 'FLAG_DOCUMENT_16', 'FLAG_DOCUMENT_17', 'FLAG_DOCUMENT_18', 'FLAG_DOCUMENT_19', 'FLAG_DOCUMENT_20', 'FLAG_DOCUMENT_21', 'AMT_REQ_CREDIT_BUREAU_HOUR', 'AMT_REQ_CREDIT_BUREAU_DAY', 'AMT_REQ_CREDIT_BUREAU_WEEK', 'AMT_REQ_CREDIT_BUREAU_MON', 'AMT_REQ_CREDIT_BUREAU_QRT', 'AMT_REQ_CREDIT_BUREAU_YEAR']\n"
     ]
    }
   ],
   "source": [
    "# Re-run Q3 to get the most up-to-date categorical and numerical columns.\n",
    "\n",
    "cat_cols = [item[0] for item in df.dtypes if item[1] == 'string'] \n",
    "\n",
    "# Note add [1:-1] at the end will exclude the 'label' and 'wegith' columns\n",
    "num_cols = [item[0] for item in df.dtypes if (item[1]=='int') or (item[1] =='double')][1:-1]\n",
    "\n",
    "print(cat_cols)\n",
    "print(num_cols)"
   ]
  },
  {
   "cell_type": "markdown",
   "metadata": {},
   "source": [
    "#### To transform all categorical features, we need to create a transformation pipeline in the sequence of: StringIndexer --> OneHotEncoder --> VectorAssembler. The cells below did not use DataFrame pipeline, however, you can use it to compare the results. [Pipeline reference link](https://spark.apache.org/docs/latest/ml-pipeline.html#example-pipeline)\n",
    "\n",
    "Since StringIndexer() not yet support multiple columns, we want to use a for loop to apply the transformation. In addition, when applying transformation on each column, you can add a suffix such as '_index' to the resulting column names."
   ]
  },
  {
   "cell_type": "code",
   "execution_count": 431,
   "metadata": {},
   "outputs": [
    {
     "data": {
      "text/plain": [
       "['label',\n",
       " 'NAME_CONTRACT_TYPE',\n",
       " 'CODE_GENDER',\n",
       " 'FLAG_OWN_CAR',\n",
       " 'FLAG_OWN_REALTY',\n",
       " 'CNT_CHILDREN',\n",
       " 'AMT_INCOME_TOTAL',\n",
       " 'AMT_CREDIT',\n",
       " 'AMT_ANNUITY',\n",
       " 'AMT_GOODS_PRICE',\n",
       " 'NAME_TYPE_SUITE',\n",
       " 'NAME_INCOME_TYPE',\n",
       " 'NAME_EDUCATION_TYPE',\n",
       " 'NAME_FAMILY_STATUS',\n",
       " 'NAME_HOUSING_TYPE',\n",
       " 'REGION_POPULATION_RELATIVE',\n",
       " 'DAYS_BIRTH',\n",
       " 'DAYS_EMPLOYED',\n",
       " 'DAYS_REGISTRATION',\n",
       " 'DAYS_ID_PUBLISH',\n",
       " 'FLAG_MOBIL',\n",
       " 'FLAG_EMP_PHONE',\n",
       " 'FLAG_WORK_PHONE',\n",
       " 'FLAG_CONT_MOBILE',\n",
       " 'FLAG_PHONE',\n",
       " 'FLAG_EMAIL',\n",
       " 'OCCUPATION_TYPE',\n",
       " 'CNT_FAM_MEMBERS',\n",
       " 'REGION_RATING_CLIENT',\n",
       " 'REGION_RATING_CLIENT_W_CITY',\n",
       " 'WEEKDAY_APPR_PROCESS_START',\n",
       " 'HOUR_APPR_PROCESS_START',\n",
       " 'REG_REGION_NOT_LIVE_REGION',\n",
       " 'REG_REGION_NOT_WORK_REGION',\n",
       " 'LIVE_REGION_NOT_WORK_REGION',\n",
       " 'REG_CITY_NOT_LIVE_CITY',\n",
       " 'REG_CITY_NOT_WORK_CITY',\n",
       " 'LIVE_CITY_NOT_WORK_CITY',\n",
       " 'ORGANIZATION_TYPE',\n",
       " 'EXT_SOURCE_2',\n",
       " 'EXT_SOURCE_3',\n",
       " 'OBS_30_CNT_SOCIAL_CIRCLE',\n",
       " 'DEF_30_CNT_SOCIAL_CIRCLE',\n",
       " 'OBS_60_CNT_SOCIAL_CIRCLE',\n",
       " 'DEF_60_CNT_SOCIAL_CIRCLE',\n",
       " 'DAYS_LAST_PHONE_CHANGE',\n",
       " 'FLAG_DOCUMENT_2',\n",
       " 'FLAG_DOCUMENT_3',\n",
       " 'FLAG_DOCUMENT_4',\n",
       " 'FLAG_DOCUMENT_5',\n",
       " 'FLAG_DOCUMENT_6',\n",
       " 'FLAG_DOCUMENT_7',\n",
       " 'FLAG_DOCUMENT_8',\n",
       " 'FLAG_DOCUMENT_9',\n",
       " 'FLAG_DOCUMENT_10',\n",
       " 'FLAG_DOCUMENT_11',\n",
       " 'FLAG_DOCUMENT_12',\n",
       " 'FLAG_DOCUMENT_13',\n",
       " 'FLAG_DOCUMENT_14',\n",
       " 'FLAG_DOCUMENT_15',\n",
       " 'FLAG_DOCUMENT_16',\n",
       " 'FLAG_DOCUMENT_17',\n",
       " 'FLAG_DOCUMENT_18',\n",
       " 'FLAG_DOCUMENT_19',\n",
       " 'FLAG_DOCUMENT_20',\n",
       " 'FLAG_DOCUMENT_21',\n",
       " 'AMT_REQ_CREDIT_BUREAU_HOUR',\n",
       " 'AMT_REQ_CREDIT_BUREAU_DAY',\n",
       " 'AMT_REQ_CREDIT_BUREAU_WEEK',\n",
       " 'AMT_REQ_CREDIT_BUREAU_MON',\n",
       " 'AMT_REQ_CREDIT_BUREAU_QRT',\n",
       " 'AMT_REQ_CREDIT_BUREAU_YEAR',\n",
       " 'weights']"
      ]
     },
     "execution_count": 431,
     "metadata": {},
     "output_type": "execute_result"
    }
   ],
   "source": [
    "df.columns"
   ]
  },
  {
   "cell_type": "code",
   "execution_count": 432,
   "metadata": {},
   "outputs": [],
   "source": [
    "from pyspark.ml.feature import StringIndexer\n",
    "\n",
    "for col in cat_cols:\n",
    "    indexer = StringIndexer(inputCol=col, outputCol=col+'_index')\n",
    "    \n",
    "    \n",
    "    df = indexer.fit(df).transform(df)\n",
    "    \n"
   ]
  },
  {
   "cell_type": "markdown",
   "metadata": {},
   "source": [
    "#### Find all the resulting columns that contain the '_index' suffix."
   ]
  },
  {
   "cell_type": "code",
   "execution_count": 433,
   "metadata": {},
   "outputs": [
    {
     "name": "stdout",
     "output_type": "stream",
     "text": [
      "['NAME_CONTRACT_TYPE_index', 'CODE_GENDER_index', 'FLAG_OWN_CAR_index', 'FLAG_OWN_REALTY_index', 'NAME_TYPE_SUITE_index', 'NAME_INCOME_TYPE_index', 'NAME_EDUCATION_TYPE_index', 'NAME_FAMILY_STATUS_index', 'NAME_HOUSING_TYPE_index', 'OCCUPATION_TYPE_index', 'WEEKDAY_APPR_PROCESS_START_index', 'ORGANIZATION_TYPE_index']\n"
     ]
    }
   ],
   "source": [
    "encoderInputs = []\n",
    "\n",
    "for col in df.columns:\n",
    "    # TODO\n",
    "    if '_index' in col:\n",
    "        encoderInputs.append(col)\n",
    "        \n",
    "print(encoderInputs)"
   ]
  },
  {
   "cell_type": "markdown",
   "metadata": {},
   "source": [
    "#### Apply OneHotEncoder transformation. Again, use a for loop and add '_onehot' suffix to the resulting column names."
   ]
  },
  {
   "cell_type": "code",
   "execution_count": 434,
   "metadata": {},
   "outputs": [],
   "source": [
    "from pyspark.ml.feature import OneHotEncoder\n",
    "\n",
    "for col in encoderInputs:\n",
    "    indexer = OneHotEncoder(inputCol=col, outputCol=col+'_onehot', dropLast=True)\n",
    "    \n",
    "    \n",
    "    \n",
    "    df = indexer.fit(df).transform(df)\n",
    "    \n",
    "    \n"
   ]
  },
  {
   "cell_type": "markdown",
   "metadata": {},
   "source": [
    "#### Find all the resulting columns that contain the '_onehot' suffix. Add back the numerical columns. "
   ]
  },
  {
   "cell_type": "code",
   "execution_count": 435,
   "metadata": {},
   "outputs": [
    {
     "name": "stdout",
     "output_type": "stream",
     "text": [
      "['NAME_CONTRACT_TYPE_index_onehot', 'CODE_GENDER_index_onehot', 'FLAG_OWN_CAR_index_onehot', 'FLAG_OWN_REALTY_index_onehot', 'NAME_TYPE_SUITE_index_onehot', 'NAME_INCOME_TYPE_index_onehot', 'NAME_EDUCATION_TYPE_index_onehot', 'NAME_FAMILY_STATUS_index_onehot', 'NAME_HOUSING_TYPE_index_onehot', 'OCCUPATION_TYPE_index_onehot', 'WEEKDAY_APPR_PROCESS_START_index_onehot', 'ORGANIZATION_TYPE_index_onehot', 'NAME_CONTRACT_TYPE_index', 'CODE_GENDER_index', 'FLAG_OWN_CAR_index', 'FLAG_OWN_REALTY_index', 'NAME_TYPE_SUITE_index', 'NAME_INCOME_TYPE_index', 'NAME_EDUCATION_TYPE_index', 'NAME_FAMILY_STATUS_index', 'NAME_HOUSING_TYPE_index', 'OCCUPATION_TYPE_index', 'WEEKDAY_APPR_PROCESS_START_index', 'ORGANIZATION_TYPE_index', 'CNT_CHILDREN', 'AMT_INCOME_TOTAL', 'AMT_CREDIT', 'AMT_ANNUITY', 'AMT_GOODS_PRICE', 'REGION_POPULATION_RELATIVE', 'DAYS_BIRTH', 'DAYS_EMPLOYED', 'DAYS_REGISTRATION', 'DAYS_ID_PUBLISH', 'FLAG_MOBIL', 'FLAG_EMP_PHONE', 'FLAG_WORK_PHONE', 'FLAG_CONT_MOBILE', 'FLAG_PHONE', 'FLAG_EMAIL', 'CNT_FAM_MEMBERS', 'REGION_RATING_CLIENT', 'REGION_RATING_CLIENT_W_CITY', 'HOUR_APPR_PROCESS_START', 'REG_REGION_NOT_LIVE_REGION', 'REG_REGION_NOT_WORK_REGION', 'LIVE_REGION_NOT_WORK_REGION', 'REG_CITY_NOT_LIVE_CITY', 'REG_CITY_NOT_WORK_CITY', 'LIVE_CITY_NOT_WORK_CITY', 'EXT_SOURCE_2', 'EXT_SOURCE_3', 'OBS_30_CNT_SOCIAL_CIRCLE', 'DEF_30_CNT_SOCIAL_CIRCLE', 'OBS_60_CNT_SOCIAL_CIRCLE', 'DEF_60_CNT_SOCIAL_CIRCLE', 'DAYS_LAST_PHONE_CHANGE', 'FLAG_DOCUMENT_2', 'FLAG_DOCUMENT_3', 'FLAG_DOCUMENT_4', 'FLAG_DOCUMENT_5', 'FLAG_DOCUMENT_6', 'FLAG_DOCUMENT_7', 'FLAG_DOCUMENT_8', 'FLAG_DOCUMENT_9', 'FLAG_DOCUMENT_10', 'FLAG_DOCUMENT_11', 'FLAG_DOCUMENT_12', 'FLAG_DOCUMENT_13', 'FLAG_DOCUMENT_14', 'FLAG_DOCUMENT_15', 'FLAG_DOCUMENT_16', 'FLAG_DOCUMENT_17', 'FLAG_DOCUMENT_18', 'FLAG_DOCUMENT_19', 'FLAG_DOCUMENT_20', 'FLAG_DOCUMENT_21', 'AMT_REQ_CREDIT_BUREAU_HOUR', 'AMT_REQ_CREDIT_BUREAU_DAY', 'AMT_REQ_CREDIT_BUREAU_WEEK', 'AMT_REQ_CREDIT_BUREAU_MON', 'AMT_REQ_CREDIT_BUREAU_QRT', 'AMT_REQ_CREDIT_BUREAU_YEAR']\n"
     ]
    }
   ],
   "source": [
    "assemblerInput = []\n",
    "\n",
    "for col in df.columns:\n",
    "    # TODO\n",
    "    if '_onehot' in col:\n",
    "        assemblerInput.append(col)\n",
    "        \n",
    "        \n",
    "# Addd back the numerical columns (excluding 'label' column)\n",
    "assemblerInput = assemblerInput+encoderInputs+num_cols\n",
    "\n",
    "\n",
    "print(assemblerInput)"
   ]
  },
  {
   "cell_type": "markdown",
   "metadata": {},
   "source": [
    "#### Lastly, apply VectorAssembler to get the final form of the DataFrame."
   ]
  },
  {
   "cell_type": "code",
   "execution_count": 436,
   "metadata": {},
   "outputs": [],
   "source": [
    "from pyspark.ml.feature import VectorAssembler\n",
    "\n",
    "assembler = VectorAssembler(inputCols=[\n",
    " 'NAME_CONTRACT_TYPE_index_onehot', 'CODE_GENDER_index_onehot', 'FLAG_OWN_CAR_index_onehot', 'FLAG_OWN_REALTY_index_onehot', 'NAME_TYPE_SUITE_index_onehot', 'NAME_INCOME_TYPE_index_onehot', 'NAME_EDUCATION_TYPE_index_onehot', 'NAME_FAMILY_STATUS_index_onehot', 'NAME_HOUSING_TYPE_index_onehot', 'OCCUPATION_TYPE_index_onehot', 'WEEKDAY_APPR_PROCESS_START_index_onehot', 'ORGANIZATION_TYPE_index_onehot', 'NAME_CONTRACT_TYPE_index', 'CODE_GENDER_index', 'FLAG_OWN_CAR_index', 'FLAG_OWN_REALTY_index', 'NAME_TYPE_SUITE_index', 'NAME_INCOME_TYPE_index', 'NAME_EDUCATION_TYPE_index', 'NAME_FAMILY_STATUS_index', 'NAME_HOUSING_TYPE_index', 'OCCUPATION_TYPE_index', 'WEEKDAY_APPR_PROCESS_START_index', 'ORGANIZATION_TYPE_index', 'CNT_CHILDREN', 'AMT_INCOME_TOTAL', 'AMT_CREDIT', 'AMT_ANNUITY', 'AMT_GOODS_PRICE', 'REGION_POPULATION_RELATIVE', 'DAYS_BIRTH', 'DAYS_EMPLOYED', 'DAYS_REGISTRATION', 'DAYS_ID_PUBLISH', 'FLAG_MOBIL', 'FLAG_EMP_PHONE', 'FLAG_WORK_PHONE', 'FLAG_CONT_MOBILE', 'FLAG_PHONE', 'FLAG_EMAIL', 'CNT_FAM_MEMBERS', 'REGION_RATING_CLIENT', 'REGION_RATING_CLIENT_W_CITY', 'HOUR_APPR_PROCESS_START', 'REG_REGION_NOT_LIVE_REGION', 'REG_REGION_NOT_WORK_REGION', 'LIVE_REGION_NOT_WORK_REGION', 'REG_CITY_NOT_LIVE_CITY', 'REG_CITY_NOT_WORK_CITY', 'LIVE_CITY_NOT_WORK_CITY', 'EXT_SOURCE_2', 'EXT_SOURCE_3', 'OBS_30_CNT_SOCIAL_CIRCLE', 'DEF_30_CNT_SOCIAL_CIRCLE', 'OBS_60_CNT_SOCIAL_CIRCLE', 'DEF_60_CNT_SOCIAL_CIRCLE', 'DAYS_LAST_PHONE_CHANGE', 'FLAG_DOCUMENT_2', 'FLAG_DOCUMENT_3', 'FLAG_DOCUMENT_4', 'FLAG_DOCUMENT_5', 'FLAG_DOCUMENT_6', 'FLAG_DOCUMENT_7', 'FLAG_DOCUMENT_8', 'FLAG_DOCUMENT_9', 'FLAG_DOCUMENT_10', 'FLAG_DOCUMENT_11', 'FLAG_DOCUMENT_12', 'FLAG_DOCUMENT_13', 'FLAG_DOCUMENT_14', 'FLAG_DOCUMENT_15', 'FLAG_DOCUMENT_16', 'FLAG_DOCUMENT_17', 'FLAG_DOCUMENT_18', 'FLAG_DOCUMENT_19', 'FLAG_DOCUMENT_20', 'FLAG_DOCUMENT_21', 'AMT_REQ_CREDIT_BUREAU_HOUR', 'AMT_REQ_CREDIT_BUREAU_DAY', 'AMT_REQ_CREDIT_BUREAU_WEEK', 'AMT_REQ_CREDIT_BUREAU_MON', 'AMT_REQ_CREDIT_BUREAU_QRT', 'AMT_REQ_CREDIT_BUREAU_YEAR'],\n",
    "                           outputCol = 'features')\n",
    "\n",
    "\n",
    "df = assembler.transform(df)\n",
    "\n"
   ]
  },
  {
   "cell_type": "markdown",
   "metadata": {},
   "source": [
    "#### Select only the 'features', 'label', and 'weights' columns"
   ]
  },
  {
   "cell_type": "code",
   "execution_count": 437,
   "metadata": {},
   "outputs": [
    {
     "name": "stdout",
     "output_type": "stream",
     "text": [
      "+--------------------+-----+-------+\n",
      "|            features|label|weights|\n",
      "+--------------------+-----+-------+\n",
      "|(183,[0,2,3,4,5,1...|    1|   0.92|\n",
      "|(183,[0,1,3,6,14,...|    0|   0.08|\n",
      "|(183,[2,4,5,11,18...|    0|   0.08|\n",
      "|(183,[0,1,3,4,5,1...|    0|   0.08|\n",
      "|(183,[0,2,3,4,5,1...|    0|   0.08|\n",
      "|(183,[0,2,3,4,7,1...|    0|   0.08|\n",
      "|(183,[0,1,4,5,12,...|    0|   0.08|\n",
      "|(183,[0,2,4,5,14,...|    0|   0.08|\n",
      "|(183,[0,1,3,4,8,1...|    0|   0.08|\n",
      "|(183,[2,3,4,5,11,...|    0|   0.08|\n",
      "|(183,[0,1,3,4,5,1...|    0|   0.08|\n",
      "|(183,[0,1,3,4,8,1...|    0|   0.08|\n",
      "|(183,[0,1,3,4,5,1...|    0|   0.08|\n",
      "|(183,[0,2,5,11,18...|    0|   0.08|\n",
      "|(183,[0,1,3,4,5,1...|    0|   0.08|\n",
      "|(183,[0,2,4,6,11,...|    0|   0.08|\n",
      "|(183,[0,2,3,5,11,...|    0|   0.08|\n",
      "|(183,[1,3,4,5,11,...|    0|   0.08|\n",
      "|(183,[1,3,4,10,11...|    0|   0.08|\n",
      "|(183,[0,1,3,4,5,1...|    0|   0.08|\n",
      "+--------------------+-----+-------+\n",
      "only showing top 20 rows\n",
      "\n"
     ]
    }
   ],
   "source": [
    "df = df.select(['features','label','weights'])\n",
    "df.show()"
   ]
  },
  {
   "cell_type": "markdown",
   "metadata": {},
   "source": [
    "## Q7: Training the model"
   ]
  },
  {
   "cell_type": "markdown",
   "metadata": {},
   "source": [
    "#### Firstly, split the dataset into train_data and test_data with a split ratio of [0.7, 0.3]. Use seed = 101"
   ]
  },
  {
   "cell_type": "code",
   "execution_count": 438,
   "metadata": {
    "scrolled": true
   },
   "outputs": [
    {
     "name": "stdout",
     "output_type": "stream",
     "text": [
      "69748\n",
      "30252\n"
     ]
    }
   ],
   "source": [
    "# split the data into trainign and testin sets\n",
    "\n",
    "train_data, test_data = df.randomSplit([0.7,0.3], seed = 101)\n",
    "\n",
    "\n",
    "\n",
    "print(train_data.count())\n",
    "print(test_data.count())"
   ]
  },
  {
   "cell_type": "markdown",
   "metadata": {},
   "source": [
    "#### Train a Logistic Regression model. Ensure to specify the `weightCol` argument with the `weights` column."
   ]
  },
  {
   "cell_type": "code",
   "execution_count": 439,
   "metadata": {},
   "outputs": [],
   "source": [
    "# first we check how LogisticRegression perform \n",
    "from pyspark.ml.classification import LogisticRegression\n",
    "\n",
    "\n",
    "\n",
    "lr = LogisticRegression(featuresCol='features',\n",
    "                                    labelCol = 'label',\n",
    "                                    weightCol = 'weights',\n",
    "                                    predictionCol = 'prediction')\n",
    "\n",
    "\n",
    "lrModel = lr.fit(train_data)\n"
   ]
  },
  {
   "cell_type": "markdown",
   "metadata": {},
   "source": [
    "## Q8: Evaluation"
   ]
  },
  {
   "cell_type": "markdown",
   "metadata": {},
   "source": [
    "#### Plot the ROC curve"
   ]
  },
  {
   "cell_type": "code",
   "execution_count": 440,
   "metadata": {},
   "outputs": [],
   "source": [
    "results = lrModel.transform(test_data)"
   ]
  },
  {
   "cell_type": "code",
   "execution_count": 441,
   "metadata": {},
   "outputs": [],
   "source": [
    "training_summary = lrModel.summary\n",
    "\n",
    "ROC = training_summary.roc.toPandas()"
   ]
  },
  {
   "cell_type": "code",
   "execution_count": 442,
   "metadata": {},
   "outputs": [
    {
     "data": {
      "text/html": [
       "<div>\n",
       "<style scoped>\n",
       "    .dataframe tbody tr th:only-of-type {\n",
       "        vertical-align: middle;\n",
       "    }\n",
       "\n",
       "    .dataframe tbody tr th {\n",
       "        vertical-align: top;\n",
       "    }\n",
       "\n",
       "    .dataframe thead th {\n",
       "        text-align: right;\n",
       "    }\n",
       "</style>\n",
       "<table border=\"1\" class=\"dataframe\">\n",
       "  <thead>\n",
       "    <tr style=\"text-align: right;\">\n",
       "      <th></th>\n",
       "      <th>FPR</th>\n",
       "      <th>TPR</th>\n",
       "    </tr>\n",
       "  </thead>\n",
       "  <tbody>\n",
       "    <tr>\n",
       "      <th>0</th>\n",
       "      <td>0.000000</td>\n",
       "      <td>0.000000</td>\n",
       "    </tr>\n",
       "    <tr>\n",
       "      <th>1</th>\n",
       "      <td>0.006495</td>\n",
       "      <td>0.049298</td>\n",
       "    </tr>\n",
       "    <tr>\n",
       "      <th>2</th>\n",
       "      <td>0.013911</td>\n",
       "      <td>0.088246</td>\n",
       "    </tr>\n",
       "    <tr>\n",
       "      <th>3</th>\n",
       "      <td>0.021796</td>\n",
       "      <td>0.121930</td>\n",
       "    </tr>\n",
       "    <tr>\n",
       "      <th>4</th>\n",
       "      <td>0.029650</td>\n",
       "      <td>0.155965</td>\n",
       "    </tr>\n",
       "    <tr>\n",
       "      <th>...</th>\n",
       "      <td>...</td>\n",
       "      <td>...</td>\n",
       "    </tr>\n",
       "    <tr>\n",
       "      <th>103</th>\n",
       "      <td>0.967930</td>\n",
       "      <td>0.996667</td>\n",
       "    </tr>\n",
       "    <tr>\n",
       "      <th>104</th>\n",
       "      <td>0.978719</td>\n",
       "      <td>0.997719</td>\n",
       "    </tr>\n",
       "    <tr>\n",
       "      <th>105</th>\n",
       "      <td>0.989430</td>\n",
       "      <td>0.999649</td>\n",
       "    </tr>\n",
       "    <tr>\n",
       "      <th>106</th>\n",
       "      <td>1.000000</td>\n",
       "      <td>1.000000</td>\n",
       "    </tr>\n",
       "    <tr>\n",
       "      <th>107</th>\n",
       "      <td>1.000000</td>\n",
       "      <td>1.000000</td>\n",
       "    </tr>\n",
       "  </tbody>\n",
       "</table>\n",
       "<p>108 rows × 2 columns</p>\n",
       "</div>"
      ],
      "text/plain": [
       "          FPR       TPR\n",
       "0    0.000000  0.000000\n",
       "1    0.006495  0.049298\n",
       "2    0.013911  0.088246\n",
       "3    0.021796  0.121930\n",
       "4    0.029650  0.155965\n",
       "..        ...       ...\n",
       "103  0.967930  0.996667\n",
       "104  0.978719  0.997719\n",
       "105  0.989430  0.999649\n",
       "106  1.000000  1.000000\n",
       "107  1.000000  1.000000\n",
       "\n",
       "[108 rows x 2 columns]"
      ]
     },
     "execution_count": 442,
     "metadata": {},
     "output_type": "execute_result"
    }
   ],
   "source": [
    "ROC"
   ]
  },
  {
   "cell_type": "code",
   "execution_count": 443,
   "metadata": {},
   "outputs": [
    {
     "data": {
      "text/plain": [
       "Text(0.5, 1.0, 'ROC Curve')"
      ]
     },
     "execution_count": 443,
     "metadata": {},
     "output_type": "execute_result"
    },
    {
     "data": {
      "image/png": "[encoded data removed]",
      "text/plain": [
       "<Figure size 432x288 with 1 Axes>"
      ]
     },
     "metadata": {
      "needs_background": "light"
     },
     "output_type": "display_data"
    }
   ],
   "source": [
    "import matplotlib.pyplot as plt\n",
    "plt.plot(ROC['FPR'], ROC['TPR'])\n",
    "\n",
    "plt.ylabel('False postive rate')\n",
    "plt.xlabel('True postive rate')\n",
    "plt.title(\"ROC Curve\")"
   ]
  },
  {
   "cell_type": "markdown",
   "metadata": {},
   "source": [
    "#### Find the AUC value."
   ]
  },
  {
   "cell_type": "code",
   "execution_count": 444,
   "metadata": {},
   "outputs": [
    {
     "name": "stdout",
     "output_type": "stream",
     "text": [
      "Test Data Area Under ROC:  0.7441160508456377\n"
     ]
    }
   ],
   "source": [
    "print ('Test Data Area Under ROC: ', training_summary.areaUnderROC)"
   ]
  },
  {
   "cell_type": "markdown",
   "metadata": {},
   "source": [
    "#### Use sklearn's classification report to show the classification performance"
   ]
  },
  {
   "cell_type": "code",
   "execution_count": 445,
   "metadata": {},
   "outputs": [],
   "source": [
    "from pyspark.ml.evaluation import BinaryClassificationEvaluator"
   ]
  },
  {
   "cell_type": "code",
   "execution_count": 446,
   "metadata": {},
   "outputs": [],
   "source": [
    "evaluator = BinaryClassificationEvaluator(labelCol='label', metricName='areaUnderROC')"
   ]
  },
  {
   "cell_type": "code",
   "execution_count": 447,
   "metadata": {},
   "outputs": [
    {
     "data": {
      "text/plain": [
       "0.7368658980547482"
      ]
     },
     "execution_count": 447,
     "metadata": {},
     "output_type": "execute_result"
    }
   ],
   "source": [
    "evaluator.evaluate(results)\n"
   ]
  },
  {
   "cell_type": "code",
   "execution_count": 448,
   "metadata": {},
   "outputs": [],
   "source": [
    "y_true = results.select(['label']).collect()\n",
    "y_pred = results.select(['prediction']).collect()"
   ]
  },
  {
   "cell_type": "code",
   "execution_count": 449,
   "metadata": {},
   "outputs": [],
   "source": [
    "from sklearn.metrics import classification_report, confusion_matrix\n"
   ]
  },
  {
   "cell_type": "code",
   "execution_count": 450,
   "metadata": {},
   "outputs": [
    {
     "name": "stdout",
     "output_type": "stream",
     "text": [
      "              precision    recall  f1-score   support\n",
      "\n",
      "           0       0.96      0.68      0.80     27859\n",
      "           1       0.15      0.67      0.25      2393\n",
      "\n",
      "    accuracy                           0.68     30252\n",
      "   macro avg       0.56      0.68      0.52     30252\n",
      "weighted avg       0.90      0.68      0.75     30252\n",
      "\n"
     ]
    }
   ],
   "source": [
    "print(classification_report(y_true, y_pred))\n"
   ]
  },
  {
   "cell_type": "markdown",
   "metadata": {},
   "source": [
    "## Q9: Open-ended question\n",
    "\n",
    "#### Try to improve the model's F1 score by the following methods:\n",
    "+ Feature importance study --> Feature selection and elimination.\n",
    "+ Feature dimensionality reduction with PCA or LDA. \n",
    "+ Use and fine-tune other classifiction models.\n",
    "\n",
    "Note: Your final grade of this question depends on how many **reasonable** methods have been tried. The final F1 score is the least important. "
   ]
  },
  {
   "cell_type": "markdown",
   "metadata": {},
   "source": [
    "# decision tree, random forest, and gradient boosted trees"
   ]
  },
  {
   "cell_type": "code",
   "execution_count": 451,
   "metadata": {},
   "outputs": [],
   "source": [
    "from pyspark.ml.classification import DecisionTreeClassifier\n",
    "from pyspark.ml.classification import RandomForestClassifier\n",
    "from pyspark.ml.feature import IndexToString, StringIndexer, VectorIndexer\n",
    "from pyspark.ml.evaluation import MulticlassClassificationEvaluator, BinaryClassificationEvaluator\n",
    "\n",
    "from pyspark.ml.classification import GBTClassifier"
   ]
  },
  {
   "cell_type": "code",
   "execution_count": 452,
   "metadata": {},
   "outputs": [],
   "source": [
    "# Use mostly defaults to make this comparison \"fair\"\n",
    "\n",
    "dtc = DecisionTreeClassifier(labelCol='label',maxBins=58)\n",
    "\n",
    "rfc = RandomForestClassifier(labelCol='label',maxBins=58)\n",
    "\n",
    "gbt = GBTClassifier(labelCol='label',maxBins=58)\n",
    "\n"
   ]
  },
  {
   "cell_type": "code",
   "execution_count": 453,
   "metadata": {},
   "outputs": [],
   "source": [
    "# Train the models (there are three models, so it might take some time)\n",
    "dtc_model = dtc.fit(train_data)\n",
    "\n",
    "rfc_model = rfc.fit(train_data)\n",
    "\n",
    "gbt_model = gbt.fit(train_data)"
   ]
  },
  {
   "cell_type": "code",
   "execution_count": 454,
   "metadata": {},
   "outputs": [],
   "source": [
    "dtc_predictions = dtc_model.transform(test_data)\n",
    "\n",
    "rfc_predictions = rfc_model.transform(test_data)\n",
    "\n",
    "gbt_predictions = gbt_model.transform(test_data)"
   ]
  },
  {
   "cell_type": "code",
   "execution_count": 455,
   "metadata": {},
   "outputs": [],
   "source": [
    "from pyspark.ml.evaluation import MulticlassClassificationEvaluator"
   ]
  },
  {
   "cell_type": "code",
   "execution_count": 456,
   "metadata": {},
   "outputs": [],
   "source": [
    "acc_evaluator = MulticlassClassificationEvaluator(labelCol='label',\n",
    "                                                 metricName='accuracy')\n",
    "\n"
   ]
  },
  {
   "cell_type": "code",
   "execution_count": 457,
   "metadata": {},
   "outputs": [],
   "source": [
    "dtc_acc = acc_evaluator.evaluate(dtc_predictions)\n",
    "\n",
    "rfc_acc = acc_evaluator.evaluate(rfc_predictions)\n",
    "\n",
    "gbt_acc = acc_evaluator.evaluate(gbt_predictions)\n"
   ]
  },
  {
   "cell_type": "code",
   "execution_count": 458,
   "metadata": {},
   "outputs": [
    {
     "name": "stdout",
     "output_type": "stream",
     "text": [
      "Model accuracy:\n",
      "Decision tree: 92.07%\n",
      "Random forest: 92.09%\n",
      "GBT: 92.07%\n"
     ]
    }
   ],
   "source": [
    "print(\"Model accuracy:\")\n",
    "print('Decision tree: {0:2.2f}%'.format(dtc_acc*100))\n",
    "print('Random forest: {0:2.2f}%'.format(rfc_acc*100))\n",
    "print('GBT: {0:2.2f}%'.format(gbt_acc*100))"
   ]
  },
  {
   "cell_type": "code",
   "execution_count": 459,
   "metadata": {},
   "outputs": [
    {
     "name": "stdout",
     "output_type": "stream",
     "text": [
      "              precision    recall  f1-score   support\n",
      "\n",
      "           0       0.92      1.00      0.96     27859\n",
      "           1       0.00      0.00      0.00      2393\n",
      "\n",
      "    accuracy                           0.92     30252\n",
      "   macro avg       0.46      0.50      0.48     30252\n",
      "weighted avg       0.85      0.92      0.88     30252\n",
      "\n"
     ]
    }
   ],
   "source": [
    "evaluator = BinaryClassificationEvaluator(labelCol='label', metricName='areaUnderROC')\n",
    "evaluator.evaluate(dtc_predictions)\n",
    "y_true = dtc_predictions.select(['label']).collect()\n",
    "y_pred = dtc_predictions.select(['prediction']).collect()\n",
    "print(classification_report(y_true, y_pred))\n"
   ]
  },
  {
   "cell_type": "markdown",
   "metadata": {},
   "source": [
    "This f1 score is very high, the decision tree splits at nodes to classify"
   ]
  },
  {
   "cell_type": "code",
   "execution_count": 460,
   "metadata": {
    "scrolled": true
   },
   "outputs": [
    {
     "name": "stdout",
     "output_type": "stream",
     "text": [
      "              precision    recall  f1-score   support\n",
      "\n",
      "           0       0.92      1.00      0.96     27859\n",
      "           1       0.00      0.00      0.00      2393\n",
      "\n",
      "    accuracy                           0.92     30252\n",
      "   macro avg       0.46      0.50      0.48     30252\n",
      "weighted avg       0.85      0.92      0.88     30252\n",
      "\n"
     ]
    },
    {
     "name": "stderr",
     "output_type": "stream",
     "text": [
      "/home/lip/anaconda3/lib/python3.7/site-packages/sklearn/metrics/_classification.py:1318: UndefinedMetricWarning: Precision and F-score are ill-defined and being set to 0.0 in labels with no predicted samples. Use `zero_division` parameter to control this behavior.\n",
      "  _warn_prf(average, modifier, msg_start, len(result))\n",
      "/home/lip/anaconda3/lib/python3.7/site-packages/sklearn/metrics/_classification.py:1318: UndefinedMetricWarning: Precision and F-score are ill-defined and being set to 0.0 in labels with no predicted samples. Use `zero_division` parameter to control this behavior.\n",
      "  _warn_prf(average, modifier, msg_start, len(result))\n",
      "/home/lip/anaconda3/lib/python3.7/site-packages/sklearn/metrics/_classification.py:1318: UndefinedMetricWarning: Precision and F-score are ill-defined and being set to 0.0 in labels with no predicted samples. Use `zero_division` parameter to control this behavior.\n",
      "  _warn_prf(average, modifier, msg_start, len(result))\n"
     ]
    }
   ],
   "source": [
    "evaluator = BinaryClassificationEvaluator(labelCol='label', metricName='areaUnderROC')\n",
    "evaluator.evaluate(rfc_predictions)\n",
    "y_true = rfc_predictions.select(['label']).collect()\n",
    "y_pred = rfc_predictions.select(['prediction']).collect()\n",
    "print(classification_report(y_true, y_pred))\n"
   ]
  },
  {
   "cell_type": "markdown",
   "metadata": {},
   "source": [
    "This f1 score is very high, random forest randomly picks features in tree splits"
   ]
  },
  {
   "cell_type": "code",
   "execution_count": 461,
   "metadata": {},
   "outputs": [
    {
     "name": "stdout",
     "output_type": "stream",
     "text": [
      "              precision    recall  f1-score   support\n",
      "\n",
      "           0       0.92      1.00      0.96     27859\n",
      "           1       0.38      0.00      0.01      2393\n",
      "\n",
      "    accuracy                           0.92     30252\n",
      "   macro avg       0.65      0.50      0.48     30252\n",
      "weighted avg       0.88      0.92      0.88     30252\n",
      "\n"
     ]
    }
   ],
   "source": [
    "evaluator = BinaryClassificationEvaluator(labelCol='label', metricName='areaUnderROC')\n",
    "evaluator.evaluate(gbt_predictions)\n",
    "y_true = gbt_predictions.select(['label']).collect()\n",
    "y_pred = gbt_predictions.select(['prediction']).collect()\n",
    "print(classification_report(y_true, y_pred))\n"
   ]
  },
  {
   "cell_type": "markdown",
   "metadata": {},
   "source": [
    "This is a very high f1 score. This boosted other features in unbalanced data."
   ]
  },
  {
   "cell_type": "markdown",
   "metadata": {},
   "source": [
    "# GBT Classifier"
   ]
  },
  {
   "cell_type": "code",
   "execution_count": 462,
   "metadata": {},
   "outputs": [],
   "source": [
    "from pyspark.ml import Pipeline\n",
    "from pyspark.ml.classification import GBTClassifier\n",
    "from pyspark.ml.feature import StringIndexer, VectorIndexer\n",
    "from pyspark.ml.evaluation import MulticlassClassificationEvaluator"
   ]
  },
  {
   "cell_type": "code",
   "execution_count": 463,
   "metadata": {},
   "outputs": [
    {
     "name": "stdout",
     "output_type": "stream",
     "text": [
      "+----------+------------+--------------------+\n",
      "|prediction|indexedLabel|            features|\n",
      "+----------+------------+--------------------+\n",
      "|       1.0|         0.0|(183,[0,1,3,4,5,1...|\n",
      "|       0.0|         0.0|(183,[0,1,3,4,5,1...|\n",
      "|       0.0|         0.0|(183,[0,1,3,4,5,1...|\n",
      "|       0.0|         0.0|(183,[0,1,3,4,5,1...|\n",
      "|       0.0|         0.0|(183,[0,1,3,4,5,1...|\n",
      "+----------+------------+--------------------+\n",
      "only showing top 5 rows\n",
      "\n",
      "Accuracy = 0.66789\n",
      "GBTClassificationModel: uid = GBTClassifier_71dca872a9f2, numTrees=10, numClasses=2, numFeatures=183\n"
     ]
    }
   ],
   "source": [
    "\n",
    "\n",
    "# Train a GBT model.\n",
    "gbt = GBTClassifier(featuresCol='features',\n",
    "                                    labelCol = 'label',\n",
    "                                    weightCol = 'weights',\n",
    "                                    predictionCol = 'prediction', maxIter=10, maxBins=58)\n",
    "\n",
    "\n",
    "# Make predictions.\n",
    "predictions = model.transform(test_data)\n",
    "\n",
    "# Select example rows to display.\n",
    "predictions.select(\"prediction\", \"indexedLabel\", \"features\").show(5)\n",
    "\n",
    "# Select (prediction, true label) and compute test error\n",
    "evaluator = MulticlassClassificationEvaluator(\n",
    "    labelCol=\"indexedLabel\", predictionCol=\"prediction\", metricName=\"accuracy\")\n",
    "accuracy = evaluator.evaluate(predictions)\n",
    "print(\"Accuracy = %g\" % (accuracy))\n",
    "\n",
    "gbtModel = model.stages[2]\n",
    "print(gbtModel)  # summary only"
   ]
  },
  {
   "cell_type": "code",
   "execution_count": 464,
   "metadata": {},
   "outputs": [],
   "source": [
    "evaluator = BinaryClassificationEvaluator(labelCol='label', metricName='areaUnderROC')"
   ]
  },
  {
   "cell_type": "code",
   "execution_count": 465,
   "metadata": {},
   "outputs": [
    {
     "data": {
      "text/plain": [
       "0.7236158197209044"
      ]
     },
     "execution_count": 465,
     "metadata": {},
     "output_type": "execute_result"
    }
   ],
   "source": [
    "evaluator.evaluate(predictions)\n"
   ]
  },
  {
   "cell_type": "code",
   "execution_count": 466,
   "metadata": {},
   "outputs": [],
   "source": [
    "y_true = predictions.select(['label']).collect()\n",
    "y_pred = predictions.select(['prediction']).collect()"
   ]
  },
  {
   "cell_type": "code",
   "execution_count": 467,
   "metadata": {},
   "outputs": [
    {
     "name": "stdout",
     "output_type": "stream",
     "text": [
      "              precision    recall  f1-score   support\n",
      "\n",
      "           0       0.96      0.67      0.79     27859\n",
      "           1       0.15      0.66      0.24      2393\n",
      "\n",
      "    accuracy                           0.67     30252\n",
      "   macro avg       0.55      0.67      0.51     30252\n",
      "weighted avg       0.89      0.67      0.74     30252\n",
      "\n"
     ]
    }
   ],
   "source": [
    "print(classification_report(y_true, y_pred))\n"
   ]
  },
  {
   "cell_type": "markdown",
   "metadata": {},
   "source": [
    "This model is important because it boosts less inportant features in an unbalanced output like we had. We did give specify the weights earlier in a question but not in the boosted model. The f1 score is a little lower but not by much."
   ]
  },
  {
   "cell_type": "markdown",
   "metadata": {},
   "source": [
    "# OneVsRest"
   ]
  },
  {
   "cell_type": "code",
   "execution_count": 468,
   "metadata": {},
   "outputs": [],
   "source": [
    "from pyspark.ml.classification import LogisticRegression, OneVsRest\n",
    "from pyspark.ml.evaluation import MulticlassClassificationEvaluator\n"
   ]
  },
  {
   "cell_type": "code",
   "execution_count": 469,
   "metadata": {},
   "outputs": [
    {
     "name": "stderr",
     "output_type": "stream",
     "text": [
      "22/04/04 23:22:51 ERROR LBFGS: Failure! Resetting history: breeze.optimize.FirstOrderException: Line search failed\n",
      "22/04/04 23:22:55 ERROR LBFGS: Failure! Resetting history: breeze.optimize.FirstOrderException: Line search failed\n",
      "[Stage 66962:===>                                                 (1 + 13) / 14]\r"
     ]
    },
    {
     "name": "stdout",
     "output_type": "stream",
     "text": [
      "Accuracy = 0.920865\n"
     ]
    },
    {
     "name": "stderr",
     "output_type": "stream",
     "text": [
      "\r",
      "[Stage 66962:===========>                                         (3 + 11) / 14]\r",
      "\r",
      "                                                                                \r"
     ]
    }
   ],
   "source": [
    "lr = LogisticRegression(maxIter=10, tol=1E-6, fitIntercept=True)\n",
    "\n",
    "# instantiate the One Vs Rest Classifier.\n",
    "ovr = OneVsRest(classifier=lr)\n",
    "\n",
    "# train the multiclass model.\n",
    "ovrModel = ovr.fit(train_data)\n",
    "\n",
    "# score the model on test data.\n",
    "predictions = ovrModel.transform(test_data)\n",
    "\n",
    "# obtain evaluator.\n",
    "evaluator = MulticlassClassificationEvaluator(metricName=\"accuracy\")\n",
    "\n",
    "# compute the classification error on test data.\n",
    "accuracy = evaluator.evaluate(predictions)\n",
    "print(\"Accuracy = %g\" % (accuracy))"
   ]
  },
  {
   "cell_type": "markdown",
   "metadata": {},
   "source": [
    "The accuracy score is high here. The classifier takes instances of Classifier and creates a binary classification problem for each of the k classes. The classifier for class i is trained to predict whether the label is i or not, distinguishing class i from all other classes."
   ]
  },
  {
   "cell_type": "markdown",
   "metadata": {},
   "source": [
    "# Factorization machines classifier"
   ]
  },
  {
   "cell_type": "code",
   "execution_count": 474,
   "metadata": {},
   "outputs": [
    {
     "name": "stdout",
     "output_type": "stream",
     "text": [
      "+----------+------------+--------------------+\n",
      "|prediction|indexedLabel|            features|\n",
      "+----------+------------+--------------------+\n",
      "|       1.0|         0.0|(183,[0,1,3,4,5,1...|\n",
      "|       0.0|         0.0|(183,[0,1,3,4,5,1...|\n",
      "|       0.0|         0.0|(183,[0,1,3,4,5,1...|\n",
      "|       0.0|         0.0|(183,[0,1,3,4,5,1...|\n",
      "|       0.0|         0.0|(183,[0,1,3,4,5,1...|\n",
      "+----------+------------+--------------------+\n",
      "only showing top 5 rows\n",
      "\n",
      "Test set accuracy = 0.66789\n"
     ]
    }
   ],
   "source": [
    "predictions = model.transform(test_data)\n",
    "\n",
    "# Select example rows to display.\n",
    "predictions.select(\"prediction\", \"indexedLabel\", \"features\").show(5)\n",
    "\n",
    "# Select (prediction, true label) and compute test accuracy\n",
    "evaluator = MulticlassClassificationEvaluator(\n",
    "    labelCol=\"indexedLabel\", predictionCol=\"prediction\", metricName=\"accuracy\")\n",
    "accuracy = evaluator.evaluate(predictions)\n",
    "print(\"Test set accuracy = %g\" % accuracy)\n",
    "\n"
   ]
  },
  {
   "cell_type": "code",
   "execution_count": 475,
   "metadata": {},
   "outputs": [
    {
     "name": "stdout",
     "output_type": "stream",
     "text": [
      "              precision    recall  f1-score   support\n",
      "\n",
      "           0       0.96      0.67      0.79     27859\n",
      "           1       0.15      0.66      0.24      2393\n",
      "\n",
      "    accuracy                           0.67     30252\n",
      "   macro avg       0.55      0.67      0.51     30252\n",
      "weighted avg       0.89      0.67      0.74     30252\n",
      "\n"
     ]
    }
   ],
   "source": [
    "evaluator = BinaryClassificationEvaluator(labelCol='label', metricName='areaUnderROC')\n",
    "evaluator.evaluate(predictions)\n",
    "y_true = predictions.select(['label']).collect()\n",
    "y_pred = predictions.select(['prediction']).collect()\n",
    "print(classification_report(y_true, y_pred))\n"
   ]
  },
  {
   "cell_type": "markdown",
   "metadata": {},
   "source": [
    "This output has a similar F1 score to the other models. This is a held-out test set. I scaled features to be between 0 and 1 to prevent the exploding gradient problem."
   ]
  },
  {
   "cell_type": "markdown",
   "metadata": {},
   "source": [
    "# Great Job!"
   ]
  }
 ],
 "metadata": {
  "kernelspec": {
   "display_name": "Python 3 (ipykernel)",
   "language": "python",
   "name": "python3"
  },
  "language_info": {
   "codemirror_mode": {
    "name": "ipython",
    "version": 3
   },
   "file_extension": ".py",
   "mimetype": "text/x-python",
   "name": "python",
   "nbconvert_exporter": "python",
   "pygments_lexer": "ipython3",
   "version": "3.7.13"
  },
  "varInspector": {
   "cols": {
    "lenName": 16,
    "lenType": 16,
    "lenVar": 40
   },
   "kernels_config": {
    "python": {
     "delete_cmd_postfix": "",
     "delete_cmd_prefix": "del ",
     "library": "var_list.py",
     "varRefreshCmd": "print(var_dic_list())"
    },
    "r": {
     "delete_cmd_postfix": ") ",
     "delete_cmd_prefix": "rm(",
     "library": "var_list.r",
     "varRefreshCmd": "cat(var_dic_list()) "
    }
   },
   "types_to_exclude": [
    "module",
    "function",
    "builtin_function_or_method",
    "instance",
    "_Feature"
   ],
   "window_display": false
  }
 },
 "nbformat": 4,
 "nbformat_minor": 2
}
