{
 "cells": [
  {
   "cell_type": "code",
   "execution_count": 1,
   "id": "cc3ef8f6",
   "metadata": {},
   "outputs": [],
   "source": [
    "import findspark\n",
    "\n",
    "findspark.init('/opt/spark')"
   ]
  },
  {
   "cell_type": "code",
   "execution_count": 2,
   "id": "a6e198b9",
   "metadata": {},
   "outputs": [],
   "source": [
    "from pyspark.sql import SparkSession\n",
    "import pyspark.sql.functions as F\n",
    "from pyspark.sql.types import *"
   ]
  },
  {
   "cell_type": "code",
   "execution_count": 3,
   "id": "f3536a42",
   "metadata": {},
   "outputs": [
    {
     "name": "stderr",
     "output_type": "stream",
     "text": [
      "22/04/22 16:41:59 WARN Utils: Your hostname, GPUServer resolves to a loopback address: 127.0.1.1; using 10.4.10.8 instead (on interface enp2s0)\n",
      "22/04/22 16:41:59 WARN Utils: Set SPARK_LOCAL_IP if you need to bind to another address\n",
      "WARNING: An illegal reflective access operation has occurred\n",
      "WARNING: Illegal reflective access by org.apache.spark.unsafe.Platform (file:/opt/spark-3.0.1/jars/spark-unsafe_2.12-3.0.1.jar) to constructor java.nio.DirectByteBuffer(long,int)\n",
      "WARNING: Please consider reporting this to the maintainers of org.apache.spark.unsafe.Platform\n",
      "WARNING: Use --illegal-access=warn to enable warnings of further illegal reflective access operations\n",
      "WARNING: All illegal access operations will be denied in a future release\n",
      "22/04/22 16:42:00 WARN NativeCodeLoader: Unable to load native-hadoop library for your platform... using builtin-java classes where applicable\n",
      "Using Spark's default log4j profile: org/apache/spark/log4j-defaults.properties\n",
      "Setting default log level to \"WARN\".\n",
      "To adjust logging level use sc.setLogLevel(newLevel). For SparkR, use setLogLevel(newLevel).\n"
     ]
    }
   ],
   "source": [
    "spark = SparkSession.builder.appName('lec_23_moynihan_ex2').getOrCreate()"
   ]
  },
  {
   "cell_type": "code",
   "execution_count": 8,
   "id": "bd35a0b2",
   "metadata": {},
   "outputs": [],
   "source": [
    "dataScheme = StructType().add('tweet_id', 'long').add('tweet','string').add('user_id','integer')"
   ]
  },
  {
   "cell_type": "code",
   "execution_count": 9,
   "id": "ceabef9b",
   "metadata": {},
   "outputs": [],
   "source": [
    "streaming = (\n",
    "    spark.readStream.schema(dataScheme).csv('hdfs://localhost:9000/ds420_shared/lec23')\n",
    ")"
   ]
  },
  {
   "cell_type": "code",
   "execution_count": 10,
   "id": "9a809c3b",
   "metadata": {},
   "outputs": [
    {
     "data": {
      "text/plain": [
       "True"
      ]
     },
     "execution_count": 10,
     "metadata": {},
     "output_type": "execute_result"
    }
   ],
   "source": [
    "streaming.isStreaming"
   ]
  },
  {
   "cell_type": "code",
   "execution_count": 11,
   "id": "97b03a97",
   "metadata": {},
   "outputs": [
    {
     "name": "stdout",
     "output_type": "stream",
     "text": [
      "root\n",
      " |-- tweet_id: long (nullable = true)\n",
      " |-- tweet: string (nullable = true)\n",
      " |-- user_id: integer (nullable = true)\n",
      "\n"
     ]
    }
   ],
   "source": [
    "streaming.printSchema()"
   ]
  },
  {
   "cell_type": "code",
   "execution_count": 12,
   "id": "fe3c6434",
   "metadata": {},
   "outputs": [],
   "source": [
    "user_count = streaming.groupBy('user_id').count().orderBy(F.desc('count'))"
   ]
  },
  {
   "cell_type": "code",
   "execution_count": 13,
   "id": "c885362d",
   "metadata": {},
   "outputs": [
    {
     "name": "stderr",
     "output_type": "stream",
     "text": [
      "22/04/22 16:42:53 WARN StreamingQueryManager: Temporary checkpoint location created which is deleted normally when the query didn't fail: /tmp/temporary-1790c024-c084-43b1-99ed-13268f9edfbb. If it's required to delete it under any circumstances, please set spark.sql.streaming.forceDeleteTempCheckpointLocation to true. Important to know deleting temp checkpoint folder is best effort.\n"
     ]
    }
   ],
   "source": [
    "# Query\n",
    "\n",
    "activityQuery = (\n",
    "    user_count.writeStream.\n",
    "    queryName('user_count').\n",
    "    format('memory').\n",
    "    outputMode('complete').\n",
    "    start()\n",
    "    \n",
    ")"
   ]
  },
  {
   "cell_type": "code",
   "execution_count": 14,
   "id": "3af0b126",
   "metadata": {},
   "outputs": [
    {
     "name": "stderr",
     "output_type": "stream",
     "text": [
      "                                                                                \r"
     ]
    },
    {
     "name": "stdout",
     "output_type": "stream",
     "text": [
      "+-------+-----+\n",
      "|user_id|count|\n",
      "+-------+-----+\n",
      "|   null| 1156|\n",
      "|     12|    4|\n",
      "|     13|    4|\n",
      "|     16|    4|\n",
      "|     19|    4|\n",
      "|     15|    4|\n",
      "|     17|    4|\n",
      "|     10|    4|\n",
      "|     11|    4|\n",
      "|     14|    4|\n",
      "+-------+-----+\n",
      "only showing top 10 rows\n",
      "\n",
      "+-------+-----+\n",
      "|user_id|count|\n",
      "+-------+-----+\n",
      "|   null| 1156|\n",
      "|     12|    4|\n",
      "|     13|    4|\n",
      "|     16|    4|\n",
      "|     19|    4|\n",
      "|     15|    4|\n",
      "|     17|    4|\n",
      "|     10|    4|\n",
      "|     11|    4|\n",
      "|     14|    4|\n",
      "+-------+-----+\n",
      "only showing top 10 rows\n",
      "\n",
      "+-------+-----+\n",
      "|user_id|count|\n",
      "+-------+-----+\n",
      "|   null| 1156|\n",
      "|     12|    4|\n",
      "|     13|    4|\n",
      "|     16|    4|\n",
      "|     19|    4|\n",
      "|     15|    4|\n",
      "|     17|    4|\n",
      "|     10|    4|\n",
      "|     11|    4|\n",
      "|     14|    4|\n",
      "+-------+-----+\n",
      "only showing top 10 rows\n",
      "\n",
      "+-------+-----+\n",
      "|user_id|count|\n",
      "+-------+-----+\n",
      "|   null| 1156|\n",
      "|     12|    4|\n",
      "|     13|    4|\n",
      "|     16|    4|\n",
      "|     19|    4|\n",
      "|     15|    4|\n",
      "|     17|    4|\n",
      "|     10|    4|\n",
      "|     11|    4|\n",
      "|     14|    4|\n",
      "+-------+-----+\n",
      "only showing top 10 rows\n",
      "\n",
      "+-------+-----+\n",
      "|user_id|count|\n",
      "+-------+-----+\n",
      "|   null| 1156|\n",
      "|     12|    4|\n",
      "|     13|    4|\n",
      "|     16|    4|\n",
      "|     19|    4|\n",
      "|     15|    4|\n",
      "|     17|    4|\n",
      "|     10|    4|\n",
      "|     11|    4|\n",
      "|     14|    4|\n",
      "+-------+-----+\n",
      "only showing top 10 rows\n",
      "\n",
      "+-------+-----+\n",
      "|user_id|count|\n",
      "+-------+-----+\n",
      "|   null| 1156|\n",
      "|     12|    4|\n",
      "|     13|    4|\n",
      "|     16|    4|\n",
      "|     19|    4|\n",
      "|     15|    4|\n",
      "|     17|    4|\n",
      "|     10|    4|\n",
      "|     11|    4|\n",
      "|     14|    4|\n",
      "+-------+-----+\n",
      "only showing top 10 rows\n",
      "\n",
      "+-------+-----+\n",
      "|user_id|count|\n",
      "+-------+-----+\n",
      "|   null| 1156|\n",
      "|     12|    4|\n",
      "|     13|    4|\n",
      "|     16|    4|\n",
      "|     19|    4|\n",
      "|     15|    4|\n",
      "|     17|    4|\n",
      "|     10|    4|\n",
      "|     11|    4|\n",
      "|     14|    4|\n",
      "+-------+-----+\n",
      "only showing top 10 rows\n",
      "\n",
      "+-------+-----+\n",
      "|user_id|count|\n",
      "+-------+-----+\n",
      "|   null| 1156|\n",
      "|     12|    4|\n",
      "|     13|    4|\n",
      "|     16|    4|\n",
      "|     19|    4|\n",
      "|     15|    4|\n",
      "|     17|    4|\n",
      "|     10|    4|\n",
      "|     11|    4|\n",
      "|     14|    4|\n",
      "+-------+-----+\n",
      "only showing top 10 rows\n",
      "\n",
      "+-------+-----+\n",
      "|user_id|count|\n",
      "+-------+-----+\n",
      "|   null| 1156|\n",
      "|     12|    4|\n",
      "|     13|    4|\n",
      "|     16|    4|\n",
      "|     19|    4|\n",
      "|     15|    4|\n",
      "|     17|    4|\n",
      "|     10|    4|\n",
      "|     11|    4|\n",
      "|     14|    4|\n",
      "+-------+-----+\n",
      "only showing top 10 rows\n",
      "\n"
     ]
    }
   ],
   "source": [
    "import time \n",
    "\n",
    "for x in range(10):\n",
    "    df = spark.sql('SELECT * FROM user_count')\n",
    "    if df.count()>0:\n",
    "        df.show(10)\n",
    "    time.sleep(5)"
   ]
  },
  {
   "cell_type": "code",
   "execution_count": 15,
   "id": "7d60693d",
   "metadata": {},
   "outputs": [
    {
     "ename": "NameError",
     "evalue": "name 'file' is not defined",
     "output_type": "error",
     "traceback": [
      "\u001b[0;31m---------------------------------------------------------------------------\u001b[0m",
      "\u001b[0;31mNameError\u001b[0m                                 Traceback (most recent call last)",
      "\u001b[0;32m/tmp/ipykernel_22934/579102598.py\u001b[0m in \u001b[0;36m<module>\u001b[0;34m\u001b[0m\n\u001b[0;32m----> 1\u001b[0;31m \u001b[0mfile\u001b[0m\u001b[0;34m.\u001b[0m\u001b[0mstop\u001b[0m\u001b[0;34m(\u001b[0m\u001b[0;34m)\u001b[0m\u001b[0;34m\u001b[0m\u001b[0;34m\u001b[0m\u001b[0m\n\u001b[0m",
      "\u001b[0;31mNameError\u001b[0m: name 'file' is not defined"
     ]
    }
   ],
   "source": [
    "file.stop()"
   ]
  },
  {
   "cell_type": "code",
   "execution_count": 7,
   "id": "434edcbb",
   "metadata": {},
   "outputs": [
    {
     "ename": "NameError",
     "evalue": "name 'activityQuery' is not defined",
     "output_type": "error",
     "traceback": [
      "\u001b[0;31m---------------------------------------------------------------------------\u001b[0m",
      "\u001b[0;31mNameError\u001b[0m                                 Traceback (most recent call last)",
      "\u001b[0;32m/tmp/ipykernel_22934/736987239.py\u001b[0m in \u001b[0;36m<module>\u001b[0;34m\u001b[0m\n\u001b[0;32m----> 1\u001b[0;31m \u001b[0mactivityQuery\u001b[0m\u001b[0;34m.\u001b[0m\u001b[0mstop\u001b[0m\u001b[0;34m(\u001b[0m\u001b[0;34m)\u001b[0m\u001b[0;34m\u001b[0m\u001b[0;34m\u001b[0m\u001b[0m\n\u001b[0m",
      "\u001b[0;31mNameError\u001b[0m: name 'activityQuery' is not defined"
     ]
    }
   ],
   "source": [
    "activityQuery.stop()"
   ]
  },
  {
   "cell_type": "code",
   "execution_count": null,
   "id": "319850b5",
   "metadata": {},
   "outputs": [],
   "source": []
  },
  {
   "cell_type": "code",
   "execution_count": null,
   "id": "fa2429fd",
   "metadata": {},
   "outputs": [],
   "source": []
  },
  {
   "cell_type": "code",
   "execution_count": null,
   "id": "415cb69e",
   "metadata": {},
   "outputs": [],
   "source": []
  }
 ],
 "metadata": {
  "kernelspec": {
   "display_name": "Python 3 (ipykernel)",
   "language": "python",
   "name": "python3"
  },
  "language_info": {
   "codemirror_mode": {
    "name": "ipython",
    "version": 3
   },
   "file_extension": ".py",
   "mimetype": "text/x-python",
   "name": "python",
   "nbconvert_exporter": "python",
   "pygments_lexer": "ipython3",
   "version": "3.7.13"
  }
 },
 "nbformat": 4,
 "nbformat_minor": 5
}
